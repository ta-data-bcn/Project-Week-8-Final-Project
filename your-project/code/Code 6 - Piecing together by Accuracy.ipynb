{
 "cells": [
  {
   "cell_type": "markdown",
   "metadata": {},
   "source": [
    "## Creating new Model by Algorithm's Accuracy"
   ]
  },
  {
   "cell_type": "code",
   "execution_count": 1,
   "metadata": {},
   "outputs": [],
   "source": [
    "import pandas as pd\n",
    "import numpy as np\n",
    "import re\n",
    "import random"
   ]
  },
  {
   "cell_type": "code",
   "execution_count": 19,
   "metadata": {},
   "outputs": [],
   "source": [
    "import seaborn as sns\n",
    "import matplotlib.pyplot as plt\n",
    "\n",
    "from sklearn.model_selection import train_test_split, cross_val_score\n",
    "from sklearn.model_selection import cross_validate\n",
    "from sklearn.model_selection import StratifiedKFold\n",
    "from sklearn.linear_model import LogisticRegression\n",
    "from sklearn.model_selection import learning_curve\n",
    "from sklearn.ensemble import ExtraTreesClassifier\n",
    "from sklearn.decomposition import TruncatedSVD\n",
    "from sklearn.feature_extraction.text import TfidfVectorizer, CountVectorizer\n",
    "from sklearn.pipeline import Pipeline\n",
    "from sklearn.naive_bayes import MultinomialNB\n",
    "from sklearn.metrics import classification_report\n",
    "from sklearn.metrics import confusion_matrix, accuracy_score, roc_auc_score, roc_curve"
   ]
  },
  {
   "cell_type": "code",
   "execution_count": 11,
   "metadata": {},
   "outputs": [],
   "source": [
    "data = pd.read_csv(r'../data/personalities_cleaned.csv')"
   ]
  },
  {
   "cell_type": "code",
   "execution_count": 12,
   "metadata": {},
   "outputs": [],
   "source": [
    "data['I-E'] = data['type'].astype(str).str[0]\n",
    "data['N-S'] = data['type'].astype(str).str[1]\n",
    "data['T-F'] = data['type'].astype(str).str[2]\n",
    "data['J-P'] = data['type'].astype(str).str[3]"
   ]
  },
  {
   "cell_type": "code",
   "execution_count": 13,
   "metadata": {},
   "outputs": [],
   "source": [
    "data = data.drop(columns = ['Unnamed: 0', 'posts', 'text_processed'])\n",
    "data.drop(data.index[3559], inplace=True)"
   ]
  },
  {
   "cell_type": "code",
   "execution_count": 14,
   "metadata": {},
   "outputs": [
    {
     "data": {
      "text/html": [
       "<div>\n",
       "<style scoped>\n",
       "    .dataframe tbody tr th:only-of-type {\n",
       "        vertical-align: middle;\n",
       "    }\n",
       "\n",
       "    .dataframe tbody tr th {\n",
       "        vertical-align: top;\n",
       "    }\n",
       "\n",
       "    .dataframe thead th {\n",
       "        text-align: right;\n",
       "    }\n",
       "</style>\n",
       "<table border=\"1\" class=\"dataframe\">\n",
       "  <thead>\n",
       "    <tr style=\"text-align: right;\">\n",
       "      <th></th>\n",
       "      <th>type</th>\n",
       "      <th>text_ready</th>\n",
       "      <th>I-E</th>\n",
       "      <th>N-S</th>\n",
       "      <th>T-F</th>\n",
       "      <th>J-P</th>\n",
       "    </tr>\n",
       "  </thead>\n",
       "  <tbody>\n",
       "    <tr>\n",
       "      <th>0</th>\n",
       "      <td>INFJ</td>\n",
       "      <td>intj moment sportscent top ten play prank ha l...</td>\n",
       "      <td>I</td>\n",
       "      <td>N</td>\n",
       "      <td>F</td>\n",
       "      <td>J</td>\n",
       "    </tr>\n",
       "    <tr>\n",
       "      <th>1</th>\n",
       "      <td>ENTP</td>\n",
       "      <td>find lack post veri alarm sex bore posit often...</td>\n",
       "      <td>E</td>\n",
       "      <td>N</td>\n",
       "      <td>T</td>\n",
       "      <td>P</td>\n",
       "    </tr>\n",
       "    <tr>\n",
       "      <th>2</th>\n",
       "      <td>INTP</td>\n",
       "      <td>good one cours say know bless cur doe absolut ...</td>\n",
       "      <td>I</td>\n",
       "      <td>N</td>\n",
       "      <td>T</td>\n",
       "      <td>P</td>\n",
       "    </tr>\n",
       "    <tr>\n",
       "      <th>3</th>\n",
       "      <td>INTJ</td>\n",
       "      <td>dear intp enjoy convers day esoter gab natur u...</td>\n",
       "      <td>I</td>\n",
       "      <td>N</td>\n",
       "      <td>T</td>\n",
       "      <td>J</td>\n",
       "    </tr>\n",
       "    <tr>\n",
       "      <th>4</th>\n",
       "      <td>ENTJ</td>\n",
       "      <td>fire anoth silli misconcept approach logic go ...</td>\n",
       "      <td>E</td>\n",
       "      <td>N</td>\n",
       "      <td>T</td>\n",
       "      <td>J</td>\n",
       "    </tr>\n",
       "  </tbody>\n",
       "</table>\n",
       "</div>"
      ],
      "text/plain": [
       "   type                                         text_ready I-E N-S T-F J-P\n",
       "0  INFJ  intj moment sportscent top ten play prank ha l...   I   N   F   J\n",
       "1  ENTP  find lack post veri alarm sex bore posit often...   E   N   T   P\n",
       "2  INTP  good one cours say know bless cur doe absolut ...   I   N   T   P\n",
       "3  INTJ  dear intp enjoy convers day esoter gab natur u...   I   N   T   J\n",
       "4  ENTJ  fire anoth silli misconcept approach logic go ...   E   N   T   J"
      ]
     },
     "execution_count": 14,
     "metadata": {},
     "output_type": "execute_result"
    }
   ],
   "source": [
    "data.head()"
   ]
  },
  {
   "cell_type": "code",
   "execution_count": 15,
   "metadata": {},
   "outputs": [],
   "source": [
    "x = data['text_ready']\n",
    "\n",
    "y_IE = data['I-E']\n",
    "y_NS = data['N-S']\n",
    "y_TF = data['T-F']\n",
    "y_JP = data['J-P']"
   ]
  },
  {
   "cell_type": "code",
   "execution_count": 16,
   "metadata": {},
   "outputs": [],
   "source": [
    "from sklearn.feature_extraction.text import CountVectorizer\n",
    "\n",
    "vector = CountVectorizer(ngram_range=(2, 2)).fit(x) \n",
    "X = vector.transform(x)"
   ]
  },
  {
   "cell_type": "code",
   "execution_count": 17,
   "metadata": {},
   "outputs": [],
   "source": [
    "from sklearn.model_selection import train_test_split, cross_val_score"
   ]
  },
  {
   "cell_type": "code",
   "execution_count": 21,
   "metadata": {},
   "outputs": [
    {
     "name": "stdout",
     "output_type": "stream",
     "text": [
      "I-E RESULTS\n",
      "Label I-E train score is : 0.7685545467646635\n",
      "Label I-E test score is : 0.7685545467646635\n",
      "Confusion Matrix for K-Nearest Neighbors:\n",
      "[[   0  393]\n",
      " [   0 1342]]\n",
      "Score: 77.35\n",
      "Classification Report:               precision    recall  f1-score   support\n",
      "\n",
      "           E       0.00      0.00      0.00       393\n",
      "           I       0.77      1.00      0.87      1342\n",
      "\n",
      "    accuracy                           0.77      1735\n",
      "   macro avg       0.39      0.50      0.44      1735\n",
      "weighted avg       0.60      0.77      0.67      1735\n",
      "\n",
      "****************************************************************************************************\n"
     ]
    },
    {
     "name": "stderr",
     "output_type": "stream",
     "text": [
      "/usr/local/Cellar/jupyterlab/1.2.4/libexec/lib/python3.7/site-packages/sklearn/metrics/_classification.py:1272: UndefinedMetricWarning: Precision and F-score are ill-defined and being set to 0.0 in labels with no predicted samples. Use `zero_division` parameter to control this behavior.\n",
      "  _warn_prf(average, modifier, msg_start, len(result))\n"
     ]
    },
    {
     "name": "stdout",
     "output_type": "stream",
     "text": [
      "N-S RESULTS\n",
      "Label N-S train score is : 0.8617956477878657\n",
      "Label N-S test score is : 0.8617956477878657\n",
      "Confusion Matrix for Random Forests:\n",
      "[[1497    0]\n",
      " [ 238    0]]\n",
      "Score: 86.28\n",
      "Classification Report:               precision    recall  f1-score   support\n",
      "\n",
      "           N       0.86      1.00      0.93      1497\n",
      "           S       0.00      0.00      0.00       238\n",
      "\n",
      "    accuracy                           0.86      1735\n",
      "   macro avg       0.43      0.50      0.46      1735\n",
      "weighted avg       0.74      0.86      0.80      1735\n",
      "\n",
      "****************************************************************************************************\n"
     ]
    },
    {
     "name": "stderr",
     "output_type": "stream",
     "text": [
      "/usr/local/Cellar/jupyterlab/1.2.4/libexec/lib/python3.7/site-packages/sklearn/metrics/_classification.py:1272: UndefinedMetricWarning: Precision and F-score are ill-defined and being set to 0.0 in labels with no predicted samples. Use `zero_division` parameter to control this behavior.\n",
      "  _warn_prf(average, modifier, msg_start, len(result))\n"
     ]
    },
    {
     "name": "stdout",
     "output_type": "stream",
     "text": [
      "T-F Results\n",
      "Label T-F train score is : 1.0\n",
      "Label T-F test score is : 1.0\n",
      "Confusion Matrix for Multinomial Naive Bayes:\n",
      "[[895  65]\n",
      " [363 412]]\n",
      "Score: 75.33\n",
      "Classification Report:               precision    recall  f1-score   support\n",
      "\n",
      "           F       0.71      0.93      0.81       960\n",
      "           T       0.86      0.53      0.66       775\n",
      "\n",
      "    accuracy                           0.75      1735\n",
      "   macro avg       0.79      0.73      0.73      1735\n",
      "weighted avg       0.78      0.75      0.74      1735\n",
      "\n",
      "****************************************************************************************************\n",
      "J-P Results\n",
      "Label J-P train score is : 1.0\n",
      "Label J-P test score is : 1.0\n",
      "Confusion Matrix for Multinomial Naive Bayes:\n",
      "[[311 369]\n",
      " [193 862]]\n",
      "Score: 67.61\n",
      "Classification Report:               precision    recall  f1-score   support\n",
      "\n",
      "           J       0.62      0.46      0.53       680\n",
      "           P       0.70      0.82      0.75      1055\n",
      "\n",
      "    accuracy                           0.68      1735\n",
      "   macro avg       0.66      0.64      0.64      1735\n",
      "weighted avg       0.67      0.68      0.66      1735\n",
      "\n",
      "****************************************************************************************************\n"
     ]
    }
   ],
   "source": [
    "# making the model according to Accuracies in Code \n",
    "\n",
    "from sklearn.neighbors import KNeighborsClassifier\n",
    "knn = KNeighborsClassifier(n_neighbors=9) # see if can tweak accuracy\n",
    "\n",
    "from sklearn.ensemble import RandomForestClassifier\n",
    "rfn = RandomForestClassifier(max_depth=5, random_state=0) # see if can tweak accuracy\n",
    "\n",
    "from sklearn.naive_bayes import MultinomialNB\n",
    "mnb = MultinomialNB()\n",
    "\n",
    "\n",
    "\n",
    "# IE\n",
    "x_train, x_test, y_train, y_test = train_test_split(X, y_IE, test_size=0.2, random_state=10)\n",
    "knn.fit(x_train, y_train)\n",
    "ieb_train = knn.score (x_train,y_train)\n",
    "ieb_test = knn.score (x_train,y_train)\n",
    "predknn = knn.predict(x_test)\n",
    "print(\"I-E RESULTS\")\n",
    "print('Label I-E train score is :',ieb_train)\n",
    "print('Label I-E test score is :',ieb_test)\n",
    "print(\"Confusion Matrix for K-Nearest Neighbors:\")\n",
    "print(confusion_matrix(y_test,predknn))\n",
    "print(\"Score:\",round(accuracy_score(y_test,predknn)*100,2))\n",
    "print(\"Classification Report:\",classification_report(y_test,predknn))\n",
    "print(\"*\" * 100)\n",
    "\n",
    "# NS\n",
    "x_train, x_test, y_train, y_test = train_test_split(X, y_NS, test_size=0.2, random_state=10)\n",
    "rfn.fit(x_train, y_train)\n",
    "nsb_train = rfn.score (x_train,y_train)\n",
    "nsb_test = rfn.score (x_train,y_train)\n",
    "predrfn = rfn.predict(x_test)\n",
    "print(\"N-S RESULTS\")\n",
    "print('Label N-S train score is :',nsb_train)\n",
    "print('Label N-S test score is :',nsb_test)\n",
    "print(\"Confusion Matrix for Random Forests:\")\n",
    "print(confusion_matrix(y_test,predrfn))\n",
    "print(\"Score:\",round(accuracy_score(y_test,predrfn)*100,2))\n",
    "print(\"Classification Report:\",classification_report(y_test,predrfn))\n",
    "print(\"*\" * 100)\n",
    "\n",
    "# TF\n",
    "x_train, x_test, y_train, y_test = train_test_split(X, y_TF, test_size=0.2, random_state=10)\n",
    "mnb.fit(x_train, y_train)\n",
    "tfb_train = mnb.score (x_train,y_train)\n",
    "tfb_test = mnb.score (x_train,y_train)\n",
    "predmnb = mnb.predict(x_test)\n",
    "print(\"T-F Results\")\n",
    "print('Label T-F train score is :',tfb_train)\n",
    "print('Label T-F test score is :',tfb_test)\n",
    "print(\"Confusion Matrix for Multinomial Naive Bayes:\")\n",
    "print(confusion_matrix(y_test,predmnb))\n",
    "print(\"Score:\",round(accuracy_score(y_test,predmnb)*100,2))\n",
    "print(\"Classification Report:\",classification_report(y_test,predmnb))\n",
    "print(\"*\" * 100)\n",
    "\n",
    "# JP\n",
    "x_train, x_test, y_train, y_test = train_test_split(X, y_JP, test_size=0.2, random_state=10)\n",
    "mnb.fit(x_train, y_train)\n",
    "jpb_train = mnb.score (x_train,y_train)\n",
    "jpb_test = mnb.score (x_train,y_train)\n",
    "predmnb = mnb.predict(x_test)\n",
    "print(\"J-P Results\")\n",
    "print('Label J-P train score is :',jpb_train)\n",
    "print('Label J-P test score is :',jpb_test)\n",
    "print(\"Confusion Matrix for Multinomial Naive Bayes:\")\n",
    "print(confusion_matrix(y_test,predmnb))\n",
    "print(\"Score:\",round(accuracy_score(y_test,predmnb)*100,2))\n",
    "print(\"Classification Report:\",classification_report(y_test,predmnb))\n",
    "print(\"*\" * 100)"
   ]
  },
  {
   "cell_type": "code",
   "execution_count": null,
   "metadata": {},
   "outputs": [],
   "source": []
  },
  {
   "cell_type": "code",
   "execution_count": null,
   "metadata": {},
   "outputs": [],
   "source": []
  },
  {
   "cell_type": "code",
   "execution_count": null,
   "metadata": {},
   "outputs": [],
   "source": []
  },
  {
   "cell_type": "code",
   "execution_count": null,
   "metadata": {},
   "outputs": [],
   "source": []
  },
  {
   "cell_type": "code",
   "execution_count": null,
   "metadata": {},
   "outputs": [],
   "source": []
  }
 ],
 "metadata": {
  "kernelspec": {
   "display_name": "Python 3",
   "language": "python",
   "name": "python3"
  },
  "language_info": {
   "codemirror_mode": {
    "name": "ipython",
    "version": 3
   },
   "file_extension": ".py",
   "mimetype": "text/x-python",
   "name": "python",
   "nbconvert_exporter": "python",
   "pygments_lexer": "ipython3",
   "version": "3.7.6"
  }
 },
 "nbformat": 4,
 "nbformat_minor": 2
}
