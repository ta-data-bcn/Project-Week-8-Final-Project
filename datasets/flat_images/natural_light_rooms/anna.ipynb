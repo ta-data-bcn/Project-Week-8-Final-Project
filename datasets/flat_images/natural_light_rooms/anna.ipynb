{
 "cells": [
  {
   "cell_type": "code",
   "execution_count": 1,
   "metadata": {},
   "outputs": [],
   "source": [
    "def bright_or_not(img_name):\n",
    "    # returns the fraction of bright pixels\n",
    "    import cv2\n",
    "    import numpy as np\n",
    "    nr_pixels_white = 0\n",
    "    \n",
    "    img = cv2.imread(img_name)\n",
    "    gray = cv2.cvtColor(img,cv2.COLOR_BGR2GRAY)\n",
    "    retval, threshold1 = cv2.threshold(gray, 170, 255, cv2.THRESH_BINARY)\n",
    "    cv2.imshow('title',threshold1)\n",
    "\n",
    "    # set 255 to 1\n",
    "    threshold1[threshold1==255] = 1\n",
    "    nr_pixels_white = threshold1.sum()\n",
    "    nr_pixels    = threshold1.shape[0]*threshold1.shape[1]\n",
    "\n",
    "    brightness = nr_pixels_white / nr_pixels\n",
    "\n",
    "    print(img_name+' Brightness = ' + str(brightness))\n",
    "    \n",
    "    cv2.waitKey()\n",
    "    return brightness\n"
   ]
  },
  {
   "cell_type": "code",
   "execution_count": null,
   "metadata": {},
   "outputs": [
    {
     "name": "stdout",
     "output_type": "stream",
     "text": [
      "natural_light_room_6.jpeg Brightness = 0.6506958333333334\n"
     ]
    }
   ],
   "source": [
    "bright_or_not('natural_light_room_6.jpeg')"
   ]
  },
  {
   "cell_type": "code",
   "execution_count": 1,
   "metadata": {},
   "outputs": [],
   "source": [
    "def bright_or_not_2(img_name):\n",
    "    # returns the fraction of bright pixels\n",
    "    \n",
    "    #import libraries\n",
    "    import cv2\n",
    "    import numpy as np\n",
    "    import pandas as pd\n",
    "    \n",
    "    brightness_score_list = []\n",
    "    image_list = []\n",
    "    \n",
    "    nr_pixels_white = 0\n",
    "    \n",
    "    img = cv2.imread(img_name)\n",
    "    gray = cv2.cvtColor(img,cv2.COLOR_BGR2GRAY)\n",
    "    retval, threshold1 = cv2.threshold(gray, 170, 255, cv2.THRESH_BINARY)\n",
    "    cv2.imshow('title',threshold1)\n",
    "\n",
    "    # set 255 to 1\n",
    "    threshold1[threshold1==255] = 1\n",
    "    nr_pixels_white = threshold1.sum()\n",
    "    nr_pixels    = threshold1.shape[0]*threshold1.shape[1]\n",
    "\n",
    "    brightness = nr_pixels_white / nr_pixels\n",
    "\n",
    "    #print(img_name, brightness)\n",
    "    brightness_score_list.append(brightness)\n",
    "    image_list.append(img_name)\n",
    "    \n",
    "    \n",
    "    cv2.waitKey()\n",
    "    return brightness,image_list,brightness_score_list"
   ]
  },
  {
   "cell_type": "code",
   "execution_count": null,
   "metadata": {},
   "outputs": [],
   "source": [
    "bright_or_not_2('natural_light_room_6.jpeg')"
   ]
  },
  {
   "cell_type": "code",
   "execution_count": 1,
   "metadata": {
    "scrolled": true
   },
   "outputs": [
    {
     "name": "stdout",
     "output_type": "stream",
     "text": [
      "anna.ipynb                 natural_light_room_5.jpeg\r\n",
      "brightness_score.ipynb     natural_light_room_6.jpeg\r\n",
      "natural_light_room_1.jpeg  natural_light_room_7.jpeg\r\n",
      "natural_light_room_10.jpeg natural_light_room_8.jpeg\r\n",
      "natural_light_room_2.jpeg  natural_light_room_9.jpeg\r\n",
      "natural_light_room_4.jpeg\r\n"
     ]
    }
   ],
   "source": [
    "!ls\n"
   ]
  },
  {
   "cell_type": "code",
   "execution_count": 5,
   "metadata": {},
   "outputs": [
    {
     "ename": "NameError",
     "evalue": "name 'bright_or_not' is not defined",
     "output_type": "error",
     "traceback": [
      "\u001b[0;31m---------------------------------------------------------------------------\u001b[0m",
      "\u001b[0;31mNameError\u001b[0m                                 Traceback (most recent call last)",
      "\u001b[0;32m<ipython-input-5-29b19b96c4ed>\u001b[0m in \u001b[0;36m<module>\u001b[0;34m\u001b[0m\n\u001b[1;32m      2\u001b[0m \u001b[0;34m\u001b[0m\u001b[0m\n\u001b[1;32m      3\u001b[0m \u001b[0;32mfor\u001b[0m \u001b[0mfile\u001b[0m \u001b[0;32min\u001b[0m \u001b[0mfiles\u001b[0m\u001b[0;34m:\u001b[0m\u001b[0;34m\u001b[0m\u001b[0;34m\u001b[0m\u001b[0m\n\u001b[0;32m----> 4\u001b[0;31m     \u001b[0mbright_or_not\u001b[0m\u001b[0;34m(\u001b[0m\u001b[0mfile\u001b[0m\u001b[0;34m)\u001b[0m\u001b[0;34m\u001b[0m\u001b[0;34m\u001b[0m\u001b[0m\n\u001b[0m\u001b[1;32m      5\u001b[0m \u001b[0mprint\u001b[0m\u001b[0;34m(\u001b[0m\u001b[0mfile\u001b[0m\u001b[0;34m)\u001b[0m\u001b[0;34m\u001b[0m\u001b[0;34m\u001b[0m\u001b[0m\n\u001b[1;32m      6\u001b[0m \u001b[0;34m\u001b[0m\u001b[0m\n",
      "\u001b[0;31mNameError\u001b[0m: name 'bright_or_not' is not defined"
     ]
    }
   ],
   "source": [
    "files = ['natural_light_room_1.jpeg', 'natural_light_room_2.jpeg', 'natural_light_room_3.jpeg', 'natural_light_room_4.jpeg', 'natural_light_room_5.jpeg', 'natural_light_room_6.jpeg','natural_light_room_7.jpeg', 'natural_light_room_8.jpeg', 'natural_light_room_9.jpeg','natural_light_room_10.jpeg']\n",
    "\n",
    "for file in files:\n",
    "    bright_or_not(file)\n",
    "print(file)    \n",
    "    \n",
    "\n"
   ]
  },
  {
   "cell_type": "code",
   "execution_count": null,
   "metadata": {},
   "outputs": [],
   "source": [
    "#bright_or_not('img.jpg')\n"
   ]
  },
  {
   "cell_type": "code",
   "execution_count": null,
   "metadata": {},
   "outputs": [],
   "source": []
  }
 ],
 "metadata": {
  "kernelspec": {
   "display_name": "Python 3",
   "language": "python",
   "name": "python3"
  },
  "language_info": {
   "codemirror_mode": {
    "name": "ipython",
    "version": 3
   },
   "file_extension": ".py",
   "mimetype": "text/x-python",
   "name": "python",
   "nbconvert_exporter": "python",
   "pygments_lexer": "ipython3",
   "version": "3.8.1"
  }
 },
 "nbformat": 4,
 "nbformat_minor": 2
}
