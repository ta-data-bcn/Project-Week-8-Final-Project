{
 "cells": [
  {
   "cell_type": "markdown",
   "metadata": {},
   "source": [
    "## General NLP"
   ]
  },
  {
   "cell_type": "code",
   "execution_count": 33,
   "metadata": {},
   "outputs": [],
   "source": [
    "import pandas as pd\n",
    "import numpy as np\n",
    "import seaborn as sns\n",
    "import matplotlib.pyplot as plt\n",
    "import re\n",
    "\n",
    "import nltk\n",
    "from nltk.stem import PorterStemmer\n",
    "from nltk.stem import SnowballStemmer\n",
    "from nltk import wordnet\n",
    "from nltk.corpus import stopwords\n",
    "from nltk.sentiment.vader import SentimentIntensityAnalyzer\n",
    "from sklearn.model_selection import train_test_split, cross_val_score\n",
    "from sklearn.metrics import classification_report\n",
    "from sklearn.metrics import confusion_matrix, accuracy_score, roc_auc_score, roc_curve"
   ]
  },
  {
   "cell_type": "code",
   "execution_count": 12,
   "metadata": {},
   "outputs": [
    {
     "data": {
      "text/html": [
       "<div>\n",
       "<style scoped>\n",
       "    .dataframe tbody tr th:only-of-type {\n",
       "        vertical-align: middle;\n",
       "    }\n",
       "\n",
       "    .dataframe tbody tr th {\n",
       "        vertical-align: top;\n",
       "    }\n",
       "\n",
       "    .dataframe thead th {\n",
       "        text-align: right;\n",
       "    }\n",
       "</style>\n",
       "<table border=\"1\" class=\"dataframe\">\n",
       "  <thead>\n",
       "    <tr style=\"text-align: right;\">\n",
       "      <th></th>\n",
       "      <th>type</th>\n",
       "      <th>posts</th>\n",
       "    </tr>\n",
       "  </thead>\n",
       "  <tbody>\n",
       "    <tr>\n",
       "      <th>0</th>\n",
       "      <td>INFJ</td>\n",
       "      <td>'http://www.youtube.com/watch?v=qsXHcwe3krw|||...</td>\n",
       "    </tr>\n",
       "    <tr>\n",
       "      <th>1</th>\n",
       "      <td>ENTP</td>\n",
       "      <td>'I'm finding the lack of me in these posts ver...</td>\n",
       "    </tr>\n",
       "    <tr>\n",
       "      <th>2</th>\n",
       "      <td>INTP</td>\n",
       "      <td>'Good one  _____   https://www.youtube.com/wat...</td>\n",
       "    </tr>\n",
       "    <tr>\n",
       "      <th>3</th>\n",
       "      <td>INTJ</td>\n",
       "      <td>'Dear INTP,   I enjoyed our conversation the o...</td>\n",
       "    </tr>\n",
       "    <tr>\n",
       "      <th>4</th>\n",
       "      <td>ENTJ</td>\n",
       "      <td>'You're fired.|||That's another silly misconce...</td>\n",
       "    </tr>\n",
       "  </tbody>\n",
       "</table>\n",
       "</div>"
      ],
      "text/plain": [
       "   type                                              posts\n",
       "0  INFJ  'http://www.youtube.com/watch?v=qsXHcwe3krw|||...\n",
       "1  ENTP  'I'm finding the lack of me in these posts ver...\n",
       "2  INTP  'Good one  _____   https://www.youtube.com/wat...\n",
       "3  INTJ  'Dear INTP,   I enjoyed our conversation the o...\n",
       "4  ENTJ  'You're fired.|||That's another silly misconce..."
      ]
     },
     "execution_count": 12,
     "metadata": {},
     "output_type": "execute_result"
    }
   ],
   "source": [
    "data = pd.read_csv(r'../data/mbti_1.csv')\n",
    "data.head()"
   ]
  },
  {
   "cell_type": "code",
   "execution_count": 13,
   "metadata": {},
   "outputs": [],
   "source": [
    "def processed(x):\n",
    "    pattern = r'''(?i)\\b((?:https?://|www\\d{0,3}[.]|[a-z0-9.\\-]+[.][a-z]{2,4}/)(?:[^\\s()<>]+|\\(([^\\s()<>]+|(\\([^\\s()<>]+\\)))*\\))+(?:\\(([^\\s()<>]+|(\\([^\\s()<>]+\\)))*\\)|[^\\s`!()\\[\\]{};:'\".,<>?«»“”‘’]))'''\n",
    "    cleaned = re.sub(pattern, ' ', str(x)) \n",
    "    cleaned = re.sub(r\"[^A-Za-z0-9]+\", \" \", cleaned)\n",
    "    cleaned = re.sub(\" \\d+\", \" \", cleaned)\n",
    "    cleaned = cleaned.lower().strip()\n",
    "\n",
    "    pattern2 = '\\w{1,}'\n",
    "    bag = re.findall(pattern2, cleaned)\n",
    "\n",
    "    porter = PorterStemmer()\n",
    "    porter_bag = [porter.stem(word) for word in bag]\n",
    "\n",
    "    lemmatizer = wordnet.WordNetLemmatizer()\n",
    "    bag_of_words = [lemmatizer.lemmatize(word) for word in porter_bag]\n",
    "\n",
    "    stopwords_e = stopwords.words('english')\n",
    "    bag_of_words = [word for word in bag_of_words if word not in stopwords_e]\n",
    "\n",
    "    return bag_of_words"
   ]
  },
  {
   "cell_type": "code",
   "execution_count": 14,
   "metadata": {},
   "outputs": [],
   "source": [
    "text_processed = [processed(i) for i in data.posts]"
   ]
  },
  {
   "cell_type": "code",
   "execution_count": 15,
   "metadata": {},
   "outputs": [],
   "source": [
    "data['text_processed'] = text_processed"
   ]
  },
  {
   "cell_type": "code",
   "execution_count": 16,
   "metadata": {},
   "outputs": [
    {
     "data": {
      "text/html": [
       "<div>\n",
       "<style scoped>\n",
       "    .dataframe tbody tr th:only-of-type {\n",
       "        vertical-align: middle;\n",
       "    }\n",
       "\n",
       "    .dataframe tbody tr th {\n",
       "        vertical-align: top;\n",
       "    }\n",
       "\n",
       "    .dataframe thead th {\n",
       "        text-align: right;\n",
       "    }\n",
       "</style>\n",
       "<table border=\"1\" class=\"dataframe\">\n",
       "  <thead>\n",
       "    <tr style=\"text-align: right;\">\n",
       "      <th></th>\n",
       "      <th>type</th>\n",
       "      <th>posts</th>\n",
       "      <th>text_processed</th>\n",
       "    </tr>\n",
       "  </thead>\n",
       "  <tbody>\n",
       "    <tr>\n",
       "      <th>0</th>\n",
       "      <td>INFJ</td>\n",
       "      <td>'http://www.youtube.com/watch?v=qsXHcwe3krw|||...</td>\n",
       "      <td>[intj, moment, sportscent, top, ten, play, pra...</td>\n",
       "    </tr>\n",
       "    <tr>\n",
       "      <th>1</th>\n",
       "      <td>ENTP</td>\n",
       "      <td>'I'm finding the lack of me in these posts ver...</td>\n",
       "      <td>[find, lack, post, veri, alarm, sex, bore, pos...</td>\n",
       "    </tr>\n",
       "    <tr>\n",
       "      <th>2</th>\n",
       "      <td>INTP</td>\n",
       "      <td>'Good one  _____   https://www.youtube.com/wat...</td>\n",
       "      <td>[good, one, cours, say, know, bless, cur, doe,...</td>\n",
       "    </tr>\n",
       "    <tr>\n",
       "      <th>3</th>\n",
       "      <td>INTJ</td>\n",
       "      <td>'Dear INTP,   I enjoyed our conversation the o...</td>\n",
       "      <td>[dear, intp, enjoy, convers, day, esoter, gab,...</td>\n",
       "    </tr>\n",
       "    <tr>\n",
       "      <th>4</th>\n",
       "      <td>ENTJ</td>\n",
       "      <td>'You're fired.|||That's another silly misconce...</td>\n",
       "      <td>[fire, anoth, silli, misconcept, approach, log...</td>\n",
       "    </tr>\n",
       "  </tbody>\n",
       "</table>\n",
       "</div>"
      ],
      "text/plain": [
       "   type                                              posts  \\\n",
       "0  INFJ  'http://www.youtube.com/watch?v=qsXHcwe3krw|||...   \n",
       "1  ENTP  'I'm finding the lack of me in these posts ver...   \n",
       "2  INTP  'Good one  _____   https://www.youtube.com/wat...   \n",
       "3  INTJ  'Dear INTP,   I enjoyed our conversation the o...   \n",
       "4  ENTJ  'You're fired.|||That's another silly misconce...   \n",
       "\n",
       "                                      text_processed  \n",
       "0  [intj, moment, sportscent, top, ten, play, pra...  \n",
       "1  [find, lack, post, veri, alarm, sex, bore, pos...  \n",
       "2  [good, one, cours, say, know, bless, cur, doe,...  \n",
       "3  [dear, intp, enjoy, convers, day, esoter, gab,...  \n",
       "4  [fire, anoth, silli, misconcept, approach, log...  "
      ]
     },
     "execution_count": 16,
     "metadata": {},
     "output_type": "execute_result"
    }
   ],
   "source": [
    "data.head()"
   ]
  },
  {
   "cell_type": "code",
   "execution_count": 25,
   "metadata": {},
   "outputs": [],
   "source": [
    "data['text_ready'] = data.text_processed.apply(' '.join)"
   ]
  },
  {
   "cell_type": "code",
   "execution_count": 26,
   "metadata": {},
   "outputs": [
    {
     "data": {
      "text/html": [
       "<div>\n",
       "<style scoped>\n",
       "    .dataframe tbody tr th:only-of-type {\n",
       "        vertical-align: middle;\n",
       "    }\n",
       "\n",
       "    .dataframe tbody tr th {\n",
       "        vertical-align: top;\n",
       "    }\n",
       "\n",
       "    .dataframe thead th {\n",
       "        text-align: right;\n",
       "    }\n",
       "</style>\n",
       "<table border=\"1\" class=\"dataframe\">\n",
       "  <thead>\n",
       "    <tr style=\"text-align: right;\">\n",
       "      <th></th>\n",
       "      <th>type</th>\n",
       "      <th>posts</th>\n",
       "      <th>text_processed</th>\n",
       "      <th>text_ready</th>\n",
       "    </tr>\n",
       "  </thead>\n",
       "  <tbody>\n",
       "    <tr>\n",
       "      <th>0</th>\n",
       "      <td>INFJ</td>\n",
       "      <td>'http://www.youtube.com/watch?v=qsXHcwe3krw|||...</td>\n",
       "      <td>[intj, moment, sportscent, top, ten, play, pra...</td>\n",
       "      <td>intj moment sportscent top ten play prank ha l...</td>\n",
       "    </tr>\n",
       "    <tr>\n",
       "      <th>1</th>\n",
       "      <td>ENTP</td>\n",
       "      <td>'I'm finding the lack of me in these posts ver...</td>\n",
       "      <td>[find, lack, post, veri, alarm, sex, bore, pos...</td>\n",
       "      <td>find lack post veri alarm sex bore posit often...</td>\n",
       "    </tr>\n",
       "    <tr>\n",
       "      <th>2</th>\n",
       "      <td>INTP</td>\n",
       "      <td>'Good one  _____   https://www.youtube.com/wat...</td>\n",
       "      <td>[good, one, cours, say, know, bless, cur, doe,...</td>\n",
       "      <td>good one cours say know bless cur doe absolut ...</td>\n",
       "    </tr>\n",
       "    <tr>\n",
       "      <th>3</th>\n",
       "      <td>INTJ</td>\n",
       "      <td>'Dear INTP,   I enjoyed our conversation the o...</td>\n",
       "      <td>[dear, intp, enjoy, convers, day, esoter, gab,...</td>\n",
       "      <td>dear intp enjoy convers day esoter gab natur u...</td>\n",
       "    </tr>\n",
       "    <tr>\n",
       "      <th>4</th>\n",
       "      <td>ENTJ</td>\n",
       "      <td>'You're fired.|||That's another silly misconce...</td>\n",
       "      <td>[fire, anoth, silli, misconcept, approach, log...</td>\n",
       "      <td>fire anoth silli misconcept approach logic go ...</td>\n",
       "    </tr>\n",
       "  </tbody>\n",
       "</table>\n",
       "</div>"
      ],
      "text/plain": [
       "   type                                              posts  \\\n",
       "0  INFJ  'http://www.youtube.com/watch?v=qsXHcwe3krw|||...   \n",
       "1  ENTP  'I'm finding the lack of me in these posts ver...   \n",
       "2  INTP  'Good one  _____   https://www.youtube.com/wat...   \n",
       "3  INTJ  'Dear INTP,   I enjoyed our conversation the o...   \n",
       "4  ENTJ  'You're fired.|||That's another silly misconce...   \n",
       "\n",
       "                                      text_processed  \\\n",
       "0  [intj, moment, sportscent, top, ten, play, pra...   \n",
       "1  [find, lack, post, veri, alarm, sex, bore, pos...   \n",
       "2  [good, one, cours, say, know, bless, cur, doe,...   \n",
       "3  [dear, intp, enjoy, convers, day, esoter, gab,...   \n",
       "4  [fire, anoth, silli, misconcept, approach, log...   \n",
       "\n",
       "                                          text_ready  \n",
       "0  intj moment sportscent top ten play prank ha l...  \n",
       "1  find lack post veri alarm sex bore posit often...  \n",
       "2  good one cours say know bless cur doe absolut ...  \n",
       "3  dear intp enjoy convers day esoter gab natur u...  \n",
       "4  fire anoth silli misconcept approach logic go ...  "
      ]
     },
     "execution_count": 26,
     "metadata": {},
     "output_type": "execute_result"
    }
   ],
   "source": [
    "data.head()"
   ]
  },
  {
   "cell_type": "code",
   "execution_count": 46,
   "metadata": {},
   "outputs": [],
   "source": [
    "data.to_csv(r'../data/personalities_cleaned.csv')"
   ]
  },
  {
   "cell_type": "code",
   "execution_count": 29,
   "metadata": {},
   "outputs": [],
   "source": [
    "x = data['text_ready']\n",
    "y = data['type']"
   ]
  },
  {
   "cell_type": "code",
   "execution_count": 30,
   "metadata": {},
   "outputs": [],
   "source": [
    "from sklearn.feature_extraction.text import CountVectorizer\n",
    "\n",
    "vector = CountVectorizer(ngram_range=(2, 2)).fit(x) \n",
    "X = vector.transform(x)"
   ]
  },
  {
   "cell_type": "code",
   "execution_count": 31,
   "metadata": {},
   "outputs": [
    {
     "name": "stdout",
     "output_type": "stream",
     "text": [
      "Shape of the sparse matrix:  (8675, 1986297)\n",
      "Non-Zero occurences:  5339470\n",
      "Density of the matrix =  0.03098735307727465\n"
     ]
    }
   ],
   "source": [
    "print(\"Shape of the sparse matrix: \", X.shape)\n",
    "print(\"Non-Zero occurences: \", X.nnz)\n",
    "\n",
    "density = (X.nnz/(X.shape[0]*X.shape[1]))*100\n",
    "print(\"Density of the matrix = \", density)"
   ]
  },
  {
   "cell_type": "code",
   "execution_count": null,
   "metadata": {},
   "outputs": [],
   "source": []
  },
  {
   "cell_type": "code",
   "execution_count": 34,
   "metadata": {},
   "outputs": [],
   "source": [
    "x_train, x_test, y_train, y_test = train_test_split(X, y, test_size=0.2, random_state=10)"
   ]
  },
  {
   "cell_type": "code",
   "execution_count": 35,
   "metadata": {},
   "outputs": [
    {
     "data": {
      "text/plain": [
       "(6940, 1986297)"
      ]
     },
     "execution_count": 35,
     "metadata": {},
     "output_type": "execute_result"
    }
   ],
   "source": [
    "x_train.shape"
   ]
  },
  {
   "cell_type": "code",
   "execution_count": 36,
   "metadata": {},
   "outputs": [
    {
     "name": "stdout",
     "output_type": "stream",
     "text": [
      "Confusion Matrix for Multinomial Naive Bayes:\n",
      "[[  0   0   0   0   0   0   0   0   8  22   0   1   0   0   0   0]\n",
      " [  0   1   0   0   0   0   0   0  14 116   1   1   0   0   0   0]\n",
      " [  0   0   0   0   0   0   0   0  12  41   1   1   0   0   0   0]\n",
      " [  0   1   0   0   0   0   0   0  29  88   0   6   0   0   0   0]\n",
      " [  0   0   0   0   0   0   0   0   2   7   0   0   0   0   0   0]\n",
      " [  0   0   0   0   0   0   0   0   3   6   0   0   0   0   0   0]\n",
      " [  0   0   0   0   0   0   0   0   0   9   0   0   0   0   0   0]\n",
      " [  0   0   0   0   0   0   0   0   4  13   0   0   0   0   0   0]\n",
      " [  0   2   0   0   0   0   0   0 118 173   0   2   0   0   0   0]\n",
      " [  0   1   0   1   0   0   0   0  16 361   2   1   0   0   0   0]\n",
      " [  0   1   0   1   0   0   0   0  52 144  18  17   0   0   0   0]\n",
      " [  0   0   0   0   0   0   0   0  26 164   2  40   0   1   0   0]\n",
      " [  0   0   0   0   0   0   0   0   4  23   0   0   0   0   0   0]\n",
      " [  0   1   0   0   0   0   0   0   6  53   0   0   0   0   0   0]\n",
      " [  0   0   0   0   0   0   0   0   9  30   0   1   0   0   0   0]\n",
      " [  0   0   0   1   0   0   0   0   8  62   1   6   0   0   0   0]]\n",
      "Score: 31.01\n",
      "Classification Report:               precision    recall  f1-score   support\n",
      "\n",
      "        ENFJ       0.00      0.00      0.00        31\n",
      "        ENFP       0.14      0.01      0.01       133\n",
      "        ENTJ       0.00      0.00      0.00        55\n",
      "        ENTP       0.00      0.00      0.00       124\n",
      "        ESFJ       0.00      0.00      0.00         9\n",
      "        ESFP       0.00      0.00      0.00         9\n",
      "        ESTJ       0.00      0.00      0.00         9\n",
      "        ESTP       0.00      0.00      0.00        17\n",
      "        INFJ       0.38      0.40      0.39       295\n",
      "        INFP       0.28      0.95      0.43       382\n",
      "        INTJ       0.72      0.08      0.14       233\n",
      "        INTP       0.53      0.17      0.26       233\n",
      "        ISFJ       0.00      0.00      0.00        27\n",
      "        ISFP       0.00      0.00      0.00        60\n",
      "        ISTJ       0.00      0.00      0.00        40\n",
      "        ISTP       0.00      0.00      0.00        78\n",
      "\n",
      "    accuracy                           0.31      1735\n",
      "   macro avg       0.13      0.10      0.08      1735\n",
      "weighted avg       0.30      0.31      0.21      1735\n",
      "\n"
     ]
    },
    {
     "name": "stderr",
     "output_type": "stream",
     "text": [
      "/usr/local/Cellar/jupyterlab/1.2.4/libexec/lib/python3.7/site-packages/sklearn/metrics/_classification.py:1272: UndefinedMetricWarning: Precision and F-score are ill-defined and being set to 0.0 in labels with no predicted samples. Use `zero_division` parameter to control this behavior.\n",
      "  _warn_prf(average, modifier, msg_start, len(result))\n"
     ]
    }
   ],
   "source": [
    "from sklearn.naive_bayes import MultinomialNB\n",
    "\n",
    "mnb = MultinomialNB()\n",
    "mnb.fit(x_train, y_train)\n",
    "\n",
    "predmnb = mnb.predict(x_test)\n",
    "print(\"Confusion Matrix for Multinomial Naive Bayes:\")\n",
    "print(confusion_matrix(y_test,predmnb))\n",
    "print(\"Score:\",round(accuracy_score(y_test,predmnb)*100,2))\n",
    "print(\"Classification Report:\",classification_report(y_test,predmnb))"
   ]
  },
  {
   "cell_type": "code",
   "execution_count": null,
   "metadata": {},
   "outputs": [],
   "source": []
  },
  {
   "cell_type": "code",
   "execution_count": 37,
   "metadata": {},
   "outputs": [
    {
     "name": "stdout",
     "output_type": "stream",
     "text": [
      "Confusion Matrix for Multinomial Naive Bayes:\n",
      "[[  0   0   0   0   0   0   0   0   0  31   0   0   0   0   0   0]\n",
      " [  0   0   0   0   0   0   0   0   0 133   0   0   0   0   0   0]\n",
      " [  0   0   0   0   0   0   0   0   0  55   0   0   0   0   0   0]\n",
      " [  0   0   0   0   0   0   0   0   0 124   0   0   0   0   0   0]\n",
      " [  0   0   0   0   0   0   0   0   0   9   0   0   0   0   0   0]\n",
      " [  0   0   0   0   0   0   0   0   0   9   0   0   0   0   0   0]\n",
      " [  0   0   0   0   0   0   0   0   0   9   0   0   0   0   0   0]\n",
      " [  0   0   0   0   0   0   0   0   0  17   0   0   0   0   0   0]\n",
      " [  0   0   0   0   0   0   0   0   1 294   0   0   0   0   0   0]\n",
      " [  0   0   0   0   0   0   0   0   0 382   0   0   0   0   0   0]\n",
      " [  0   0   0   0   0   0   0   0   1 231   0   1   0   0   0   0]\n",
      " [  0   0   0   0   0   0   0   0   0 233   0   0   0   0   0   0]\n",
      " [  0   0   0   0   0   0   0   0   0  27   0   0   0   0   0   0]\n",
      " [  0   0   0   0   0   0   0   0   0  60   0   0   0   0   0   0]\n",
      " [  0   0   0   0   0   0   0   0   0  40   0   0   0   0   0   0]\n",
      " [  0   0   0   0   0   0   0   0   0  78   0   0   0   0   0   0]]\n",
      "Score: 22.07\n",
      "Classification Report:               precision    recall  f1-score   support\n",
      "\n",
      "        ENFJ       0.00      0.00      0.00        31\n",
      "        ENFP       0.00      0.00      0.00       133\n",
      "        ENTJ       0.00      0.00      0.00        55\n",
      "        ENTP       0.00      0.00      0.00       124\n",
      "        ESFJ       0.00      0.00      0.00         9\n",
      "        ESFP       0.00      0.00      0.00         9\n",
      "        ESTJ       0.00      0.00      0.00         9\n",
      "        ESTP       0.00      0.00      0.00        17\n",
      "        INFJ       0.50      0.00      0.01       295\n",
      "        INFP       0.22      1.00      0.36       382\n",
      "        INTJ       0.00      0.00      0.00       233\n",
      "        INTP       0.00      0.00      0.00       233\n",
      "        ISFJ       0.00      0.00      0.00        27\n",
      "        ISFP       0.00      0.00      0.00        60\n",
      "        ISTJ       0.00      0.00      0.00        40\n",
      "        ISTP       0.00      0.00      0.00        78\n",
      "\n",
      "    accuracy                           0.22      1735\n",
      "   macro avg       0.05      0.06      0.02      1735\n",
      "weighted avg       0.13      0.22      0.08      1735\n",
      "\n"
     ]
    },
    {
     "name": "stderr",
     "output_type": "stream",
     "text": [
      "/usr/local/Cellar/jupyterlab/1.2.4/libexec/lib/python3.7/site-packages/sklearn/metrics/_classification.py:1272: UndefinedMetricWarning: Precision and F-score are ill-defined and being set to 0.0 in labels with no predicted samples. Use `zero_division` parameter to control this behavior.\n",
      "  _warn_prf(average, modifier, msg_start, len(result))\n"
     ]
    }
   ],
   "source": [
    "from sklearn.feature_extraction.text import TfidfVectorizer\n",
    "\n",
    "vectorizer = TfidfVectorizer()\n",
    "X = vectorizer.fit_transform(x)\n",
    "x_train, x_test, y_train, y_test = train_test_split(X, y, test_size=0.2, random_state=10)\n",
    "mnb = MultinomialNB()\n",
    "mnb.fit(x_train, y_train)\n",
    "\n",
    "predmnb = mnb.predict(x_test)\n",
    "print(\"Confusion Matrix for Multinomial Naive Bayes:\")\n",
    "print(confusion_matrix(y_test,predmnb))\n",
    "print(\"Score:\",round(accuracy_score(y_test,predmnb)*100,2))\n",
    "print(\"Classification Report:\",classification_report(y_test,predmnb))"
   ]
  },
  {
   "cell_type": "code",
   "execution_count": null,
   "metadata": {},
   "outputs": [],
   "source": []
  },
  {
   "cell_type": "code",
   "execution_count": 38,
   "metadata": {},
   "outputs": [
    {
     "name": "stdout",
     "output_type": "stream",
     "text": [
      "Confusion Matrix for Decision Tree:\n",
      "[[  6   2   0   1   0   1   0   1   4   7   3   2   0   3   0   1]\n",
      " [  4  58   3   9   0   2   0   0  16  12  12  11   1   2   3   0]\n",
      " [  0   4  10   9   0   0   0   0   5   5   4   8   1   2   3   4]\n",
      " [  0   5   2  56   1   0   0   0  15  13   8  12   3   5   4   0]\n",
      " [  0   1   0   1   0   0   0   0   1   0   0   5   1   0   0   0]\n",
      " [  0   1   1   0   0   0   0   0   3   0   1   3   0   0   0   0]\n",
      " [  0   0   1   0   0   0   0   0   2   3   0   0   0   2   1   0]\n",
      " [  0   0   1   1   0   0   0   4   3   1   4   1   0   2   0   0]\n",
      " [  3   9   2  13   0   1   0   1 162  38  26  22   8   5   2   3]\n",
      " [  9  14   7  15   2   2   1   3  31 228  17  21   7  15   4   6]\n",
      " [  3  14   9  11   0   5   1   0  24  14 110  21   0  10   7   4]\n",
      " [  1   4   1  13   2   0   0   1  21  15  26 140   2   1   1   5]\n",
      " [  1   0   0   1   1   0   0   0   4   2   2   1  10   2   3   0]\n",
      " [  1   4   0   1   1   2   0   2   5  11   4   2   2  18   5   2]\n",
      " [  0   1   0   3   0   1   0   0   4   7   3   6   3   2   9   1]\n",
      " [  1   4   0   4   0   2   0   0   2   9   7   6   0   4   2  37]]\n",
      "Score: 48.88\n",
      "Classification Report:               precision    recall  f1-score   support\n",
      "\n",
      "        ENFJ       0.21      0.19      0.20        31\n",
      "        ENFP       0.48      0.44      0.46       133\n",
      "        ENTJ       0.27      0.18      0.22        55\n",
      "        ENTP       0.41      0.45      0.43       124\n",
      "        ESFJ       0.00      0.00      0.00         9\n",
      "        ESFP       0.00      0.00      0.00         9\n",
      "        ESTJ       0.00      0.00      0.00         9\n",
      "        ESTP       0.33      0.24      0.28        17\n",
      "        INFJ       0.54      0.55      0.54       295\n",
      "        INFP       0.62      0.60      0.61       382\n",
      "        INTJ       0.48      0.47      0.48       233\n",
      "        INTP       0.54      0.60      0.57       233\n",
      "        ISFJ       0.26      0.37      0.31        27\n",
      "        ISFP       0.25      0.30      0.27        60\n",
      "        ISTJ       0.20      0.23      0.21        40\n",
      "        ISTP       0.59      0.47      0.52        78\n",
      "\n",
      "    accuracy                           0.49      1735\n",
      "   macro avg       0.32      0.32      0.32      1735\n",
      "weighted avg       0.49      0.49      0.49      1735\n",
      "\n"
     ]
    }
   ],
   "source": [
    "from sklearn.tree import DecisionTreeClassifier\n",
    "\n",
    "dt = DecisionTreeClassifier()\n",
    "dt.fit(x_train,y_train)\n",
    "preddt = dt.predict(x_test)\n",
    "print(\"Confusion Matrix for Decision Tree:\")\n",
    "print(confusion_matrix(y_test,preddt))\n",
    "print(\"Score:\",round(accuracy_score(y_test,preddt)*100,2))\n",
    "print(\"Classification Report:\",classification_report(y_test,preddt))"
   ]
  },
  {
   "cell_type": "code",
   "execution_count": 51,
   "metadata": {},
   "outputs": [
    {
     "name": "stdout",
     "output_type": "stream",
     "text": [
      "Confusion Matrix for Random Forest Classifier:\n",
      "[[  8   6   0   1   0   0   0   0   7   9   0   0   0   0   0   0]\n",
      " [  1  69   1   5   0   0   0   0  10  45   1   0   0   1   0   0]\n",
      " [  2   7  11   2   0   0   0   0   8  22   2   0   0   0   0   1]\n",
      " [  0  11   1  40   1   0   0   0  24  39   5   3   0   0   0   0]\n",
      " [  0   0   0   0   8   0   0   0   0   1   0   0   0   0   0   0]\n",
      " [  0   1   1   0   1   1   0   0   3   2   0   0   0   0   0   0]\n",
      " [  0   1   1   0   0   0   2   0   1   4   0   0   0   0   0   0]\n",
      " [  0   2   0   0   0   0   0   7   3   3   0   1   0   1   0   0]\n",
      " [  3  18   0   3   2   0   0   1 174  86   4   3   0   1   0   0]\n",
      " [  2  26   0   2   1   0   0   1  58 284   5   1   0   1   1   0]\n",
      " [  1  31   0   8   2   0   0   0  37  81  57  10   5   0   1   0]\n",
      " [  1  14   2   9   2   0   0   0  45  95  10  55   0   0   0   0]\n",
      " [  0   1   0   0   0   0   0   0   6   3   1   0  16   0   0   0]\n",
      " [  0   7   0   1   0   0   0   1  10  32   0   0   0   9   0   0]\n",
      " [  0   3   0   1   0   0   0   0  11  14   2   0   1   0   8   0]\n",
      " [  0   8   0   3   0   0   0   0  13  39   5   2   1   0   0   7]]\n",
      "Score:  23.05\n",
      "Classification Report:\n",
      "              precision    recall  f1-score   support\n",
      "\n",
      "        ENFJ       0.00      0.00      0.00        31\n",
      "        ENFP       0.00      0.00      0.00       133\n",
      "        ENTJ       0.00      0.00      0.00        55\n",
      "        ENTP       0.00      0.00      0.00       124\n",
      "        ESFJ       0.00      0.00      0.00         9\n",
      "        ESFP       0.00      0.00      0.00         9\n",
      "        ESTJ       0.00      0.00      0.00         9\n",
      "        ESTP       0.00      0.00      0.00        17\n",
      "        INFJ       0.62      0.03      0.06       295\n",
      "        INFP       0.22      1.00      0.37       382\n",
      "        INTJ       0.00      0.00      0.00       233\n",
      "        INTP       0.73      0.03      0.07       233\n",
      "        ISFJ       0.00      0.00      0.00        27\n",
      "        ISFP       0.00      0.00      0.00        60\n",
      "        ISTJ       0.00      0.00      0.00        40\n",
      "        ISTP       0.00      0.00      0.00        78\n",
      "\n",
      "    accuracy                           0.23      1735\n",
      "   macro avg       0.10      0.07      0.03      1735\n",
      "weighted avg       0.25      0.23      0.10      1735\n",
      "\n"
     ]
    },
    {
     "name": "stderr",
     "output_type": "stream",
     "text": [
      "/usr/local/Cellar/jupyterlab/1.2.4/libexec/lib/python3.7/site-packages/sklearn/metrics/_classification.py:1272: UndefinedMetricWarning: Precision and F-score are ill-defined and being set to 0.0 in labels with no predicted samples. Use `zero_division` parameter to control this behavior.\n",
      "  _warn_prf(average, modifier, msg_start, len(result))\n"
     ]
    }
   ],
   "source": [
    "from sklearn.ensemble import RandomForestClassifier\n",
    "\n",
    "rfn = RandomForestClassifier(max_depth=5, random_state=0)\n",
    "rfn.fit(x_train,y_train)\n",
    "predrf = rfn.predict(x_test)\n",
    "print(\"Confusion Matrix for Random Forest Classifier:\")\n",
    "print(confusion_matrix(y_test,predknn))\n",
    "print(\"Score: \",round(accuracy_score(y_test,predrf)*100,2))\n",
    "print(\"Classification Report:\")\n",
    "print(classification_report(y_test,predrf))"
   ]
  },
  {
   "cell_type": "code",
   "execution_count": null,
   "metadata": {},
   "outputs": [],
   "source": []
  },
  {
   "cell_type": "code",
   "execution_count": 39,
   "metadata": {},
   "outputs": [
    {
     "name": "stdout",
     "output_type": "stream",
     "text": [
      "Confusion Matrix for K Neighbors Classifier:\n",
      "[[  8   6   0   1   0   0   0   0   7   9   0   0   0   0   0   0]\n",
      " [  1  69   1   5   0   0   0   0  10  45   1   0   0   1   0   0]\n",
      " [  2   7  11   2   0   0   0   0   8  22   2   0   0   0   0   1]\n",
      " [  0  11   1  40   1   0   0   0  24  39   5   3   0   0   0   0]\n",
      " [  0   0   0   0   8   0   0   0   0   1   0   0   0   0   0   0]\n",
      " [  0   1   1   0   1   1   0   0   3   2   0   0   0   0   0   0]\n",
      " [  0   1   1   0   0   0   2   0   1   4   0   0   0   0   0   0]\n",
      " [  0   2   0   0   0   0   0   7   3   3   0   1   0   1   0   0]\n",
      " [  3  18   0   3   2   0   0   1 174  86   4   3   0   1   0   0]\n",
      " [  2  26   0   2   1   0   0   1  58 284   5   1   0   1   1   0]\n",
      " [  1  31   0   8   2   0   0   0  37  81  57  10   5   0   1   0]\n",
      " [  1  14   2   9   2   0   0   0  45  95  10  55   0   0   0   0]\n",
      " [  0   1   0   0   0   0   0   0   6   3   1   0  16   0   0   0]\n",
      " [  0   7   0   1   0   0   0   1  10  32   0   0   0   9   0   0]\n",
      " [  0   3   0   1   0   0   0   0  11  14   2   0   1   0   8   0]\n",
      " [  0   8   0   3   0   0   0   0  13  39   5   2   1   0   0   7]]\n",
      "Score:  43.57\n",
      "Classification Report:\n",
      "              precision    recall  f1-score   support\n",
      "\n",
      "        ENFJ       0.44      0.26      0.33        31\n",
      "        ENFP       0.34      0.52      0.41       133\n",
      "        ENTJ       0.65      0.20      0.31        55\n",
      "        ENTP       0.53      0.32      0.40       124\n",
      "        ESFJ       0.47      0.89      0.62         9\n",
      "        ESFP       1.00      0.11      0.20         9\n",
      "        ESTJ       1.00      0.22      0.36         9\n",
      "        ESTP       0.70      0.41      0.52        17\n",
      "        INFJ       0.42      0.59      0.49       295\n",
      "        INFP       0.37      0.74      0.50       382\n",
      "        INTJ       0.62      0.24      0.35       233\n",
      "        INTP       0.73      0.24      0.36       233\n",
      "        ISFJ       0.70      0.59      0.64        27\n",
      "        ISFP       0.69      0.15      0.25        60\n",
      "        ISTJ       0.80      0.20      0.32        40\n",
      "        ISTP       0.88      0.09      0.16        78\n",
      "\n",
      "    accuracy                           0.44      1735\n",
      "   macro avg       0.65      0.36      0.39      1735\n",
      "weighted avg       0.54      0.44      0.41      1735\n",
      "\n"
     ]
    }
   ],
   "source": [
    "from sklearn.neighbors import KNeighborsClassifier\n",
    "\n",
    "knn = KNeighborsClassifier(n_neighbors=10)\n",
    "knn.fit(x_train,y_train)\n",
    "predknn = knn.predict(x_test)\n",
    "print(\"Confusion Matrix for K Neighbors Classifier:\")\n",
    "print(confusion_matrix(y_test,predknn))\n",
    "print(\"Score: \",round(accuracy_score(y_test,predknn)*100,2))\n",
    "print(\"Classification Report:\")\n",
    "print(classification_report(y_test,predknn))"
   ]
  },
  {
   "cell_type": "code",
   "execution_count": 48,
   "metadata": {},
   "outputs": [
    {
     "name": "stdout",
     "output_type": "stream",
     "text": [
      "Requirement already up-to-date: xgboost in /usr/local/Cellar/jupyterlab/1.2.4/libexec/lib/python3.7/site-packages (1.1.0)\n",
      "Requirement already satisfied, skipping upgrade: scipy in /usr/local/Cellar/jupyterlab/1.2.4/libexec/lib/python3.7/site-packages (from xgboost) (1.4.1)\n",
      "Requirement already satisfied, skipping upgrade: numpy in /usr/local/Cellar/jupyterlab/1.2.4/libexec/lib/python3.7/site-packages (from xgboost) (1.18.2)\n",
      "\u001b[33mWARNING: You are using pip version 19.3.1; however, version 20.1.1 is available.\n",
      "You should consider upgrading via the 'pip install --upgrade pip' command.\u001b[0m\n"
     ]
    }
   ],
   "source": [
    "import sys\n",
    "!{sys.executable} -m pip install --upgrade xgboost"
   ]
  },
  {
   "cell_type": "code",
   "execution_count": 49,
   "metadata": {},
   "outputs": [
    {
     "ename": "XGBoostError",
     "evalue": "XGBoost Library (libxgboost.dylib) could not be loaded.\nLikely causes:\n  * OpenMP runtime is not installed (vcomp140.dll or libgomp-1.dll for Windows, libomp.dylib for Mac OSX, libgomp.so for Linux and other UNIX-like OSes). Mac OSX users: Run `brew install libomp` to install OpenMP runtime.\n  * You are running 32-bit Python on a 64-bit OS\nError message(s): ['dlopen(/usr/local/Cellar/jupyterlab/1.2.4/libexec/lib/python3.7/site-packages/xgboost/lib/libxgboost.dylib, 6): Library not loaded: /usr/local/opt/libomp/lib/libomp.dylib\\n  Referenced from: /usr/local/Cellar/jupyterlab/1.2.4/libexec/lib/python3.7/site-packages/xgboost/lib/libxgboost.dylib\\n  Reason: image not found']\n",
     "output_type": "error",
     "traceback": [
      "\u001b[0;31m---------------------------------------------------------------------------\u001b[0m",
      "\u001b[0;31mXGBoostError\u001b[0m                              Traceback (most recent call last)",
      "\u001b[0;32m<ipython-input-49-e528dc1a32ff>\u001b[0m in \u001b[0;36m<module>\u001b[0;34m\u001b[0m\n\u001b[0;32m----> 1\u001b[0;31m \u001b[0;32mimport\u001b[0m \u001b[0mxgboost\u001b[0m\u001b[0;34m\u001b[0m\u001b[0;34m\u001b[0m\u001b[0m\n\u001b[0m",
      "\u001b[0;32m/usr/local/Cellar/jupyterlab/1.2.4/libexec/lib/python3.7/site-packages/xgboost/__init__.py\u001b[0m in \u001b[0;36m<module>\u001b[0;34m\u001b[0m\n\u001b[1;32m      9\u001b[0m \u001b[0;32mimport\u001b[0m \u001b[0mwarnings\u001b[0m\u001b[0;34m\u001b[0m\u001b[0;34m\u001b[0m\u001b[0m\n\u001b[1;32m     10\u001b[0m \u001b[0;34m\u001b[0m\u001b[0m\n\u001b[0;32m---> 11\u001b[0;31m \u001b[0;32mfrom\u001b[0m \u001b[0;34m.\u001b[0m\u001b[0mcore\u001b[0m \u001b[0;32mimport\u001b[0m \u001b[0mDMatrix\u001b[0m\u001b[0;34m,\u001b[0m \u001b[0mDeviceQuantileDMatrix\u001b[0m\u001b[0;34m,\u001b[0m \u001b[0mBooster\u001b[0m\u001b[0;34m\u001b[0m\u001b[0;34m\u001b[0m\u001b[0m\n\u001b[0m\u001b[1;32m     12\u001b[0m \u001b[0;32mfrom\u001b[0m \u001b[0;34m.\u001b[0m\u001b[0mtraining\u001b[0m \u001b[0;32mimport\u001b[0m \u001b[0mtrain\u001b[0m\u001b[0;34m,\u001b[0m \u001b[0mcv\u001b[0m\u001b[0;34m\u001b[0m\u001b[0;34m\u001b[0m\u001b[0m\n\u001b[1;32m     13\u001b[0m \u001b[0;32mfrom\u001b[0m \u001b[0;34m.\u001b[0m \u001b[0;32mimport\u001b[0m \u001b[0mrabit\u001b[0m  \u001b[0;31m# noqa\u001b[0m\u001b[0;34m\u001b[0m\u001b[0;34m\u001b[0m\u001b[0m\n",
      "\u001b[0;32m/usr/local/Cellar/jupyterlab/1.2.4/libexec/lib/python3.7/site-packages/xgboost/core.py\u001b[0m in \u001b[0;36m<module>\u001b[0;34m\u001b[0m\n\u001b[1;32m    173\u001b[0m \u001b[0;34m\u001b[0m\u001b[0m\n\u001b[1;32m    174\u001b[0m \u001b[0;31m# load the XGBoost library globally\u001b[0m\u001b[0;34m\u001b[0m\u001b[0;34m\u001b[0m\u001b[0;34m\u001b[0m\u001b[0m\n\u001b[0;32m--> 175\u001b[0;31m \u001b[0m_LIB\u001b[0m \u001b[0;34m=\u001b[0m \u001b[0m_load_lib\u001b[0m\u001b[0;34m(\u001b[0m\u001b[0;34m)\u001b[0m\u001b[0;34m\u001b[0m\u001b[0;34m\u001b[0m\u001b[0m\n\u001b[0m\u001b[1;32m    176\u001b[0m \u001b[0;34m\u001b[0m\u001b[0m\n\u001b[1;32m    177\u001b[0m \u001b[0;34m\u001b[0m\u001b[0m\n",
      "\u001b[0;32m/usr/local/Cellar/jupyterlab/1.2.4/libexec/lib/python3.7/site-packages/xgboost/core.py\u001b[0m in \u001b[0;36m_load_lib\u001b[0;34m()\u001b[0m\n\u001b[1;32m    164\u001b[0m             \u001b[0;34m'`brew install libomp` to install OpenMP runtime.\\n'\u001b[0m \u001b[0;34m+\u001b[0m\u001b[0;34m\u001b[0m\u001b[0;34m\u001b[0m\u001b[0m\n\u001b[1;32m    165\u001b[0m             \u001b[0;34m'  * You are running 32-bit Python on a 64-bit OS\\n'\u001b[0m \u001b[0;34m+\u001b[0m\u001b[0;34m\u001b[0m\u001b[0;34m\u001b[0m\u001b[0m\n\u001b[0;32m--> 166\u001b[0;31m             'Error message(s): {}\\n'.format(os_error_list))\n\u001b[0m\u001b[1;32m    167\u001b[0m     \u001b[0mlib\u001b[0m\u001b[0;34m.\u001b[0m\u001b[0mXGBGetLastError\u001b[0m\u001b[0;34m.\u001b[0m\u001b[0mrestype\u001b[0m \u001b[0;34m=\u001b[0m \u001b[0mctypes\u001b[0m\u001b[0;34m.\u001b[0m\u001b[0mc_char_p\u001b[0m\u001b[0;34m\u001b[0m\u001b[0;34m\u001b[0m\u001b[0m\n\u001b[1;32m    168\u001b[0m     \u001b[0mlib\u001b[0m\u001b[0;34m.\u001b[0m\u001b[0mcallback\u001b[0m \u001b[0;34m=\u001b[0m \u001b[0m_get_log_callback_func\u001b[0m\u001b[0;34m(\u001b[0m\u001b[0;34m)\u001b[0m\u001b[0;34m\u001b[0m\u001b[0;34m\u001b[0m\u001b[0m\n",
      "\u001b[0;31mXGBoostError\u001b[0m: XGBoost Library (libxgboost.dylib) could not be loaded.\nLikely causes:\n  * OpenMP runtime is not installed (vcomp140.dll or libgomp-1.dll for Windows, libomp.dylib for Mac OSX, libgomp.so for Linux and other UNIX-like OSes). Mac OSX users: Run `brew install libomp` to install OpenMP runtime.\n  * You are running 32-bit Python on a 64-bit OS\nError message(s): ['dlopen(/usr/local/Cellar/jupyterlab/1.2.4/libexec/lib/python3.7/site-packages/xgboost/lib/libxgboost.dylib, 6): Library not loaded: /usr/local/opt/libomp/lib/libomp.dylib\\n  Referenced from: /usr/local/Cellar/jupyterlab/1.2.4/libexec/lib/python3.7/site-packages/xgboost/lib/libxgboost.dylib\\n  Reason: image not found']\n"
     ]
    }
   ],
   "source": [
    "import xgboost\n"
   ]
  },
  {
   "cell_type": "code",
   "execution_count": 45,
   "metadata": {},
   "outputs": [
    {
     "ename": "NameError",
     "evalue": "name 'XGBClassifier' is not defined",
     "output_type": "error",
     "traceback": [
      "\u001b[0;31m---------------------------------------------------------------------------\u001b[0m",
      "\u001b[0;31mNameError\u001b[0m                                 Traceback (most recent call last)",
      "\u001b[0;32m<ipython-input-45-32baa1480925>\u001b[0m in \u001b[0;36m<module>\u001b[0;34m\u001b[0m\n\u001b[0;32m----> 1\u001b[0;31m \u001b[0mxgb\u001b[0m \u001b[0;34m=\u001b[0m \u001b[0mXGBClassifier\u001b[0m\u001b[0;34m(\u001b[0m\u001b[0;34m)\u001b[0m\u001b[0;34m\u001b[0m\u001b[0;34m\u001b[0m\u001b[0m\n\u001b[0m\u001b[1;32m      2\u001b[0m \u001b[0mxgb\u001b[0m\u001b[0;34m.\u001b[0m\u001b[0mfit\u001b[0m\u001b[0;34m(\u001b[0m\u001b[0mx_train\u001b[0m\u001b[0;34m,\u001b[0m\u001b[0my_train\u001b[0m\u001b[0;34m)\u001b[0m\u001b[0;34m\u001b[0m\u001b[0;34m\u001b[0m\u001b[0m\n\u001b[1;32m      3\u001b[0m \u001b[0mpredxgb\u001b[0m \u001b[0;34m=\u001b[0m \u001b[0mxgb\u001b[0m\u001b[0;34m.\u001b[0m\u001b[0mpredict\u001b[0m\u001b[0;34m(\u001b[0m\u001b[0mx_test\u001b[0m\u001b[0;34m)\u001b[0m\u001b[0;34m\u001b[0m\u001b[0;34m\u001b[0m\u001b[0m\n\u001b[1;32m      4\u001b[0m \u001b[0mprint\u001b[0m\u001b[0;34m(\u001b[0m\u001b[0;34m\"Confusion Matrix for XGBoost Classifier:\"\u001b[0m\u001b[0;34m)\u001b[0m\u001b[0;34m\u001b[0m\u001b[0;34m\u001b[0m\u001b[0m\n\u001b[1;32m      5\u001b[0m \u001b[0mprint\u001b[0m\u001b[0;34m(\u001b[0m\u001b[0mconfusion_matrix\u001b[0m\u001b[0;34m(\u001b[0m\u001b[0my_test\u001b[0m\u001b[0;34m,\u001b[0m\u001b[0mpredxgb\u001b[0m\u001b[0;34m)\u001b[0m\u001b[0;34m)\u001b[0m\u001b[0;34m\u001b[0m\u001b[0;34m\u001b[0m\u001b[0m\n",
      "\u001b[0;31mNameError\u001b[0m: name 'XGBClassifier' is not defined"
     ]
    }
   ],
   "source": [
    "xgb = XGBClassifier()\n",
    "xgb.fit(x_train,y_train)\n",
    "predxgb = xgb.predict(x_test)\n",
    "print(\"Confusion Matrix for XGBoost Classifier:\")\n",
    "print(confusion_matrix(y_test,predxgb))\n",
    "print(\"Score: \",round(accuracy_score(y_test,predxgb)*100,2))\n",
    "print(\"Classification Report:\")\n",
    "print(classification_report(y_test,predxgb))"
   ]
  },
  {
   "cell_type": "code",
   "execution_count": null,
   "metadata": {},
   "outputs": [],
   "source": []
  }
 ],
 "metadata": {
  "kernelspec": {
   "display_name": "Python 3",
   "language": "python",
   "name": "python3"
  },
  "language_info": {
   "codemirror_mode": {
    "name": "ipython",
    "version": 3
   },
   "file_extension": ".py",
   "mimetype": "text/x-python",
   "name": "python",
   "nbconvert_exporter": "python",
   "pygments_lexer": "ipython3",
   "version": "3.7.6"
  }
 },
 "nbformat": 4,
 "nbformat_minor": 2
}
