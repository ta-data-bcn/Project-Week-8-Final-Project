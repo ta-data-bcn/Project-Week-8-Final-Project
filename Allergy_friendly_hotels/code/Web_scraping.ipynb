{
 "cells": [
  {
   "cell_type": "code",
   "execution_count": 8,
   "metadata": {},
   "outputs": [],
   "source": [
    "from bs4 import BeautifulSoup\n",
    "import requests\n",
    "import pandas as pd\n",
    "import re"
   ]
  },
  {
   "cell_type": "markdown",
   "metadata": {},
   "source": [
    "# Web scraping"
   ]
  },
  {
   "cell_type": "markdown",
   "metadata": {},
   "source": [
    "# Barcelona"
   ]
  },
  {
   "cell_type": "code",
   "execution_count": 2,
   "metadata": {},
   "outputs": [],
   "source": [
    "#links from google search, each link contains 25 hotels\n",
    "search_links= ['https://www.booking.com/searchresults.en-gb.html?label=gen173nr-1DCAEoggI46AdIM1gEaEaIAQGYAQm4AQfIAQzYAQPoAQGIAgGoAgO4ArfHx_4FwAIB0gIkNmMyMDliOWYtMGVkMC00MDRlLWE4ODItZDZjMjVmZjgzODQx2AIE4AIB&lang=en-gb&sid=de6e37cacfee4d33e1f9b1c7b24a599a&sb=1&sb_lp=1&src=index&src_elem=sb&error_url=https%3A%2F%2Fwww.booking.com%2Findex.en-gb.html%3Flabel%3Dgen173nr-1DCAEoggI46AdIM1gEaEaIAQGYAQm4AQfIAQzYAQPoAQGIAgGoAgO4ArfHx_4FwAIB0gIkNmMyMDliOWYtMGVkMC00MDRlLWE4ODItZDZjMjVmZjgzODQx2AIE4AIB%3Bsid%3Dde6e37cacfee4d33e1f9b1c7b24a599a%3Bsb_price_type%3Dtotal%26%3B&ss=Barcelona&is_ski_area=0&ssne=Barcelona&ssne_untouched=Barcelona&dest_id=-372490&dest_type=city&checkin_year=2021&checkin_month=3&checkin_monthday=30&checkout_year=2021&checkout_month=3&checkout_monthday=31&group_adults=2&group_children=0&no_rooms=1&b_h4u_keep_filters=&from_sf=1',\n",
    "            'https://www.booking.com/searchresults.en-gb.html?label=gen173nr-1DCAEoggI46AdIM1gEaEaIAQGYAQm4AQfIAQzYAQPoAQGIAgGoAgO4ArfHx_4FwAIB0gIkNmMyMDliOWYtMGVkMC00MDRlLWE4ODItZDZjMjVmZjgzODQx2AIE4AIB&sid=de6e37cacfee4d33e1f9b1c7b24a599a&tmpl=searchresults&checkin_month=3&checkin_monthday=30&checkin_year=2021&checkout_month=3&checkout_monthday=31&checkout_year=2021&class_interval=1&dest_id=-372490&dest_type=city&dtdisc=0&from_sf=1&group_adults=2&group_children=0&inac=0&index_postcard=0&label_click=undef&no_rooms=1&postcard=0&raw_dest_type=city&room1=A%2CA&sb_price_type=total&shw_aparth=1&slp_r_match=0&src=index&src_elem=sb&srpvid=e9d63f6a94bf0189&ss=Barcelona&ss_all=0&ssb=empty&sshis=0&ssne=Barcelona&ssne_untouched=Barcelona&top_ufis=1&rows=25&offset=25',\n",
    "            'https://www.booking.com/searchresults.en-gb.html?aid=304142&label=gen173nr-1DCAEoggI46AdIM1gEaEaIAQGYAQm4AQfIAQzYAQPoAQGIAgGoAgO4ArfHx_4FwAIB0gIkNmMyMDliOWYtMGVkMC00MDRlLWE4ODItZDZjMjVmZjgzODQx2AIE4AIB&sid=de6e37cacfee4d33e1f9b1c7b24a599a&tmpl=searchresults&checkin_month=3&checkin_monthday=30&checkin_year=2021&checkout_month=3&checkout_monthday=31&checkout_year=2021&class_interval=1&dest_id=-372490&dest_type=city&from_sf=1&group_adults=2&group_children=0&label_click=undef&no_rooms=1&raw_dest_type=city&room1=A%2CA&sb_price_type=total&shw_aparth=1&slp_r_match=0&src=index&src_elem=sb&srpvid=28ee3ff70bf400fd&ss=Barcelona&ssb=empty&ssne=Barcelona&ssne_untouched=Barcelona&top_ufis=1&rows=25&offset=50',\n",
    "            'https://www.booking.com/searchresults.en-gb.html?aid=304142&label=gen173nr-1DCAEoggI46AdIM1gEaEaIAQGYAQm4AQfIAQzYAQPoAQGIAgGoAgO4ArfHx_4FwAIB0gIkNmMyMDliOWYtMGVkMC00MDRlLWE4ODItZDZjMjVmZjgzODQx2AIE4AIB&sid=de6e37cacfee4d33e1f9b1c7b24a599a&tmpl=searchresults&checkin_month=3&checkin_monthday=30&checkin_year=2021&checkout_month=3&checkout_monthday=31&checkout_year=2021&class_interval=1&dest_id=-372490&dest_type=city&dtdisc=0&from_sf=1&group_adults=2&group_children=0&inac=0&index_postcard=0&label_click=undef&no_rooms=1&postcard=0&raw_dest_type=city&room1=A%2CA&sb_price_type=total&shw_aparth=1&slp_r_match=0&src=index&src_elem=sb&srpvid=58044079d9ea00a2&ss=Barcelona&ss_all=0&ssb=empty&sshis=0&ssne=Barcelona&ssne_untouched=Barcelona&top_ufis=1&rows=25&offset=75',\n",
    "            'https://www.booking.com/searchresults.en-gb.html?aid=304142&label=gen173nr-1DCAEoggI46AdIM1gEaEaIAQGYAQm4AQfIAQzYAQPoAQGIAgGoAgO4ArfHx_4FwAIB0gIkNmMyMDliOWYtMGVkMC00MDRlLWE4ODItZDZjMjVmZjgzODQx2AIE4AIB&sid=de6e37cacfee4d33e1f9b1c7b24a599a&tmpl=searchresults&checkin_month=3&checkin_monthday=30&checkin_year=2021&checkout_month=3&checkout_monthday=31&checkout_year=2021&class_interval=1&dest_id=-372490&dest_type=city&from_sf=1&group_adults=2&group_children=0&label_click=undef&no_rooms=1&raw_dest_type=city&room1=A%2CA&sb_price_type=total&shw_aparth=1&slp_r_match=0&src=index&src_elem=sb&srpvid=2c68402016810191&ss=Barcelona&ssb=empty&ssne=Barcelona&ssne_untouched=Barcelona&top_ufis=1&rows=25&offset=100',\n",
    "            'https://www.booking.com/searchresults.en-gb.html?aid=304142&label=gen173nr-1DCAEoggI46AdIM1gEaEaIAQGYAQm4AQfIAQzYAQPoAQGIAgGoAgO4ArfHx_4FwAIB0gIkNmMyMDliOWYtMGVkMC00MDRlLWE4ODItZDZjMjVmZjgzODQx2AIE4AIB&sid=de6e37cacfee4d33e1f9b1c7b24a599a&tmpl=searchresults&checkin_month=3&checkin_monthday=30&checkin_year=2021&checkout_month=3&checkout_monthday=31&checkout_year=2021&class_interval=1&dest_id=-372490&dest_type=city&dtdisc=0&from_sf=1&group_adults=2&group_children=0&inac=0&index_postcard=0&label_click=undef&no_rooms=1&postcard=0&raw_dest_type=city&room1=A%2CA&sb_price_type=total&shw_aparth=1&slp_r_match=0&src=index&src_elem=sb&srpvid=cec8402f4bbf004d&ss=Barcelona&ss_all=0&ssb=empty&sshis=0&ssne=Barcelona&ssne_untouched=Barcelona&top_ufis=1&rows=25&offset=125',\n",
    "            'https://www.booking.com/searchresults.en-gb.html?aid=304142&label=gen173nr-1DCAEoggI46AdIM1gEaEaIAQGYAQm4AQfIAQzYAQPoAQGIAgGoAgO4ArfHx_4FwAIB0gIkNmMyMDliOWYtMGVkMC00MDRlLWE4ODItZDZjMjVmZjgzODQx2AIE4AIB&sid=de6e37cacfee4d33e1f9b1c7b24a599a&tmpl=searchresults&checkin_month=3&checkin_monthday=30&checkin_year=2021&checkout_month=3&checkout_monthday=31&checkout_year=2021&class_interval=1&dest_id=-372490&dest_type=city&from_sf=1&group_adults=2&group_children=0&label_click=undef&no_rooms=1&raw_dest_type=city&room1=A%2CA&sb_price_type=total&shw_aparth=1&slp_r_match=0&src=index&src_elem=sb&srpvid=7a844047696c006c&ss=Barcelona&ssb=empty&ssne=Barcelona&ssne_untouched=Barcelona&top_ufis=1&rows=25&offset=150',\n",
    "            'https://www.booking.com/searchresults.en-gb.html?aid=304142&label=gen173nr-1DCAEoggI46AdIM1gEaEaIAQGYAQm4AQfIAQzYAQPoAQGIAgGoAgO4ArfHx_4FwAIB0gIkNmMyMDliOWYtMGVkMC00MDRlLWE4ODItZDZjMjVmZjgzODQx2AIE4AIB&sid=de6e37cacfee4d33e1f9b1c7b24a599a&tmpl=searchresults&checkin_month=3&checkin_monthday=30&checkin_year=2021&checkout_month=3&checkout_monthday=31&checkout_year=2021&class_interval=1&dest_id=-372490&dest_type=city&dtdisc=0&from_sf=1&group_adults=2&group_children=0&inac=0&index_postcard=0&label_click=undef&no_rooms=1&postcard=0&raw_dest_type=city&room1=A%2CA&sb_price_type=total&shw_aparth=1&slp_r_match=0&src=index&src_elem=sb&srpvid=70ec409de3660053&ss=Barcelona&ss_all=0&ssb=empty&sshis=0&ssne=Barcelona&ssne_untouched=Barcelona&top_ufis=1&rows=25&offset=175',\n",
    "            'https://www.booking.com/searchresults.en-gb.html?aid=304142&label=gen173nr-1DCAEoggI46AdIM1gEaEaIAQGYAQm4AQfIAQzYAQPoAQGIAgGoAgO4ArfHx_4FwAIB0gIkNmMyMDliOWYtMGVkMC00MDRlLWE4ODItZDZjMjVmZjgzODQx2AIE4AIB&sid=de6e37cacfee4d33e1f9b1c7b24a599a&tmpl=searchresults&checkin_month=3&checkin_monthday=30&checkin_year=2021&checkout_month=3&checkout_monthday=31&checkout_year=2021&class_interval=1&dest_id=-372490&dest_type=city&from_sf=1&group_adults=2&group_children=0&label_click=undef&no_rooms=1&raw_dest_type=city&room1=A%2CA&sb_price_type=total&shw_aparth=1&slp_r_match=0&src=index&src_elem=sb&srpvid=8aa140b1060a006d&ss=Barcelona&ssb=empty&ssne=Barcelona&ssne_untouched=Barcelona&top_ufis=1&rows=25&offset=200',\n",
    "            'https://www.booking.com/searchresults.en-gb.html?aid=304142&label=gen173nr-1DCAEoggI46AdIM1gEaEaIAQGYAQm4AQfIAQzYAQPoAQGIAgGoAgO4ArfHx_4FwAIB0gIkNmMyMDliOWYtMGVkMC00MDRlLWE4ODItZDZjMjVmZjgzODQx2AIE4AIB&sid=de6e37cacfee4d33e1f9b1c7b24a599a&tmpl=searchresults&checkin_month=3&checkin_monthday=30&checkin_year=2021&checkout_month=3&checkout_monthday=31&checkout_year=2021&class_interval=1&dest_id=-372490&dest_type=city&dtdisc=0&from_sf=1&group_adults=2&group_children=0&inac=0&index_postcard=0&label_click=undef&no_rooms=1&postcard=0&raw_dest_type=city&room1=A%2CA&sb_price_type=total&shw_aparth=1&slp_r_match=0&src=index&src_elem=sb&srpvid=6f6240be217c0110&ss=Barcelona&ss_all=0&ssb=empty&sshis=0&ssne=Barcelona&ssne_untouched=Barcelona&top_ufis=1&rows=25&offset=225',\n",
    "            'https://www.booking.com/searchresults.en-gb.html?aid=304142&label=gen173nr-1DCAEoggI46AdIM1gEaEaIAQGYAQm4AQfIAQzYAQPoAQGIAgGoAgO4ArfHx_4FwAIB0gIkNmMyMDliOWYtMGVkMC00MDRlLWE4ODItZDZjMjVmZjgzODQx2AIE4AIB&sid=de6e37cacfee4d33e1f9b1c7b24a599a&tmpl=searchresults&checkin_month=3&checkin_monthday=30&checkin_year=2021&checkout_month=3&checkout_monthday=31&checkout_year=2021&class_interval=1&dest_id=-372490&dest_type=city&from_sf=1&group_adults=2&group_children=0&label_click=undef&no_rooms=1&raw_dest_type=city&room1=A%2CA&sb_price_type=total&shw_aparth=1&slp_r_match=0&src=index&src_elem=sb&srpvid=0c2040cdcc2300bd&ss=Barcelona&ssb=empty&ssne=Barcelona&ssne_untouched=Barcelona&top_ufis=1&rows=25&offset=250',\n",
    "            'https://www.booking.com/searchresults.en-gb.html?aid=304142&label=gen173nr-1DCAEoggI46AdIM1gEaEaIAQGYAQm4AQfIAQzYAQPoAQGIAgGoAgO4ArfHx_4FwAIB0gIkNmMyMDliOWYtMGVkMC00MDRlLWE4ODItZDZjMjVmZjgzODQx2AIE4AIB&sid=de6e37cacfee4d33e1f9b1c7b24a599a&tmpl=searchresults&checkin_month=3&checkin_monthday=30&checkin_year=2021&checkout_month=3&checkout_monthday=31&checkout_year=2021&class_interval=1&dest_id=-372490&dest_type=city&dtdisc=0&from_sf=1&group_adults=2&group_children=0&inac=0&index_postcard=0&label_click=undef&no_rooms=1&postcard=0&raw_dest_type=city&room1=A%2CA&sb_price_type=total&shw_aparth=1&slp_r_match=0&src=index&src_elem=sb&srpvid=746740dc56620165&ss=Barcelona&ss_all=0&ssb=empty&sshis=0&ssne=Barcelona&ssne_untouched=Barcelona&top_ufis=1&rows=25&offset=275',\n",
    "            'https://www.booking.com/searchresults.en-gb.html?aid=304142&label=gen173nr-1DCAEoggI46AdIM1gEaEaIAQGYAQm4AQfIAQzYAQPoAQGIAgGoAgO4ArfHx_4FwAIB0gIkNmMyMDliOWYtMGVkMC00MDRlLWE4ODItZDZjMjVmZjgzODQx2AIE4AIB&sid=de6e37cacfee4d33e1f9b1c7b24a599a&tmpl=searchresults&checkin_month=3&checkin_monthday=30&checkin_year=2021&checkout_month=3&checkout_monthday=31&checkout_year=2021&class_interval=1&dest_id=-372490&dest_type=city&from_sf=1&group_adults=2&group_children=0&label_click=undef&no_rooms=1&raw_dest_type=city&room1=A%2CA&sb_price_type=total&shw_aparth=1&slp_r_match=0&src=index&src_elem=sb&srpvid=121940e9ad8d003a&ss=Barcelona&ssb=empty&ssne=Barcelona&ssne_untouched=Barcelona&top_ufis=1&rows=25&offset=300',\n",
    "            'https://www.booking.com/searchresults.en-gb.html?aid=304142&label=gen173nr-1DCAEoggI46AdIM1gEaEaIAQGYAQm4AQfIAQzYAQPoAQGIAgGoAgO4ArfHx_4FwAIB0gIkNmMyMDliOWYtMGVkMC00MDRlLWE4ODItZDZjMjVmZjgzODQx2AIE4AIB&sid=de6e37cacfee4d33e1f9b1c7b24a599a&tmpl=searchresults&checkin_month=3&checkin_monthday=30&checkin_year=2021&checkout_month=3&checkout_monthday=31&checkout_year=2021&class_interval=1&dest_id=-372490&dest_type=city&dtdisc=0&from_sf=1&group_adults=2&group_children=0&inac=0&index_postcard=0&label_click=undef&no_rooms=1&postcard=0&raw_dest_type=city&room1=A%2CA&sb_price_type=total&shw_aparth=1&slp_r_match=0&src=index&src_elem=sb&srpvid=797d40fe7c5e004f&ss=Barcelona&ss_all=0&ssb=empty&sshis=0&ssne=Barcelona&ssne_untouched=Barcelona&top_ufis=1&rows=25&offset=325',\n",
    "            'https://www.booking.com/searchresults.en-gb.html?aid=304142&label=gen173nr-1DCAEoggI46AdIM1gEaEaIAQGYAQm4AQfIAQzYAQPoAQGIAgGoAgO4ArfHx_4FwAIB0gIkNmMyMDliOWYtMGVkMC00MDRlLWE4ODItZDZjMjVmZjgzODQx2AIE4AIB&sid=de6e37cacfee4d33e1f9b1c7b24a599a&tmpl=searchresults&checkin_month=3&checkin_monthday=30&checkin_year=2021&checkout_month=3&checkout_monthday=31&checkout_year=2021&class_interval=1&dest_id=-372490&dest_type=city&from_sf=1&group_adults=2&group_children=0&label_click=undef&no_rooms=1&raw_dest_type=city&room1=A%2CA&sb_price_type=total&shw_aparth=1&slp_r_match=0&src=index&src_elem=sb&srpvid=fc9b410bbdf0001b&ss=Barcelona&ssb=empty&ssne=Barcelona&ssne_untouched=Barcelona&top_ufis=1&rows=25&offset=350',\n",
    "            'https://www.booking.com/searchresults.en-gb.html?aid=304142&label=gen173nr-1DCAEoggI46AdIM1gEaEaIAQGYAQm4AQfIAQzYAQPoAQGIAgGoAgO4ArfHx_4FwAIB0gIkNmMyMDliOWYtMGVkMC00MDRlLWE4ODItZDZjMjVmZjgzODQx2AIE4AIB&sid=de6e37cacfee4d33e1f9b1c7b24a599a&tmpl=searchresults&checkin_month=3&checkin_monthday=30&checkin_year=2021&checkout_month=3&checkout_monthday=31&checkout_year=2021&class_interval=1&dest_id=-372490&dest_type=city&dtdisc=0&from_sf=1&group_adults=2&group_children=0&inac=0&index_postcard=0&label_click=undef&no_rooms=1&postcard=0&raw_dest_type=city&room1=A%2CA&sb_price_type=total&shw_aparth=1&slp_r_match=0&src=index&src_elem=sb&srpvid=1cac412aaded018a&ss=Barcelona&ss_all=0&ssb=empty&sshis=0&ssne=Barcelona&ssne_untouched=Barcelona&top_ufis=1&rows=25&offset=375',\n",
    "            'https://www.booking.com/searchresults.en-gb.html?aid=304142&label=gen173nr-1DCAEoggI46AdIM1gEaEaIAQGYAQm4AQfIAQzYAQPoAQGIAgGoAgO4ArfHx_4FwAIB0gIkNmMyMDliOWYtMGVkMC00MDRlLWE4ODItZDZjMjVmZjgzODQx2AIE4AIB&sid=de6e37cacfee4d33e1f9b1c7b24a599a&tmpl=searchresults&checkin_month=3&checkin_monthday=30&checkin_year=2021&checkout_month=3&checkout_monthday=31&checkout_year=2021&class_interval=1&dest_id=-372490&dest_type=city&from_sf=1&group_adults=2&group_children=0&label_click=undef&no_rooms=1&raw_dest_type=city&room1=A%2CA&sb_price_type=total&shw_aparth=1&slp_r_match=0&src=index&src_elem=sb&srpvid=dcb7413a894900f6&ss=Barcelona&ssb=empty&ssne=Barcelona&ssne_untouched=Barcelona&top_ufis=1&rows=25&offset=400',\n",
    "            'https://www.booking.com/searchresults.en-gb.html?aid=304142&label=gen173nr-1DCAEoggI46AdIM1gEaEaIAQGYAQm4AQfIAQzYAQPoAQGIAgGoAgO4ArfHx_4FwAIB0gIkNmMyMDliOWYtMGVkMC00MDRlLWE4ODItZDZjMjVmZjgzODQx2AIE4AIB&sid=de6e37cacfee4d33e1f9b1c7b24a599a&tmpl=searchresults&checkin_month=3&checkin_monthday=30&checkin_year=2021&checkout_month=3&checkout_monthday=31&checkout_year=2021&class_interval=1&dest_id=-372490&dest_type=city&dtdisc=0&from_sf=1&group_adults=2&group_children=0&inac=0&index_postcard=0&label_click=undef&no_rooms=1&postcard=0&raw_dest_type=city&room1=A%2CA&sb_price_type=total&shw_aparth=1&slp_r_match=0&src=index&src_elem=sb&srpvid=19cc41448e6000ae&ss=Barcelona&ss_all=0&ssb=empty&sshis=0&ssne=Barcelona&ssne_untouched=Barcelona&top_ufis=1&rows=25&offset=425',\n",
    "            'https://www.booking.com/searchresults.en-gb.html?aid=304142&label=gen173nr-1DCAEoggI46AdIM1gEaEaIAQGYAQm4AQfIAQzYAQPoAQGIAgGoAgO4ArfHx_4FwAIB0gIkNmMyMDliOWYtMGVkMC00MDRlLWE4ODItZDZjMjVmZjgzODQx2AIE4AIB&sid=de6e37cacfee4d33e1f9b1c7b24a599a&tmpl=searchresults&checkin_month=3&checkin_monthday=30&checkin_year=2021&checkout_month=3&checkout_monthday=31&checkout_year=2021&class_interval=1&dest_id=-372490&dest_type=city&from_sf=1&group_adults=2&group_children=0&label_click=undef&no_rooms=1&raw_dest_type=city&room1=A%2CA&sb_price_type=total&shw_aparth=1&slp_r_match=0&src=index&src_elem=sb&srpvid=13b84157ed2b002e&ss=Barcelona&ssb=empty&ssne=Barcelona&ssne_untouched=Barcelona&top_ufis=1&rows=25&offset=450',\n",
    "            'https://www.booking.com/searchresults.en-gb.html?aid=304142&label=gen173nr-1DCAEoggI46AdIM1gEaEaIAQGYAQm4AQfIAQzYAQPoAQGIAgGoAgO4ArfHx_4FwAIB0gIkNmMyMDliOWYtMGVkMC00MDRlLWE4ODItZDZjMjVmZjgzODQx2AIE4AIB&sid=de6e37cacfee4d33e1f9b1c7b24a599a&tmpl=searchresults&checkin_month=3&checkin_monthday=30&checkin_year=2021&checkout_month=3&checkout_monthday=31&checkout_year=2021&class_interval=1&dest_id=-372490&dest_type=city&dtdisc=0&from_sf=1&group_adults=2&group_children=0&inac=0&index_postcard=0&label_click=undef&no_rooms=1&postcard=0&raw_dest_type=city&room1=A%2CA&sb_price_type=total&shw_aparth=1&slp_r_match=0&src=index&src_elem=sb&srpvid=dabe41620c0e00e3&ss=Barcelona&ss_all=0&ssb=empty&sshis=0&ssne=Barcelona&ssne_untouched=Barcelona&top_ufis=1&rows=25&offset=475']\n",
    "            "
   ]
  },
  {
   "cell_type": "code",
   "execution_count": 67,
   "metadata": {},
   "outputs": [
    {
     "name": "stdout",
     "output_type": "stream",
     "text": [
      "no info\n",
      "no info\n",
      "no info\n",
      "no info\n",
      "no info\n",
      "no info\n",
      "no info\n",
      "no info\n",
      "no info\n",
      "no info\n",
      "no info\n"
     ]
    }
   ],
   "source": [
    "# for loop for searching hotel names, links, scores and prices\n",
    "names=[]\n",
    "hotel_links=[]\n",
    "score=[]\n",
    "prices=[]\n",
    "\n",
    "for link in search_links:\n",
    "    headers = {'User-Agent':'Mozilla/5.0 (Macintosh; Intel Mac OS X 10_11_2) AppleWebKit/601.3.9 (KHTML, like Gecko) Version/9.0.2 Safari/601.3.9'}\n",
    "    url = link\n",
    "    response=requests.get(url,headers=headers)\n",
    "    soup=BeautifulSoup(response.content,'lxml')\n",
    "\n",
    "    for item in soup.select('.sr_property_block'):\n",
    "        try:\n",
    "            names.append(item.select('.sr-hotel__name')[0].get_text().strip())\n",
    "            hotel_links.append(item.select('.hotel_name_link')[0]['href'])\n",
    "            score.append(item.select('.bui-review-score__badge')[0].get_text().strip())\n",
    "            prices.append(item.select('.bui-price-display__value')[0].get_text().strip())\n",
    "        except Exception as e:\n",
    "            score.append(-1)\n",
    "            prices.append('€\\xa0666666')\n",
    "        #raise e\n",
    "            print('no info')"
   ]
  },
  {
   "cell_type": "code",
   "execution_count": 70,
   "metadata": {},
   "outputs": [],
   "source": [
    "# cleaning hotel links\n",
    "symbol = '\\n'\n",
    "links_clean=[item.translate(symbol).strip() for item in hotel_links]\n",
    "\n",
    "good_links = [f'https://www.booking.com{n}' for n in links_clean]"
   ]
  },
  {
   "cell_type": "code",
   "execution_count": 72,
   "metadata": {},
   "outputs": [],
   "source": [
    "# cleaning prices\n",
    "clean_prices=[]\n",
    "for i in prices:\n",
    "    clean_prices.append(re.findall(r\"\\b[0-9]+\\b\",i))\n",
    "    \n",
    "flat_list = [item for sublist in clean_prices for item in sublist]"
   ]
  },
  {
   "cell_type": "code",
   "execution_count": 16,
   "metadata": {},
   "outputs": [],
   "source": [
    "#looking for links to check pets\n",
    "pets_links=[] #runs about 5 min\n",
    "\n",
    "for link in search_links:\n",
    "    response=requests.get(link)\n",
    "    soup=BeautifulSoup(response.content, \"html.parser\")\n",
    "    for i in range (0,25):\n",
    "        pets_links.append(soup.findAll(\"a\", {\"class\": \"js-sr-hotel-link hotel_name_link url\"})[i]['href']) "
   ]
  },
  {
   "cell_type": "code",
   "execution_count": 18,
   "metadata": {},
   "outputs": [],
   "source": [
    "#cleaning links to check pets\n",
    "symbol = '\\n'\n",
    "pets_links_clean=[item.translate(symbol).strip() for item in pets_links]\n",
    "\n",
    "pets_good_links = [f'https://www.booking.com{n}' for n in pets_links_clean]"
   ]
  },
  {
   "cell_type": "code",
   "execution_count": 84,
   "metadata": {},
   "outputs": [
    {
     "name": "stdout",
     "output_type": "stream",
     "text": [
      "no info\n",
      "no info\n",
      "no info\n",
      "no info\n",
      "no info\n",
      "no info\n",
      "no info\n",
      "no info\n",
      "no info\n",
      "no info\n",
      "no info\n",
      "no info\n",
      "no info\n",
      "no info\n",
      "no info\n",
      "no info\n",
      "no info\n",
      "no info\n",
      "no info\n",
      "no info\n"
     ]
    }
   ],
   "source": [
    "# for loop for searching pets feature\n",
    "pets_bcn=[] #it runs about 25 min\n",
    "for link in pets_good_links:\n",
    "    try:\n",
    "        response=requests.get(link)\n",
    "        soup=BeautifulSoup(response.content, \"html.parser\")\n",
    "        pets_bcn.append(soup.select(\"ul > li > p\")[14].get_text())\n",
    "    except Exception as e:\n",
    "        pets_bcn.append(0)\n",
    "        #raise e\n",
    "        print('no info')"
   ]
  },
  {
   "cell_type": "code",
   "execution_count": 87,
   "metadata": {},
   "outputs": [],
   "source": [
    "# saving pets data\n",
    "df_pets_bcn = pd.DataFrame(pets_bcn)\n",
    "df_pets_bcn.to_csv('pets_bcn_data.csv')"
   ]
  },
  {
   "cell_type": "markdown",
   "metadata": {},
   "source": [
    "# Amsterdam"
   ]
  },
  {
   "cell_type": "code",
   "execution_count": 31,
   "metadata": {},
   "outputs": [],
   "source": [
    "search_links_amsterdam=['https://www.booking.com/searchresults.en-gb.html?label=gen173nr-1DCAEoggI46AdIM1gEaEaIAQGYAQm4AQfIAQzYAQPoAQGIAgGoAgO4ApXcx_4FwAIB0gIkMzFhZjc2NjAtNzEzZS00ZjNhLTljODQtZjhmMzlmMTM1Mzg12AIE4AIB&lang=en-gb&sid=de6e37cacfee4d33e1f9b1c7b24a599a&sb=1&sb_lp=1&src=index&src_elem=sb&error_url=https%3A%2F%2Fwww.booking.com%2Findex.en-gb.html%3Flabel%3Dgen173nr-1DCAEoggI46AdIM1gEaEaIAQGYAQm4AQfIAQzYAQPoAQGIAgGoAgO4ApXcx_4FwAIB0gIkMzFhZjc2NjAtNzEzZS00ZjNhLTljODQtZjhmMzlmMTM1Mzg12AIE4AIB%3Bsid%3Dde6e37cacfee4d33e1f9b1c7b24a599a%3Bsb_price_type%3Dtotal%26%3B&ss=Amsterdam%2C+Noord-Holland%2C+Netherlands&is_ski_area=0&ssne=Barcelona&ssne_untouched=Barcelona&checkin_year=2021&checkin_month=3&checkin_monthday=30&checkout_year=2021&checkout_month=3&checkout_monthday=31&group_adults=2&group_children=0&no_rooms=1&b_h4u_keep_filters=&from_sf=1&ac_position=0&ac_langcode=en&ac_click_type=b&dest_id=-2140479&dest_type=city&iata=AMS&place_id_lat=52.372898&place_id_lon=4.893&search_pageview_id=eaf0448a50be00ae&search_selected=true&ss_raw=amsterdam',\n",
    "                       'https://www.booking.com/searchresults.en-gb.html?label=gen173nr-1DCAEoggI46AdIM1gEaEaIAQGYAQm4AQfIAQzYAQPoAQGIAgGoAgO4ApXcx_4FwAIB0gIkMzFhZjc2NjAtNzEzZS00ZjNhLTljODQtZjhmMzlmMTM1Mzg12AIE4AIB&sid=de6e37cacfee4d33e1f9b1c7b24a599a&tmpl=searchresults&ac_click_type=b&ac_position=0&checkin_month=3&checkin_monthday=30&checkin_year=2021&checkout_month=3&checkout_monthday=31&checkout_year=2021&class_interval=1&dest_id=-2140479&dest_type=city&dtdisc=0&from_sf=1&group_adults=2&group_children=0&iata=AMS&inac=0&index_postcard=0&label_click=undef&no_rooms=1&postcard=0&raw_dest_type=city&room1=A%2CA&sb_price_type=total&search_selected=1&shw_aparth=1&slp_r_match=0&src=index&src_elem=sb&srpvid=349244b5d0ea011a&ss=Amsterdam%2C%20Noord-Holland%2C%20Netherlands&ss_all=0&ss_raw=amsterdam&ssb=empty&sshis=0&ssne=Barcelona&ssne_untouched=Barcelona&top_ufis=1&rows=25&offset=25',\n",
    "                       'https://www.booking.com/searchresults.en-gb.html?aid=304142&label=gen173nr-1DCAEoggI46AdIM1gEaEaIAQGYAQm4AQfIAQzYAQPoAQGIAgGoAgO4ApXcx_4FwAIB0gIkMzFhZjc2NjAtNzEzZS00ZjNhLTljODQtZjhmMzlmMTM1Mzg12AIE4AIB&sid=de6e37cacfee4d33e1f9b1c7b24a599a&tmpl=searchresults&ac_click_type=b&ac_position=0&checkin_month=3&checkin_monthday=30&checkin_year=2021&checkout_month=3&checkout_monthday=31&checkout_year=2021&class_interval=1&dest_id=-2140479&dest_type=city&from_sf=1&group_adults=2&group_children=0&iata=AMS&label_click=undef&no_rooms=1&raw_dest_type=city&room1=A%2CA&sb_price_type=total&search_selected=1&shw_aparth=1&slp_r_match=0&src=index&src_elem=sb&srpvid=752644d50c28009a&ss=Amsterdam%2C%20Noord-Holland%2C%20Netherlands&ss_raw=amsterdam&ssb=empty&ssne=Barcelona&ssne_untouched=Barcelona&top_ufis=1&rows=25&offset=50',\n",
    "                       'https://www.booking.com/searchresults.en-gb.html?aid=304142&label=gen173nr-1DCAEoggI46AdIM1gEaEaIAQGYAQm4AQfIAQzYAQPoAQGIAgGoAgO4ApXcx_4FwAIB0gIkMzFhZjc2NjAtNzEzZS00ZjNhLTljODQtZjhmMzlmMTM1Mzg12AIE4AIB&sid=de6e37cacfee4d33e1f9b1c7b24a599a&tmpl=searchresults&ac_click_type=b&ac_position=0&checkin_month=3&checkin_monthday=30&checkin_year=2021&checkout_month=3&checkout_monthday=31&checkout_year=2021&class_interval=1&dest_id=-2140479&dest_type=city&dtdisc=0&from_sf=1&group_adults=2&group_children=0&iata=AMS&inac=0&index_postcard=0&label_click=undef&no_rooms=1&postcard=0&raw_dest_type=city&room1=A%2CA&sb_price_type=total&search_selected=1&shw_aparth=1&slp_r_match=0&src=index&src_elem=sb&srpvid=b60944ed6d2200c4&ss=Amsterdam%2C%20Noord-Holland%2C%20Netherlands&ss_all=0&ss_raw=amsterdam&ssb=empty&sshis=0&ssne=Barcelona&ssne_untouched=Barcelona&top_ufis=1&rows=25&offset=75',\n",
    "                       'https://www.booking.com/searchresults.en-gb.html?aid=304142&label=gen173nr-1DCAEoggI46AdIM1gEaEaIAQGYAQm4AQfIAQzYAQPoAQGIAgGoAgO4ApXcx_4FwAIB0gIkMzFhZjc2NjAtNzEzZS00ZjNhLTljODQtZjhmMzlmMTM1Mzg12AIE4AIB&sid=de6e37cacfee4d33e1f9b1c7b24a599a&tmpl=searchresults&ac_click_type=b&ac_position=0&checkin_month=3&checkin_monthday=30&checkin_year=2021&checkout_month=3&checkout_monthday=31&checkout_year=2021&class_interval=1&dest_id=-2140479&dest_type=city&from_sf=1&group_adults=2&group_children=0&iata=AMS&label_click=undef&no_rooms=1&raw_dest_type=city&room1=A%2CA&sb_price_type=total&search_selected=1&shw_aparth=1&slp_r_match=0&src=index&src_elem=sb&srpvid=689544fbbb800079&ss=Amsterdam%2C%20Noord-Holland%2C%20Netherlands&ss_raw=amsterdam&ssb=empty&ssne=Barcelona&ssne_untouched=Barcelona&top_ufis=1&rows=25&offset=100',\n",
    "                       'https://www.booking.com/searchresults.en-gb.html?aid=304142&label=gen173nr-1DCAEoggI46AdIM1gEaEaIAQGYAQm4AQfIAQzYAQPoAQGIAgGoAgO4ApXcx_4FwAIB0gIkMzFhZjc2NjAtNzEzZS00ZjNhLTljODQtZjhmMzlmMTM1Mzg12AIE4AIB&sid=de6e37cacfee4d33e1f9b1c7b24a599a&tmpl=searchresults&ac_click_type=b&ac_position=0&checkin_month=3&checkin_monthday=30&checkin_year=2021&checkout_month=3&checkout_monthday=31&checkout_year=2021&class_interval=1&dest_id=-2140479&dest_type=city&dtdisc=0&from_sf=1&group_adults=2&group_children=0&iata=AMS&inac=0&index_postcard=0&label_click=undef&no_rooms=1&postcard=0&raw_dest_type=city&room1=A%2CA&sb_price_type=total&search_selected=1&shw_aparth=1&slp_r_match=0&src=index&src_elem=sb&srpvid=42c5450b4a1b0054&ss=Amsterdam%2C%20Noord-Holland%2C%20Netherlands&ss_all=0&ss_raw=amsterdam&ssb=empty&sshis=0&ssne=Barcelona&ssne_untouched=Barcelona&top_ufis=1&rows=25&offset=125',\n",
    "                       'https://www.booking.com/searchresults.en-gb.html?aid=304142&label=gen173nr-1DCAEoggI46AdIM1gEaEaIAQGYAQm4AQfIAQzYAQPoAQGIAgGoAgO4ApXcx_4FwAIB0gIkMzFhZjc2NjAtNzEzZS00ZjNhLTljODQtZjhmMzlmMTM1Mzg12AIE4AIB&sid=de6e37cacfee4d33e1f9b1c7b24a599a&tmpl=searchresults&ac_click_type=b&ac_position=0&checkin_month=3&checkin_monthday=30&checkin_year=2021&checkout_month=3&checkout_monthday=31&checkout_year=2021&class_interval=1&dest_id=-2140479&dest_type=city&from_sf=1&group_adults=2&group_children=0&iata=AMS&label_click=undef&no_rooms=1&raw_dest_type=city&room1=A%2CA&sb_price_type=total&search_selected=1&shw_aparth=1&slp_r_match=0&src=index&src_elem=sb&srpvid=5f0d45197739005b&ss=Amsterdam%2C%20Noord-Holland%2C%20Netherlands&ss_raw=amsterdam&ssb=empty&ssne=Barcelona&ssne_untouched=Barcelona&top_ufis=1&rows=25&offset=150',\n",
    "                        'https://www.booking.com/searchresults.en-gb.html?aid=304142&label=gen173nr-1DCAEoggI46AdIM1gEaEaIAQGYAQm4AQfIAQzYAQPoAQGIAgGoAgO4ApXcx_4FwAIB0gIkMzFhZjc2NjAtNzEzZS00ZjNhLTljODQtZjhmMzlmMTM1Mzg12AIE4AIB&sid=de6e37cacfee4d33e1f9b1c7b24a599a&tmpl=searchresults&ac_click_type=b&ac_position=0&checkin_month=3&checkin_monthday=30&checkin_year=2021&checkout_month=3&checkout_monthday=31&checkout_year=2021&class_interval=1&dest_id=-2140479&dest_type=city&dtdisc=0&from_sf=1&group_adults=2&group_children=0&iata=AMS&inac=0&index_postcard=0&label_click=undef&no_rooms=1&postcard=0&raw_dest_type=city&room1=A%2CA&sb_price_type=total&search_selected=1&shw_aparth=1&slp_r_match=0&src=index&src_elem=sb&srpvid=d89145cad84700ea&ss=Amsterdam%2C%20Noord-Holland%2C%20Netherlands&ss_all=0&ss_raw=amsterdam&ssb=empty&sshis=0&ssne=Barcelona&ssne_untouched=Barcelona&top_ufis=1&rows=25&offset=175',\n",
    "                       'https://www.booking.com/searchresults.en-gb.html?aid=304142&label=gen173nr-1DCAEoggI46AdIM1gEaEaIAQGYAQm4AQfIAQzYAQPoAQGIAgGoAgO4ApXcx_4FwAIB0gIkMzFhZjc2NjAtNzEzZS00ZjNhLTljODQtZjhmMzlmMTM1Mzg12AIE4AIB&sid=de6e37cacfee4d33e1f9b1c7b24a599a&tmpl=searchresults&ac_click_type=b&ac_position=0&checkin_month=3&checkin_monthday=30&checkin_year=2021&checkout_month=3&checkout_monthday=31&checkout_year=2021&class_interval=1&dest_id=-2140479&dest_type=city&from_sf=1&group_adults=2&group_children=0&iata=AMS&label_click=undef&no_rooms=1&raw_dest_type=city&room1=A%2CA&sb_price_type=total&search_selected=1&shw_aparth=1&slp_r_match=0&src=index&src_elem=sb&srpvid=b53045e82d3f0019&ss=Amsterdam%2C%20Noord-Holland%2C%20Netherlands&ss_raw=amsterdam&ssb=empty&ssne=Barcelona&ssne_untouched=Barcelona&top_ufis=1&rows=25&offset=200',\n",
    "                       'https://www.booking.com/searchresults.en-gb.html?aid=304142&label=gen173nr-1DCAEoggI46AdIM1gEaEaIAQGYAQm4AQfIAQzYAQPoAQGIAgGoAgO4ApXcx_4FwAIB0gIkMzFhZjc2NjAtNzEzZS00ZjNhLTljODQtZjhmMzlmMTM1Mzg12AIE4AIB&sid=de6e37cacfee4d33e1f9b1c7b24a599a&tmpl=searchresults&ac_click_type=b&ac_position=0&checkin_month=3&checkin_monthday=30&checkin_year=2021&checkout_month=3&checkout_monthday=31&checkout_year=2021&class_interval=1&dest_id=-2140479&dest_type=city&dtdisc=0&from_sf=1&group_adults=2&group_children=0&iata=AMS&inac=0&index_postcard=0&label_click=undef&no_rooms=1&postcard=0&raw_dest_type=city&room1=A%2CA&sb_price_type=total&search_selected=1&shw_aparth=1&slp_r_match=0&src=index&src_elem=sb&srpvid=455446095e2400f0&ss=Amsterdam%2C%20Noord-Holland%2C%20Netherlands&ss_all=0&ss_raw=amsterdam&ssb=empty&sshis=0&ssne=Barcelona&ssne_untouched=Barcelona&top_ufis=1&rows=25&offset=225',\n",
    "                       'https://www.booking.com/searchresults.en-gb.html?aid=304142&label=gen173nr-1DCAEoggI46AdIM1gEaEaIAQGYAQm4AQfIAQzYAQPoAQGIAgGoAgO4ApXcx_4FwAIB0gIkMzFhZjc2NjAtNzEzZS00ZjNhLTljODQtZjhmMzlmMTM1Mzg12AIE4AIB&sid=de6e37cacfee4d33e1f9b1c7b24a599a&tmpl=searchresults&ac_click_type=b&ac_position=0&checkin_month=3&checkin_monthday=30&checkin_year=2021&checkout_month=3&checkout_monthday=31&checkout_year=2021&class_interval=1&dest_id=-2140479&dest_type=city&from_sf=1&group_adults=2&group_children=0&iata=AMS&label_click=undef&no_rooms=1&raw_dest_type=city&room1=A%2CA&sb_price_type=total&search_selected=1&shw_aparth=1&slp_r_match=0&src=index&src_elem=sb&srpvid=2a1b462cb2a8006c&ss=Amsterdam%2C%20Noord-Holland%2C%20Netherlands&ss_raw=amsterdam&ssb=empty&ssne=Barcelona&ssne_untouched=Barcelona&top_ufis=1&rows=25&offset=250',\n",
    "                       'https://www.booking.com/searchresults.en-gb.html?aid=304142&label=gen173nr-1DCAEoggI46AdIM1gEaEaIAQGYAQm4AQfIAQzYAQPoAQGIAgGoAgO4ApXcx_4FwAIB0gIkMzFhZjc2NjAtNzEzZS00ZjNhLTljODQtZjhmMzlmMTM1Mzg12AIE4AIB&sid=de6e37cacfee4d33e1f9b1c7b24a599a&tmpl=searchresults&ac_click_type=b&ac_position=0&checkin_month=3&checkin_monthday=30&checkin_year=2021&checkout_month=3&checkout_monthday=31&checkout_year=2021&class_interval=1&dest_id=-2140479&dest_type=city&dtdisc=0&from_sf=1&group_adults=2&group_children=0&iata=AMS&inac=0&index_postcard=0&label_click=undef&no_rooms=1&postcard=0&raw_dest_type=city&room1=A%2CA&sb_price_type=total&search_selected=1&shw_aparth=1&slp_r_match=0&src=index&src_elem=sb&srpvid=d6ea4650f08700a3&ss=Amsterdam%2C%20Noord-Holland%2C%20Netherlands&ss_all=0&ss_raw=amsterdam&ssb=empty&sshis=0&ssne=Barcelona&ssne_untouched=Barcelona&top_ufis=1&rows=25&offset=275',\n",
    "                       'https://www.booking.com/searchresults.en-gb.html?aid=304142&label=gen173nr-1DCAEoggI46AdIM1gEaEaIAQGYAQm4AQfIAQzYAQPoAQGIAgGoAgO4ApXcx_4FwAIB0gIkMzFhZjc2NjAtNzEzZS00ZjNhLTljODQtZjhmMzlmMTM1Mzg12AIE4AIB&sid=de6e37cacfee4d33e1f9b1c7b24a599a&tmpl=searchresults&ac_click_type=b&ac_position=0&checkin_month=3&checkin_monthday=30&checkin_year=2021&checkout_month=3&checkout_monthday=31&checkout_year=2021&class_interval=1&dest_id=-2140479&dest_type=city&from_sf=1&group_adults=2&group_children=0&iata=AMS&label_click=undef&no_rooms=1&raw_dest_type=city&room1=A%2CA&sb_price_type=total&search_selected=1&shw_aparth=1&slp_r_match=0&src=index&src_elem=sb&srpvid=e2c546607816002d&ss=Amsterdam%2C%20Noord-Holland%2C%20Netherlands&ss_raw=amsterdam&ssb=empty&ssne=Barcelona&ssne_untouched=Barcelona&top_ufis=1&rows=25&offset=300',\n",
    "                       'https://www.booking.com/searchresults.en-gb.html?aid=304142&label=gen173nr-1DCAEoggI46AdIM1gEaEaIAQGYAQm4AQfIAQzYAQPoAQGIAgGoAgO4ApXcx_4FwAIB0gIkMzFhZjc2NjAtNzEzZS00ZjNhLTljODQtZjhmMzlmMTM1Mzg12AIE4AIB&sid=de6e37cacfee4d33e1f9b1c7b24a599a&tmpl=searchresults&ac_click_type=b&ac_position=0&checkin_month=3&checkin_monthday=30&checkin_year=2021&checkout_month=3&checkout_monthday=31&checkout_year=2021&class_interval=1&dest_id=-2140479&dest_type=city&dtdisc=0&from_sf=1&group_adults=2&group_children=0&iata=AMS&inac=0&index_postcard=0&label_click=undef&no_rooms=1&postcard=0&raw_dest_type=city&room1=A%2CA&sb_price_type=total&search_selected=1&shw_aparth=1&slp_r_match=0&src=index&src_elem=sb&srpvid=766a466e14220010&ss=Amsterdam%2C%20Noord-Holland%2C%20Netherlands&ss_all=0&ss_raw=amsterdam&ssb=empty&sshis=0&ssne=Barcelona&ssne_untouched=Barcelona&top_ufis=1&rows=25&offset=325',\n",
    "                       'https://www.booking.com/searchresults.en-gb.html?aid=304142&label=gen173nr-1DCAEoggI46AdIM1gEaEaIAQGYAQm4AQfIAQzYAQPoAQGIAgGoAgO4ApXcx_4FwAIB0gIkMzFhZjc2NjAtNzEzZS00ZjNhLTljODQtZjhmMzlmMTM1Mzg12AIE4AIB&sid=de6e37cacfee4d33e1f9b1c7b24a599a&tmpl=searchresults&ac_click_type=b&ac_position=0&checkin_month=3&checkin_monthday=30&checkin_year=2021&checkout_month=3&checkout_monthday=31&checkout_year=2021&class_interval=1&dest_id=-2140479&dest_type=city&from_sf=1&group_adults=2&group_children=0&iata=AMS&label_click=undef&no_rooms=1&raw_dest_type=city&room1=A%2CA&sb_price_type=total&search_selected=1&shw_aparth=1&slp_r_match=0&src=index&src_elem=sb&srpvid=863e467de0ec004d&ss=Amsterdam%2C%20Noord-Holland%2C%20Netherlands&ss_raw=amsterdam&ssb=empty&ssne=Barcelona&ssne_untouched=Barcelona&top_ufis=1&rows=25&offset=350',\n",
    "                       'https://www.booking.com/searchresults.en-gb.html?aid=304142&label=gen173nr-1DCAEoggI46AdIM1gEaEaIAQGYAQm4AQfIAQzYAQPoAQGIAgGoAgO4ApXcx_4FwAIB0gIkMzFhZjc2NjAtNzEzZS00ZjNhLTljODQtZjhmMzlmMTM1Mzg12AIE4AIB&sid=de6e37cacfee4d33e1f9b1c7b24a599a&tmpl=searchresults&ac_click_type=b&ac_position=0&checkin_month=3&checkin_monthday=30&checkin_year=2021&checkout_month=3&checkout_monthday=31&checkout_year=2021&class_interval=1&dest_id=-2140479&dest_type=city&dtdisc=0&from_sf=1&group_adults=2&group_children=0&iata=AMS&inac=0&index_postcard=0&label_click=undef&no_rooms=1&postcard=0&raw_dest_type=city&room1=A%2CA&sb_price_type=total&search_selected=1&shw_aparth=1&slp_r_match=0&src=index&src_elem=sb&srpvid=7239468d07d00096&ss=Amsterdam%2C%20Noord-Holland%2C%20Netherlands&ss_all=0&ss_raw=amsterdam&ssb=empty&sshis=0&ssne=Barcelona&ssne_untouched=Barcelona&top_ufis=1&rows=25&offset=375',\n",
    "                       'https://www.booking.com/searchresults.en-gb.html?aid=304142&label=gen173nr-1DCAEoggI46AdIM1gEaEaIAQGYAQm4AQfIAQzYAQPoAQGIAgGoAgO4ApXcx_4FwAIB0gIkMzFhZjc2NjAtNzEzZS00ZjNhLTljODQtZjhmMzlmMTM1Mzg12AIE4AIB&sid=de6e37cacfee4d33e1f9b1c7b24a599a&tmpl=searchresults&ac_click_type=b&ac_position=0&checkin_month=3&checkin_monthday=30&checkin_year=2021&checkout_month=3&checkout_monthday=31&checkout_year=2021&class_interval=1&dest_id=-2140479&dest_type=city&from_sf=1&group_adults=2&group_children=0&iata=AMS&label_click=undef&no_rooms=1&raw_dest_type=city&room1=A%2CA&sb_price_type=total&search_selected=1&shw_aparth=1&slp_r_match=0&src=index&src_elem=sb&srpvid=6fb14699a4f600c5&ss=Amsterdam%2C%20Noord-Holland%2C%20Netherlands&ss_raw=amsterdam&ssb=empty&ssne=Barcelona&ssne_untouched=Barcelona&top_ufis=1&rows=25&offset=400',\n",
    "                       'https://www.booking.com/searchresults.en-gb.html?aid=304142&label=gen173nr-1DCAEoggI46AdIM1gEaEaIAQGYAQm4AQfIAQzYAQPoAQGIAgGoAgO4ApXcx_4FwAIB0gIkMzFhZjc2NjAtNzEzZS00ZjNhLTljODQtZjhmMzlmMTM1Mzg12AIE4AIB&sid=de6e37cacfee4d33e1f9b1c7b24a599a&tmpl=searchresults&ac_click_type=b&ac_position=0&checkin_month=3&checkin_monthday=30&checkin_year=2021&checkout_month=3&checkout_monthday=31&checkout_year=2021&class_interval=1&dest_id=-2140479&dest_type=city&dtdisc=0&from_sf=1&group_adults=2&group_children=0&iata=AMS&inac=0&index_postcard=0&label_click=undef&no_rooms=1&postcard=0&raw_dest_type=city&room1=A%2CA&sb_price_type=total&search_selected=1&shw_aparth=1&slp_r_match=0&src=index&src_elem=sb&srpvid=20cf46ac5f9e00ff&ss=Amsterdam%2C%20Noord-Holland%2C%20Netherlands&ss_all=0&ss_raw=amsterdam&ssb=empty&sshis=0&ssne=Barcelona&ssne_untouched=Barcelona&top_ufis=1&rows=25&offset=425',\n",
    "                       'https://www.booking.com/searchresults.en-gb.html?aid=304142&label=gen173nr-1DCAEoggI46AdIM1gEaEaIAQGYAQm4AQfIAQzYAQPoAQGIAgGoAgO4ApXcx_4FwAIB0gIkMzFhZjc2NjAtNzEzZS00ZjNhLTljODQtZjhmMzlmMTM1Mzg12AIE4AIB&sid=de6e37cacfee4d33e1f9b1c7b24a599a&tmpl=searchresults&ac_click_type=b&ac_position=0&checkin_month=3&checkin_monthday=30&checkin_year=2021&checkout_month=3&checkout_monthday=31&checkout_year=2021&class_interval=1&dest_id=-2140479&dest_type=city&dtdisc=0&from_sf=1&group_adults=2&group_children=0&iata=AMS&inac=0&index_postcard=0&label_click=undef&no_rooms=1&order=upsort_bh&postcard=0&raw_dest_type=city&room1=A%2CA&sb_price_type=total&search_selected=1&shw_aparth=1&slp_r_match=0&src_elem=sb&srpvid=e65146da743900dc&ss=Amsterdam%2C%20Noord-Holland%2C%20Netherlands&ss_all=0&ss_raw=amsterdam&ssb=empty&sshis=0&ssne=Barcelona&ssne_untouched=Barcelona&top_ufis=1&rows=25&offset=450',\n",
    "                       'https://www.booking.com/searchresults.en-gb.html?aid=304142&label=gen173nr-1DCAEoggI46AdIM1gEaEaIAQGYAQm4AQfIAQzYAQPoAQGIAgGoAgO4ApXcx_4FwAIB0gIkMzFhZjc2NjAtNzEzZS00ZjNhLTljODQtZjhmMzlmMTM1Mzg12AIE4AIB&sid=de6e37cacfee4d33e1f9b1c7b24a599a&tmpl=searchresults&ac_click_type=b&ac_position=0&checkin_month=3&checkin_monthday=30&checkin_year=2021&checkout_month=3&checkout_monthday=31&checkout_year=2021&class_interval=1&dest_id=-2140479&dest_type=city&from_sf=1&group_adults=2&group_children=0&iata=AMS&label_click=undef&no_rooms=1&order=upsort_bh&raw_dest_type=city&room1=A%2CA&sb_price_type=total&search_selected=1&shw_aparth=1&slp_r_match=0&src_elem=sb&srpvid=2f7e46e83e61002d&ss=Amsterdam%2C%20Noord-Holland%2C%20Netherlands&ss_raw=amsterdam&ssb=empty&ssne=Barcelona&ssne_untouched=Barcelona&top_ufis=1&rows=25&offset=475']"
   ]
  },
  {
   "cell_type": "code",
   "execution_count": 105,
   "metadata": {},
   "outputs": [
    {
     "name": "stdout",
     "output_type": "stream",
     "text": [
      "no info\n",
      "no info\n",
      "no info\n",
      "no info\n",
      "no info\n",
      "no info\n",
      "no info\n",
      "no info\n",
      "no info\n",
      "no info\n",
      "no info\n",
      "no info\n",
      "no info\n",
      "no info\n",
      "no info\n",
      "no info\n",
      "no info\n",
      "no info\n",
      "no info\n",
      "no info\n",
      "no info\n",
      "no info\n",
      "no info\n",
      "no info\n",
      "no info\n",
      "no info\n",
      "no info\n",
      "no info\n",
      "no info\n",
      "no info\n",
      "no info\n",
      "no info\n",
      "no info\n",
      "no info\n",
      "no info\n",
      "no info\n"
     ]
    }
   ],
   "source": [
    "# for loop for searching hotel names, links, scores and prices\n",
    "names_amsterdam=[]\n",
    "hotel_links_amsterdam=[]\n",
    "score_amsterdam=[]\n",
    "prices_amsterdam=[]\n",
    "\n",
    "for link in search_links_amsterdam:\n",
    "    headers = {'User-Agent':'Mozilla/5.0 (Macintosh; Intel Mac OS X 10_11_2) AppleWebKit/601.3.9 (KHTML, like Gecko) Version/9.0.2 Safari/601.3.9'}\n",
    "    url = link\n",
    "    response=requests.get(url,headers=headers)\n",
    "    soup=BeautifulSoup(response.content,'lxml')\n",
    "\n",
    "    for item in soup.select('.sr_property_block'):\n",
    "        try:\n",
    "            names_amsterdam.append(item.select('.sr-hotel__name')[0].get_text().strip())\n",
    "            hotel_links_amsterdam.append(item.select('.hotel_name_link')[0]['href'])\n",
    "            score_amsterdam.append(item.select('.bui-review-score__badge')[0].get_text().strip())\n",
    "            prices_amsterdam.append(item.select('.bui-price-display__value')[0].get_text().strip())\n",
    "        except Exception as e:\n",
    "            score_amsterdam.append(-1)\n",
    "            prices_amsterdam.append('€\\xa0666666')\n",
    "        #raise e\n",
    "            print('no info')"
   ]
  },
  {
   "cell_type": "code",
   "execution_count": 130,
   "metadata": {},
   "outputs": [],
   "source": [
    "#looking for links to check pets\n",
    "pets_links_amsterdam=[] #runs about 5 min\n",
    "\n",
    "for link in search_links_amsterdam:\n",
    "    response=requests.get(link)\n",
    "    soup=BeautifulSoup(response.content, \"html.parser\")\n",
    "    for i in range (0,25):\n",
    "        pets_links_amsterdam.append(soup.findAll(\"a\", {\"class\": \"js-sr-hotel-link hotel_name_link url\"})[i]['href']) "
   ]
  },
  {
   "cell_type": "code",
   "execution_count": 132,
   "metadata": {},
   "outputs": [],
   "source": [
    "#cleaning links to check pets\n",
    "symbol = '\\n'\n",
    "pets_links_clean_amsterdam=[item.translate(symbol).strip() for item in pets_links_amsterdam]\n",
    "\n",
    "pets_good_links_amsterdam = [f'https://www.booking.com{n}' for n in pets_links_clean_amsterdam]"
   ]
  },
  {
   "cell_type": "code",
   "execution_count": 133,
   "metadata": {},
   "outputs": [
    {
     "name": "stdout",
     "output_type": "stream",
     "text": [
      "no info\n",
      "no info\n",
      "no info\n",
      "no info\n",
      "no info\n",
      "no info\n",
      "no info\n",
      "no info\n",
      "no info\n",
      "no info\n",
      "no info\n",
      "no info\n",
      "no info\n",
      "no info\n",
      "no info\n",
      "no info\n",
      "no info\n",
      "no info\n",
      "no info\n",
      "no info\n",
      "no info\n",
      "no info\n",
      "no info\n",
      "no info\n",
      "no info\n",
      "no info\n",
      "no info\n",
      "no info\n"
     ]
    }
   ],
   "source": [
    "# for loop for searching pets feature\n",
    "pets_amsterdam=[] #it runs about 25 min\n",
    "for link in pets_good_links_amsterdam:\n",
    "    try:\n",
    "        response=requests.get(link)\n",
    "        soup=BeautifulSoup(response.content, \"html.parser\")\n",
    "        pets_amsterdam.append(soup.select(\"ul > li > p\")[14].get_text())\n",
    "    except Exception as e:\n",
    "        pets_amsterdam.append(0)\n",
    "        #raise e\n",
    "        print('no info')"
   ]
  },
  {
   "cell_type": "code",
   "execution_count": 135,
   "metadata": {},
   "outputs": [],
   "source": [
    "# saving pets data\n",
    "df_pets_amsterdam = pd.DataFrame(pets_amsterdam)\n",
    "df_pets_amsterdam.to_csv('pets_amster_data.csv')"
   ]
  },
  {
   "cell_type": "markdown",
   "metadata": {},
   "source": [
    "# Lisabon"
   ]
  },
  {
   "cell_type": "code",
   "execution_count": 117,
   "metadata": {},
   "outputs": [],
   "source": [
    "search_links_lisabon=['https://www.booking.com/searchresults.en-gb.html?label=gen173nr-1DCAEoggI46AdIM1gEaEaIAQGYAQm4AQfIAQzYAQPoAQGIAgGoAgO4Ap-NyP4FwAIB0gIkMDE2MjJkMDQtZGIwYy00OGU5LWI3YmEtMGE3NzRmZGE0MTAx2AIE4AIB&lang=en-gb&sid=de6e37cacfee4d33e1f9b1c7b24a599a&sb=1&sb_lp=1&src=index&src_elem=sb&error_url=https%3A%2F%2Fwww.booking.com%2Findex.en-gb.html%3Flabel%3Dgen173nr-1DCAEoggI46AdIM1gEaEaIAQGYAQm4AQfIAQzYAQPoAQGIAgGoAgO4Ap-NyP4FwAIB0gIkMDE2MjJkMDQtZGIwYy00OGU5LWI3YmEtMGE3NzRmZGE0MTAx2AIE4AIB%3Bsid%3Dde6e37cacfee4d33e1f9b1c7b24a599a%3Bsb_price_type%3Dtotal%26%3B&ss=Lisbon%2C+Lisbon+Region%2C+Portugal&is_ski_area=&ssne=Prague&ssne_untouched=Prague&checkin_year=2021&checkin_month=3&checkin_monthday=30&checkout_year=2021&checkout_month=3&checkout_monthday=31&group_adults=2&group_children=0&no_rooms=1&b_h4u_keep_filters=&from_sf=1&search_pageview_id=788950cf1cbc00de&ac_suggestion_list_length=5&ac_suggestion_theme_list_length=0&ac_position=0&ac_langcode=en&ac_click_type=b&dest_id=-2167973&dest_type=city&iata=LIS&place_id_lat=38.713833&place_id_lon=-9.139315&search_pageview_id=788950cf1cbc00de&search_selected=true&ss_raw=lisabo',\n",
    "                    'https://www.booking.com/searchresults.en-gb.html?label=gen173nr-1DCAEoggI46AdIM1gEaEaIAQGYAQm4AQfIAQzYAQPoAQGIAgGoAgO4Ap-NyP4FwAIB0gIkMDE2MjJkMDQtZGIwYy00OGU5LWI3YmEtMGE3NzRmZGE0MTAx2AIE4AIB&sid=de6e37cacfee4d33e1f9b1c7b24a599a&tmpl=searchresults&ac_click_type=b&ac_position=0&checkin_month=3&checkin_monthday=30&checkin_year=2021&checkout_month=3&checkout_monthday=31&checkout_year=2021&class_interval=1&dest_id=-2167973&dest_type=city&dtdisc=0&from_sf=1&group_adults=2&group_children=0&iata=LIS&inac=0&index_postcard=0&label_click=undef&no_rooms=1&postcard=0&raw_dest_type=city&room1=A%2CA&sb_price_type=total&search_selected=1&shw_aparth=1&slp_r_match=0&src=index&src_elem=sb&srpvid=2b9c50d47150010a&ss=Lisbon%2C%20Lisbon%20Region%2C%20Portugal&ss_all=0&ss_raw=lisabo&ssb=empty&sshis=0&ssne=Prague&ssne_untouched=Prague&top_ufis=1&rows=25&offset=25',\n",
    "                    'https://www.booking.com/searchresults.en-gb.html?aid=304142&label=gen173nr-1DCAEoggI46AdIM1gEaEaIAQGYAQm4AQfIAQzYAQPoAQGIAgGoAgO4Ap-NyP4FwAIB0gIkMDE2MjJkMDQtZGIwYy00OGU5LWI3YmEtMGE3NzRmZGE0MTAx2AIE4AIB&sid=de6e37cacfee4d33e1f9b1c7b24a599a&tmpl=searchresults&ac_click_type=b&ac_position=0&checkin_month=3&checkin_monthday=30&checkin_year=2021&checkout_month=3&checkout_monthday=31&checkout_year=2021&class_interval=1&dest_id=-2167973&dest_type=city&from_sf=1&group_adults=2&group_children=0&iata=LIS&label_click=undef&no_rooms=1&raw_dest_type=city&room1=A%2CA&sb_price_type=total&search_selected=1&shw_aparth=1&slp_r_match=0&src=index&src_elem=sb&srpvid=ac9a50e5c7140024&ss=Lisbon%2C%20Lisbon%20Region%2C%20Portugal&ss_raw=lisabo&ssb=empty&ssne=Prague&ssne_untouched=Prague&top_ufis=1&rows=25&offset=50',\n",
    "                    'https://www.booking.com/searchresults.en-gb.html?aid=304142&label=gen173nr-1DCAEoggI46AdIM1gEaEaIAQGYAQm4AQfIAQzYAQPoAQGIAgGoAgO4Ap-NyP4FwAIB0gIkMDE2MjJkMDQtZGIwYy00OGU5LWI3YmEtMGE3NzRmZGE0MTAx2AIE4AIB&sid=de6e37cacfee4d33e1f9b1c7b24a599a&tmpl=searchresults&ac_click_type=b&ac_position=0&checkin_month=3&checkin_monthday=30&checkin_year=2021&checkout_month=3&checkout_monthday=31&checkout_year=2021&class_interval=1&dest_id=-2167973&dest_type=city&dtdisc=0&from_sf=1&group_adults=2&group_children=0&iata=LIS&inac=0&index_postcard=0&label_click=undef&no_rooms=1&postcard=0&raw_dest_type=city&room1=A%2CA&sb_price_type=total&search_selected=1&shw_aparth=1&slp_r_match=0&src=index&src_elem=sb&srpvid=90a250f58c360114&ss=Lisbon%2C%20Lisbon%20Region%2C%20Portugal&ss_all=0&ss_raw=lisabo&ssb=empty&sshis=0&ssne=Prague&ssne_untouched=Prague&top_ufis=1&rows=25&offset=75',\n",
    "                    'https://www.booking.com/searchresults.en-gb.html?aid=304142&label=gen173nr-1DCAEoggI46AdIM1gEaEaIAQGYAQm4AQfIAQzYAQPoAQGIAgGoAgO4Ap-NyP4FwAIB0gIkMDE2MjJkMDQtZGIwYy00OGU5LWI3YmEtMGE3NzRmZGE0MTAx2AIE4AIB&sid=de6e37cacfee4d33e1f9b1c7b24a599a&tmpl=searchresults&ac_click_type=b&ac_position=0&checkin_month=3&checkin_monthday=30&checkin_year=2021&checkout_month=3&checkout_monthday=31&checkout_year=2021&class_interval=1&dest_id=-2167973&dest_type=city&from_sf=1&group_adults=2&group_children=0&iata=LIS&label_click=undef&no_rooms=1&raw_dest_type=city&room1=A%2CA&sb_price_type=total&search_selected=1&shw_aparth=1&slp_r_match=0&src=index&src_elem=sb&srpvid=87175103c0b300ba&ss=Lisbon%2C%20Lisbon%20Region%2C%20Portugal&ss_raw=lisabo&ssb=empty&ssne=Prague&ssne_untouched=Prague&top_ufis=1&rows=25&offset=100',\n",
    "                    'https://www.booking.com/searchresults.en-gb.html?aid=304142&label=gen173nr-1DCAEoggI46AdIM1gEaEaIAQGYAQm4AQfIAQzYAQPoAQGIAgGoAgO4Ap-NyP4FwAIB0gIkMDE2MjJkMDQtZGIwYy00OGU5LWI3YmEtMGE3NzRmZGE0MTAx2AIE4AIB&sid=de6e37cacfee4d33e1f9b1c7b24a599a&tmpl=searchresults&ac_click_type=b&ac_position=0&checkin_month=3&checkin_monthday=30&checkin_year=2021&checkout_month=3&checkout_monthday=31&checkout_year=2021&class_interval=1&dest_id=-2167973&dest_type=city&dtdisc=0&from_sf=1&group_adults=2&group_children=0&iata=LIS&inac=0&index_postcard=0&label_click=undef&no_rooms=1&postcard=0&raw_dest_type=city&room1=A%2CA&sb_price_type=total&search_selected=1&shw_aparth=1&slp_r_match=0&src=index&src_elem=sb&srpvid=1fa7511e6b75017a&ss=Lisbon%2C%20Lisbon%20Region%2C%20Portugal&ss_all=0&ss_raw=lisabo&ssb=empty&sshis=0&ssne=Prague&ssne_untouched=Prague&top_ufis=1&rows=25&offset=125',\n",
    "                    'https://www.booking.com/searchresults.en-gb.html?aid=304142&label=gen173nr-1DCAEoggI46AdIM1gEaEaIAQGYAQm4AQfIAQzYAQPoAQGIAgGoAgO4Ap-NyP4FwAIB0gIkMDE2MjJkMDQtZGIwYy00OGU5LWI3YmEtMGE3NzRmZGE0MTAx2AIE4AIB&sid=de6e37cacfee4d33e1f9b1c7b24a599a&tmpl=searchresults&ac_click_type=b&ac_position=0&checkin_month=3&checkin_monthday=30&checkin_year=2021&checkout_month=3&checkout_monthday=31&checkout_year=2021&class_interval=1&dest_id=-2167973&dest_type=city&from_sf=1&group_adults=2&group_children=0&iata=LIS&label_click=undef&no_rooms=1&raw_dest_type=city&room1=A%2CA&sb_price_type=total&search_selected=1&shw_aparth=1&slp_r_match=0&src=index&src_elem=sb&srpvid=7f8d51318e33003b&ss=Lisbon%2C%20Lisbon%20Region%2C%20Portugal&ss_raw=lisabo&ssb=empty&ssne=Prague&ssne_untouched=Prague&top_ufis=1&rows=25&offset=150',\n",
    "                    'https://www.booking.com/searchresults.en-gb.html?aid=304142&label=gen173nr-1DCAEoggI46AdIM1gEaEaIAQGYAQm4AQfIAQzYAQPoAQGIAgGoAgO4Ap-NyP4FwAIB0gIkMDE2MjJkMDQtZGIwYy00OGU5LWI3YmEtMGE3NzRmZGE0MTAx2AIE4AIB&sid=de6e37cacfee4d33e1f9b1c7b24a599a&tmpl=searchresults&ac_click_type=b&ac_position=0&checkin_month=3&checkin_monthday=30&checkin_year=2021&checkout_month=3&checkout_monthday=31&checkout_year=2021&class_interval=1&dest_id=-2167973&dest_type=city&dtdisc=0&from_sf=1&group_adults=2&group_children=0&iata=LIS&inac=0&index_postcard=0&label_click=undef&no_rooms=1&postcard=0&raw_dest_type=city&room1=A%2CA&sb_price_type=total&search_selected=1&shw_aparth=1&slp_r_match=0&src=index&src_elem=sb&srpvid=3c92513d70810062&ss=Lisbon%2C%20Lisbon%20Region%2C%20Portugal&ss_all=0&ss_raw=lisabo&ssb=empty&sshis=0&ssne=Prague&ssne_untouched=Prague&top_ufis=1&rows=25&offset=175',\n",
    "                    'https://www.booking.com/searchresults.en-gb.html?aid=304142&label=gen173nr-1DCAEoggI46AdIM1gEaEaIAQGYAQm4AQfIAQzYAQPoAQGIAgGoAgO4Ap-NyP4FwAIB0gIkMDE2MjJkMDQtZGIwYy00OGU5LWI3YmEtMGE3NzRmZGE0MTAx2AIE4AIB&sid=de6e37cacfee4d33e1f9b1c7b24a599a&tmpl=searchresults&ac_click_type=b&ac_position=0&checkin_month=3&checkin_monthday=30&checkin_year=2021&checkout_month=3&checkout_monthday=31&checkout_year=2021&class_interval=1&dest_id=-2167973&dest_type=city&from_sf=1&group_adults=2&group_children=0&iata=LIS&label_click=undef&no_rooms=1&raw_dest_type=city&room1=A%2CA&sb_price_type=total&search_selected=1&shw_aparth=1&slp_r_match=0&src=index&src_elem=sb&srpvid=6fb1514912f10125&ss=Lisbon%2C%20Lisbon%20Region%2C%20Portugal&ss_raw=lisabo&ssb=empty&ssne=Prague&ssne_untouched=Prague&top_ufis=1&rows=25&offset=200',\n",
    "                    'https://www.booking.com/searchresults.en-gb.html?aid=304142&label=gen173nr-1DCAEoggI46AdIM1gEaEaIAQGYAQm4AQfIAQzYAQPoAQGIAgGoAgO4Ap-NyP4FwAIB0gIkMDE2MjJkMDQtZGIwYy00OGU5LWI3YmEtMGE3NzRmZGE0MTAx2AIE4AIB&sid=de6e37cacfee4d33e1f9b1c7b24a599a&tmpl=searchresults&ac_click_type=b&ac_position=0&checkin_month=3&checkin_monthday=30&checkin_year=2021&checkout_month=3&checkout_monthday=31&checkout_year=2021&class_interval=1&dest_id=-2167973&dest_type=city&dtdisc=0&from_sf=1&group_adults=2&group_children=0&iata=LIS&inac=0&index_postcard=0&label_click=undef&no_rooms=1&postcard=0&raw_dest_type=city&room1=A%2CA&sb_price_type=total&search_selected=1&shw_aparth=1&slp_r_match=0&src=index&src_elem=sb&srpvid=d509515742e0000e&ss=Lisbon%2C%20Lisbon%20Region%2C%20Portugal&ss_all=0&ss_raw=lisabo&ssb=empty&sshis=0&ssne=Prague&ssne_untouched=Prague&top_ufis=1&rows=25&offset=225',\n",
    "                    'https://www.booking.com/searchresults.en-gb.html?aid=304142&label=gen173nr-1DCAEoggI46AdIM1gEaEaIAQGYAQm4AQfIAQzYAQPoAQGIAgGoAgO4Ap-NyP4FwAIB0gIkMDE2MjJkMDQtZGIwYy00OGU5LWI3YmEtMGE3NzRmZGE0MTAx2AIE4AIB&sid=de6e37cacfee4d33e1f9b1c7b24a599a&tmpl=searchresults&ac_click_type=b&ac_position=0&checkin_month=3&checkin_monthday=30&checkin_year=2021&checkout_month=3&checkout_monthday=31&checkout_year=2021&class_interval=1&dest_id=-2167973&dest_type=city&from_sf=1&group_adults=2&group_children=0&iata=LIS&label_click=undef&no_rooms=1&raw_dest_type=city&room1=A%2CA&sb_price_type=total&search_selected=1&shw_aparth=1&slp_r_match=0&src=index&src_elem=sb&srpvid=66eb51662e0000bc&ss=Lisbon%2C%20Lisbon%20Region%2C%20Portugal&ss_raw=lisabo&ssb=empty&ssne=Prague&ssne_untouched=Prague&top_ufis=1&rows=25&offset=250',\n",
    "                    'https://www.booking.com/searchresults.en-gb.html?aid=304142&label=gen173nr-1DCAEoggI46AdIM1gEaEaIAQGYAQm4AQfIAQzYAQPoAQGIAgGoAgO4Ap-NyP4FwAIB0gIkMDE2MjJkMDQtZGIwYy00OGU5LWI3YmEtMGE3NzRmZGE0MTAx2AIE4AIB&sid=de6e37cacfee4d33e1f9b1c7b24a599a&tmpl=searchresults&ac_click_type=b&ac_position=0&checkin_month=3&checkin_monthday=30&checkin_year=2021&checkout_month=3&checkout_monthday=31&checkout_year=2021&class_interval=1&dest_id=-2167973&dest_type=city&dtdisc=0&from_sf=1&group_adults=2&group_children=0&iata=LIS&inac=0&index_postcard=0&label_click=undef&no_rooms=1&postcard=0&raw_dest_type=city&room1=A%2CA&sb_price_type=total&search_selected=1&shw_aparth=1&slp_r_match=0&src=index&src_elem=sb&srpvid=43e0516ed112013a&ss=Lisbon%2C%20Lisbon%20Region%2C%20Portugal&ss_all=0&ss_raw=lisabo&ssb=empty&sshis=0&ssne=Prague&ssne_untouched=Prague&top_ufis=1&rows=25&offset=275',\n",
    "                    'https://www.booking.com/searchresults.en-gb.html?aid=304142&label=gen173nr-1DCAEoggI46AdIM1gEaEaIAQGYAQm4AQfIAQzYAQPoAQGIAgGoAgO4Ap-NyP4FwAIB0gIkMDE2MjJkMDQtZGIwYy00OGU5LWI3YmEtMGE3NzRmZGE0MTAx2AIE4AIB&sid=de6e37cacfee4d33e1f9b1c7b24a599a&tmpl=searchresults&ac_click_type=b&ac_position=0&checkin_month=3&checkin_monthday=30&checkin_year=2021&checkout_month=3&checkout_monthday=31&checkout_year=2021&class_interval=1&dest_id=-2167973&dest_type=city&from_sf=1&group_adults=2&group_children=0&iata=LIS&label_click=undef&no_rooms=1&raw_dest_type=city&room1=A%2CA&sb_price_type=total&search_selected=1&shw_aparth=1&slp_r_match=0&src=index&src_elem=sb&srpvid=1fa7517a94c90003&ss=Lisbon%2C%20Lisbon%20Region%2C%20Portugal&ss_raw=lisabo&ssb=empty&ssne=Prague&ssne_untouched=Prague&top_ufis=1&rows=25&offset=300',\n",
    "                     'https://www.booking.com/searchresults.en-gb.html?aid=304142&label=gen173nr-1DCAEoggI46AdIM1gEaEaIAQGYAQm4AQfIAQzYAQPoAQGIAgGoAgO4Ap-NyP4FwAIB0gIkMDE2MjJkMDQtZGIwYy00OGU5LWI3YmEtMGE3NzRmZGE0MTAx2AIE4AIB&sid=de6e37cacfee4d33e1f9b1c7b24a599a&tmpl=searchresults&ac_click_type=b&ac_position=0&checkin_month=3&checkin_monthday=30&checkin_year=2021&checkout_month=3&checkout_monthday=31&checkout_year=2021&class_interval=1&dest_id=-2167973&dest_type=city&dtdisc=0&from_sf=1&group_adults=2&group_children=0&iata=LIS&inac=0&index_postcard=0&label_click=undef&no_rooms=1&postcard=0&raw_dest_type=city&room1=A%2CA&sb_price_type=total&search_selected=1&shw_aparth=1&slp_r_match=0&src=index&src_elem=sb&srpvid=1a9f51c069430078&ss=Lisbon%2C%20Lisbon%20Region%2C%20Portugal&ss_all=0&ss_raw=lisabo&ssb=empty&sshis=0&ssne=Prague&ssne_untouched=Prague&top_ufis=1&rows=25&offset=325'\n",
    "                    'https://www.booking.com/searchresults.en-gb.html?aid=304142&label=gen173nr-1DCAEoggI46AdIM1gEaEaIAQGYAQm4AQfIAQzYAQPoAQGIAgGoAgO4Ap-NyP4FwAIB0gIkMDE2MjJkMDQtZGIwYy00OGU5LWI3YmEtMGE3NzRmZGE0MTAx2AIE4AIB&sid=de6e37cacfee4d33e1f9b1c7b24a599a&tmpl=searchresults&ac_click_type=b&ac_position=0&checkin_month=3&checkin_monthday=30&checkin_year=2021&checkout_month=3&checkout_monthday=31&checkout_year=2021&class_interval=1&dest_id=-2167973&dest_type=city&from_sf=1&group_adults=2&group_children=0&iata=LIS&label_click=undef&no_rooms=1&raw_dest_type=city&room1=A%2CA&sb_price_type=total&search_selected=1&shw_aparth=1&slp_r_match=0&src=index&src_elem=sb&srpvid=121951971d250004&ss=Lisbon%2C%20Lisbon%20Region%2C%20Portugal&ss_raw=lisabo&ssb=empty&ssne=Prague&ssne_untouched=Prague&top_ufis=1&rows=25&offset=350',\n",
    "                    'https://www.booking.com/searchresults.en-gb.html?aid=304142&label=gen173nr-1DCAEoggI46AdIM1gEaEaIAQGYAQm4AQfIAQzYAQPoAQGIAgGoAgO4Ap-NyP4FwAIB0gIkMDE2MjJkMDQtZGIwYy00OGU5LWI3YmEtMGE3NzRmZGE0MTAx2AIE4AIB&sid=de6e37cacfee4d33e1f9b1c7b24a599a&tmpl=searchresults&ac_click_type=b&ac_position=0&checkin_month=3&checkin_monthday=30&checkin_year=2021&checkout_month=3&checkout_monthday=31&checkout_year=2021&class_interval=1&dest_id=-2167973&dest_type=city&dtdisc=0&from_sf=1&group_adults=2&group_children=0&iata=LIS&inac=0&index_postcard=0&label_click=undef&no_rooms=1&postcard=0&raw_dest_type=city&room1=A%2CA&sb_price_type=total&search_selected=1&shw_aparth=1&slp_r_match=0&src=index&src_elem=sb&srpvid=9a3351d8e5960164&ss=Lisbon%2C%20Lisbon%20Region%2C%20Portugal&ss_all=0&ss_raw=lisabo&ssb=empty&sshis=0&ssne=Prague&ssne_untouched=Prague&top_ufis=1&rows=25&offset=375',\n",
    "                    'https://www.booking.com/searchresults.en-gb.html?aid=304142&label=gen173nr-1DCAEoggI46AdIM1gEaEaIAQGYAQm4AQfIAQzYAQPoAQGIAgGoAgO4Ap-NyP4FwAIB0gIkMDE2MjJkMDQtZGIwYy00OGU5LWI3YmEtMGE3NzRmZGE0MTAx2AIE4AIB&sid=de6e37cacfee4d33e1f9b1c7b24a599a&tmpl=searchresults&ac_click_type=b&ac_position=0&checkin_month=3&checkin_monthday=30&checkin_year=2021&checkout_month=3&checkout_monthday=31&checkout_year=2021&class_interval=1&dest_id=-2167973&dest_type=city&from_sf=1&group_adults=2&group_children=0&iata=LIS&label_click=undef&no_rooms=1&raw_dest_type=city&room1=A%2CA&sb_price_type=total&search_selected=1&shw_aparth=1&slp_r_match=0&src=index&src_elem=sb&srpvid=a79551dbd69f00b4&ss=Lisbon%2C%20Lisbon%20Region%2C%20Portugal&ss_raw=lisabo&ssb=empty&ssne=Prague&ssne_untouched=Prague&top_ufis=1&rows=25&offset=400',\n",
    "                     'https://www.booking.com/searchresults.en-gb.html?aid=304142&label=gen173nr-1DCAEoggI46AdIM1gEaEaIAQGYAQm4AQfIAQzYAQPoAQGIAgGoAgO4Ap-NyP4FwAIB0gIkMDE2MjJkMDQtZGIwYy00OGU5LWI3YmEtMGE3NzRmZGE0MTAx2AIE4AIB&sid=de6e37cacfee4d33e1f9b1c7b24a599a&tmpl=searchresults&ac_click_type=b&ac_position=0&checkin_month=3&checkin_monthday=30&checkin_year=2021&checkout_month=3&checkout_monthday=31&checkout_year=2021&class_interval=1&dest_id=-2167973&dest_type=city&dtdisc=0&from_sf=1&group_adults=2&group_children=0&iata=LIS&inac=0&index_postcard=0&label_click=undef&no_rooms=1&postcard=0&raw_dest_type=city&room1=A%2CA&sb_price_type=total&search_selected=1&shw_aparth=1&slp_r_match=0&src=index&src_elem=sb&srpvid=da0c521e9c3f0118&ss=Lisbon%2C%20Lisbon%20Region%2C%20Portugal&ss_all=0&ss_raw=lisabo&ssb=empty&sshis=0&ssne=Prague&ssne_untouched=Prague&top_ufis=1&rows=25&offset=425'\n",
    "                     'https://www.booking.com/searchresults.en-gb.html?aid=304142&label=gen173nr-1DCAEoggI46AdIM1gEaEaIAQGYAQm4AQfIAQzYAQPoAQGIAgGoAgO4Ap-NyP4FwAIB0gIkMDE2MjJkMDQtZGIwYy00OGU5LWI3YmEtMGE3NzRmZGE0MTAx2AIE4AIB&sid=de6e37cacfee4d33e1f9b1c7b24a599a&tmpl=searchresults&ac_click_type=b&ac_position=0&checkin_month=3&checkin_monthday=30&checkin_year=2021&checkout_month=3&checkout_monthday=31&checkout_year=2021&class_interval=1&dest_id=-2167973&dest_type=city&from_sf=1&group_adults=2&group_children=0&iata=LIS&label_click=undef&no_rooms=1&raw_dest_type=city&room1=A%2CA&sb_price_type=total&search_selected=1&shw_aparth=1&slp_r_match=0&src=index&src_elem=sb&srpvid=59ff51fd4b620049&ss=Lisbon%2C%20Lisbon%20Region%2C%20Portugal&ss_raw=lisabo&ssb=empty&ssne=Prague&ssne_untouched=Prague&top_ufis=1&rows=25&offset=450',\n",
    "                    'https://www.booking.com/searchresults.en-gb.html?aid=304142&label=gen173nr-1DCAEoggI46AdIM1gEaEaIAQGYAQm4AQfIAQzYAQPoAQGIAgGoAgO4Ap-NyP4FwAIB0gIkMDE2MjJkMDQtZGIwYy00OGU5LWI3YmEtMGE3NzRmZGE0MTAx2AIE4AIB&sid=de6e37cacfee4d33e1f9b1c7b24a599a&tmpl=searchresults&ac_click_type=b&ac_position=0&checkin_month=3&checkin_monthday=30&checkin_year=2021&checkout_month=3&checkout_monthday=31&checkout_year=2021&class_interval=1&dest_id=-2167973&dest_type=city&dtdisc=0&from_sf=1&group_adults=2&group_children=0&iata=LIS&inac=0&index_postcard=0&label_click=undef&no_rooms=1&postcard=0&raw_dest_type=city&room1=A%2CA&sb_price_type=total&search_selected=1&shw_aparth=1&slp_r_match=0&src=index&src_elem=sb&srpvid=9c39529bce7c0131&ss=Lisbon%2C%20Lisbon%20Region%2C%20Portugal&ss_all=0&ss_raw=lisabo&ssb=empty&sshis=0&ssne=Prague&ssne_untouched=Prague&top_ufis=1&rows=25&offset=475',\n",
    "                     'https://www.booking.com/searchresults.en-gb.html?aid=304142&label=gen173nr-1DCAEoggI46AdIM1gEaEaIAQGYAQm4AQfIAQzYAQPoAQGIAgGoAgO4Ap-NyP4FwAIB0gIkMDE2MjJkMDQtZGIwYy00OGU5LWI3YmEtMGE3NzRmZGE0MTAx2AIE4AIB&sid=de6e37cacfee4d33e1f9b1c7b24a599a&tmpl=searchresults&ac_click_type=b&ac_position=0&checkin_month=3&checkin_monthday=30&checkin_year=2021&checkout_month=3&checkout_monthday=31&checkout_year=2021&class_interval=1&dest_id=-2167973&dest_type=city&from_sf=1&group_adults=2&group_children=0&iata=LIS&label_click=undef&no_rooms=1&raw_dest_type=city&room1=A%2CA&sb_price_type=total&search_selected=1&shw_aparth=1&slp_r_match=0&src=index&src_elem=sb&srpvid=dcb7529e0cb30010&ss=Lisbon%2C%20Lisbon%20Region%2C%20Portugal&ss_raw=lisabo&ssb=empty&ssne=Prague&ssne_untouched=Prague&top_ufis=1&rows=25&offset=500',\n",
    "                     'https://www.booking.com/searchresults.en-gb.html?aid=304142&label=gen173nr-1DCAEoggI46AdIM1gEaEaIAQGYAQm4AQfIAQzYAQPoAQGIAgGoAgO4Ap-NyP4FwAIB0gIkMDE2MjJkMDQtZGIwYy00OGU5LWI3YmEtMGE3NzRmZGE0MTAx2AIE4AIB&sid=de6e37cacfee4d33e1f9b1c7b24a599a&tmpl=searchresults&ac_click_type=b&ac_position=0&checkin_month=3&checkin_monthday=30&checkin_year=2021&checkout_month=3&checkout_monthday=31&checkout_year=2021&class_interval=1&dest_id=-2167973&dest_type=city&dtdisc=0&from_sf=1&group_adults=2&group_children=0&iata=LIS&inac=0&index_postcard=0&label_click=undef&no_rooms=1&postcard=0&raw_dest_type=city&room1=A%2CA&sb_price_type=total&search_selected=1&shw_aparth=1&slp_r_match=0&src=index&src_elem=sb&srpvid=82975938fdb20051&ss=Lisbon%2C%20Lisbon%20Region%2C%20Portugal&ss_all=0&ss_raw=lisabo&ssb=empty&sshis=0&ssne=Prague&ssne_untouched=Prague&top_ufis=1&rows=25&offset=525']"
   ]
  },
  {
   "cell_type": "code",
   "execution_count": 118,
   "metadata": {},
   "outputs": [
    {
     "name": "stdout",
     "output_type": "stream",
     "text": [
      "no info\n",
      "no info\n",
      "no info\n",
      "no info\n",
      "no info\n",
      "no info\n",
      "no info\n",
      "no info\n",
      "no info\n",
      "no info\n",
      "no info\n",
      "no info\n",
      "no info\n",
      "no info\n",
      "no info\n",
      "no info\n",
      "no info\n",
      "no info\n",
      "no info\n",
      "no info\n",
      "no info\n",
      "no info\n",
      "no info\n",
      "no info\n",
      "no info\n",
      "no info\n",
      "no info\n"
     ]
    }
   ],
   "source": [
    "names_lisabon=[]\n",
    "hotel_links_lisabon=[]\n",
    "score_lisabon=[]\n",
    "prices_lisabon=[]\n",
    "\n",
    "for link in search_links_lisabon:\n",
    "    headers = {'User-Agent':'Mozilla/5.0 (Macintosh; Intel Mac OS X 10_11_2) AppleWebKit/601.3.9 (KHTML, like Gecko) Version/9.0.2 Safari/601.3.9'}\n",
    "    url = link\n",
    "    response=requests.get(url,headers=headers)\n",
    "    soup=BeautifulSoup(response.content,'lxml')\n",
    "\n",
    "    for item in soup.select('.sr_property_block'):\n",
    "        try:\n",
    "            names_lisabon.append(item.select('.sr-hotel__name')[0].get_text().strip())\n",
    "            hotel_links_lisabon.append(item.select('.hotel_name_link')[0]['href'])\n",
    "            score_lisabon.append(item.select('.bui-review-score__badge')[0].get_text().strip())\n",
    "            prices_lisabon.append(item.select('.bui-price-display__value')[0].get_text().strip())\n",
    "        except Exception as e:\n",
    "            score_lisabon.append(-1)\n",
    "            prices_lisabon.append('€\\xa0666666')\n",
    "        #raise e\n",
    "            print('no info')"
   ]
  },
  {
   "cell_type": "code",
   "execution_count": 143,
   "metadata": {},
   "outputs": [],
   "source": [
    "# looking for links to check pets features\n",
    "pets_links_lisabon=[] #runs about 5 min\n",
    "\n",
    "for link in search_links_lisabon:\n",
    "    response=requests.get(link)\n",
    "    soup=BeautifulSoup(response.content, \"html.parser\")\n",
    "    for i in range (0,25):\n",
    "        pets_links_lisabon.append(soup.findAll(\"a\", {\"class\": \"js-sr-hotel-link hotel_name_link url\"})[i]['href']) "
   ]
  },
  {
   "cell_type": "code",
   "execution_count": 147,
   "metadata": {},
   "outputs": [],
   "source": [
    "# cleaning links to check pets features\n",
    "symbol = '\\n'\n",
    "pets_links_clean_lisabon=[item.translate(symbol).strip() for item in pets_links_lisabon]\n",
    "\n",
    "pets_good_links_lisabon = [f'https://www.booking.com{n}' for n in pets_links_clean_lisabon]"
   ]
  },
  {
   "cell_type": "code",
   "execution_count": 148,
   "metadata": {},
   "outputs": [],
   "source": [
    "pets_lisabon=[] #it runs about 25 min\n",
    "for link in pets_good_links_lisabon:\n",
    "    try:\n",
    "        response=requests.get(link)\n",
    "        soup=BeautifulSoup(response.content, \"html.parser\")\n",
    "        pets_lisabon.append(soup.select(\"ul > li > p\")[14].get_text())\n",
    "    except Exception as e:\n",
    "        pets_lisabon.append(0)\n",
    "        #raise e\n",
    "        print('no info')"
   ]
  },
  {
   "cell_type": "code",
   "execution_count": 150,
   "metadata": {},
   "outputs": [],
   "source": [
    "# saving pets data\n",
    "df_pets_lisabon = pd.DataFrame(pets_lisabon)\n",
    "df_pets_lisabon.to_csv('pets_lisabon_data.csv')"
   ]
  },
  {
   "cell_type": "markdown",
   "metadata": {},
   "source": [
    "# Paris"
   ]
  },
  {
   "cell_type": "code",
   "execution_count": 2,
   "metadata": {},
   "outputs": [],
   "source": [
    "search_links_paris=['https://www.booking.com/searchresults.en-gb.html?label=gen173nr-1DCAEoggI46AdIM1gEaEaIAQGYAQm4AQfIAQzYAQPoAQGIAgGoAgO4AuXGyP4FwAIB0gIkZDdhYTQ0MzMtMWM0My00NGY5LWI3NmEtYjFkMGYzYzg4ZTFh2AIE4AIB&lang=en-gb&sid=de6e37cacfee4d33e1f9b1c7b24a599a&sb=1&src=searchresults&src_elem=sb&error_url=https%3A%2F%2Fwww.booking.com%2Fsearchresults.en-gb.html%3Flabel%3Dgen173nr-1DCAEoggI46AdIM1gEaEaIAQGYAQm4AQfIAQzYAQPoAQGIAgGoAgO4AuXGyP4FwAIB0gIkZDdhYTQ0MzMtMWM0My00NGY5LWI3NmEtYjFkMGYzYzg4ZTFh2AIE4AIB%3Bsid%3Dde6e37cacfee4d33e1f9b1c7b24a599a%3Btmpl%3Dsearchresults%3Bac_click_type%3Db%3Bac_position%3D0%3Bcheckin_month%3D3%3Bcheckin_monthday%3D30%3Bcheckin_year%3D2021%3Bcheckout_month%3D3%3Bcheckout_monthday%3D31%3Bcheckout_year%3D2021%3Bclass_interval%3D1%3Bdest_id%3D-1456928%3Bdest_type%3Dcity%3Bdtdisc%3D0%3Bfrom_sf%3D1%3Bgroup_adults%3D2%3Bgroup_children%3D0%3Biata%3DPAR%3Binac%3D0%3Bindex_postcard%3D0%3Blabel_click%3Dundef%3Bno_rooms%3D1%3Boffset%3D0%3Bpostcard%3D0%3Braw_dest_type%3Dcity%3Broom1%3DA%252CA%3Bsb_price_type%3Dtotal%3Bsearch_selected%3D1%3Bshw_aparth%3D1%3Bslp_r_match%3D0%3Bsrc%3Dindex%3Bsrc_elem%3Dsb%3Bsrpvid%3D0ec65f3714830293%3Bss%3DParis%252C%2520Ile%2520de%2520France%252C%2520France%3Bss_all%3D0%3Bss_raw%3Dparis%3Bssb%3Dempty%3Bsshis%3D0%3Bssne%3DLondon%3Bssne_untouched%3DLondon%3Btop_ufis%3D1%26%3B&ss=Paris&is_ski_area=0&ssne=Paris&ssne_untouched=Paris&city=-1456928&checkin_year=2021&checkin_month=3&checkin_monthday=30&checkout_year=2021&checkout_month=3&checkout_monthday=31&group_adults=2&group_children=0&no_rooms=1&from_sf=1',\n",
    "                 'https://www.booking.com/searchresults.en-gb.html?label=gen173nr-1DCAEoggI46AdIM1gEaEaIAQGYAQm4AQfIAQzYAQPoAQGIAgGoAgO4AuXGyP4FwAIB0gIkZDdhYTQ0MzMtMWM0My00NGY5LWI3NmEtYjFkMGYzYzg4ZTFh2AIE4AIB&sid=de6e37cacfee4d33e1f9b1c7b24a599a&tmpl=searchresults&checkin_month=3&checkin_monthday=30&checkin_year=2021&checkout_month=3&checkout_monthday=31&checkout_year=2021&city=-1456928&class_interval=1&dest_id=-1456928&dest_type=city&dtdisc=0&from_sf=1&group_adults=2&group_children=0&inac=0&index_postcard=0&label_click=undef&no_rooms=1&postcard=0&room1=A%2CA&sb_price_type=total&shw_aparth=1&slp_r_match=0&src=searchresults&src_elem=sb&srpvid=03365f3a3cb50105&ss=Paris&ss_all=0&ssb=empty&sshis=0&ssne=Paris&ssne_untouched=Paris&top_ufis=1&rows=25&offset=25',\n",
    "                 'https://www.booking.com/searchresults.en-gb.html?aid=304142&label=gen173nr-1DCAEoggI46AdIM1gEaEaIAQGYAQm4AQfIAQzYAQPoAQGIAgGoAgO4AuXGyP4FwAIB0gIkZDdhYTQ0MzMtMWM0My00NGY5LWI3NmEtYjFkMGYzYzg4ZTFh2AIE4AIB&sid=de6e37cacfee4d33e1f9b1c7b24a599a&tmpl=searchresults&checkin_month=3&checkin_monthday=30&checkin_year=2021&checkout_month=3&checkout_monthday=31&checkout_year=2021&city=-1456928&class_interval=1&dest_id=-1456928&dest_type=city&from_sf=1&group_adults=2&group_children=0&label_click=undef&no_rooms=1&raw_dest_type=city&room1=A%2CA&sb_price_type=total&shw_aparth=1&slp_r_match=0&src=searchresults&src_elem=sb&srpvid=b6e95f62486d00b4&ss=Paris&ssb=empty&ssne=Paris&ssne_untouched=Paris&top_ufis=1&rows=25&offset=50',\n",
    "                 'https://www.booking.com/searchresults.en-gb.html?aid=304142&label=gen173nr-1DCAEoggI46AdIM1gEaEaIAQGYAQm4AQfIAQzYAQPoAQGIAgGoAgO4AuXGyP4FwAIB0gIkZDdhYTQ0MzMtMWM0My00NGY5LWI3NmEtYjFkMGYzYzg4ZTFh2AIE4AIB&sid=de6e37cacfee4d33e1f9b1c7b24a599a&tmpl=searchresults&checkin_month=3&checkin_monthday=30&checkin_year=2021&checkout_month=3&checkout_monthday=31&checkout_year=2021&city=-1456928&class_interval=1&dest_id=-1456928&dest_type=city&dtdisc=0&from_sf=1&group_adults=2&group_children=0&inac=0&index_postcard=0&label_click=undef&no_rooms=1&postcard=0&raw_dest_type=city&room1=A%2CA&sb_price_type=total&shw_aparth=1&slp_r_match=0&src=searchresults&src_elem=sb&srpvid=a7955f6ccabd0028&ss=Paris&ss_all=0&ssb=empty&sshis=0&ssne=Paris&ssne_untouched=Paris&top_ufis=1&rows=25&offset=75',\n",
    "                 'https://www.booking.com/searchresults.en-gb.html?aid=304142&label=gen173nr-1DCAEoggI46AdIM1gEaEaIAQGYAQm4AQfIAQzYAQPoAQGIAgGoAgO4AuXGyP4FwAIB0gIkZDdhYTQ0MzMtMWM0My00NGY5LWI3NmEtYjFkMGYzYzg4ZTFh2AIE4AIB&sid=de6e37cacfee4d33e1f9b1c7b24a599a&tmpl=searchresults&checkin_month=3&checkin_monthday=30&checkin_year=2021&checkout_month=3&checkout_monthday=31&checkout_year=2021&city=-1456928&class_interval=1&dest_id=-1456928&dest_type=city&from_sf=1&group_adults=2&group_children=0&label_click=undef&no_rooms=1&raw_dest_type=city&room1=A%2CA&sb_price_type=total&shw_aparth=1&slp_r_match=0&src=searchresults&src_elem=sb&srpvid=dfd75f76526c00d9&ss=Paris&ssb=empty&ssne=Paris&ssne_untouched=Paris&top_ufis=1&rows=25&offset=100',\n",
    "                 'https://www.booking.com/searchresults.en-gb.html?aid=304142&label=gen173nr-1DCAEoggI46AdIM1gEaEaIAQGYAQm4AQfIAQzYAQPoAQGIAgGoAgO4AuXGyP4FwAIB0gIkZDdhYTQ0MzMtMWM0My00NGY5LWI3NmEtYjFkMGYzYzg4ZTFh2AIE4AIB&sid=de6e37cacfee4d33e1f9b1c7b24a599a&tmpl=searchresults&checkin_month=3&checkin_monthday=30&checkin_year=2021&checkout_month=3&checkout_monthday=31&checkout_year=2021&city=-1456928&class_interval=1&dest_id=-1456928&dest_type=city&dtdisc=0&from_sf=1&group_adults=2&group_children=0&inac=0&index_postcard=0&label_click=undef&no_rooms=1&postcard=0&raw_dest_type=city&room1=A%2CA&sb_price_type=total&shw_aparth=1&slp_r_match=0&src=searchresults&src_elem=sb&srpvid=30e35f84bbe6011b&ss=Paris&ss_all=0&ssb=empty&sshis=0&ssne=Paris&ssne_untouched=Paris&top_ufis=1&rows=25&offset=125',\n",
    "                 'https://www.booking.com/searchresults.en-gb.html?aid=304142&label=gen173nr-1DCAEoggI46AdIM1gEaEaIAQGYAQm4AQfIAQzYAQPoAQGIAgGoAgO4AuXGyP4FwAIB0gIkZDdhYTQ0MzMtMWM0My00NGY5LWI3NmEtYjFkMGYzYzg4ZTFh2AIE4AIB&sid=de6e37cacfee4d33e1f9b1c7b24a599a&tmpl=searchresults&checkin_month=3&checkin_monthday=30&checkin_year=2021&checkout_month=3&checkout_monthday=31&checkout_year=2021&city=-1456928&class_interval=1&dest_id=-1456928&dest_type=city&from_sf=1&group_adults=2&group_children=0&label_click=undef&no_rooms=1&raw_dest_type=city&room1=A%2CA&sb_price_type=total&shw_aparth=1&slp_r_match=0&src=searchresults&src_elem=sb&srpvid=c6925f90bff6004c&ss=Paris&ssb=empty&ssne=Paris&ssne_untouched=Paris&top_ufis=1&rows=25&offset=150',\n",
    "                 'https://www.booking.com/searchresults.en-gb.html?aid=304142&label=gen173nr-1DCAEoggI46AdIM1gEaEaIAQGYAQm4AQfIAQzYAQPoAQGIAgGoAgO4AuXGyP4FwAIB0gIkZDdhYTQ0MzMtMWM0My00NGY5LWI3NmEtYjFkMGYzYzg4ZTFh2AIE4AIB&sid=de6e37cacfee4d33e1f9b1c7b24a599a&tmpl=searchresults&checkin_month=3&checkin_monthday=30&checkin_year=2021&checkout_month=3&checkout_monthday=31&checkout_year=2021&city=-1456928&class_interval=1&dest_id=-1456928&dest_type=city&dtdisc=0&from_sf=1&group_adults=2&group_children=0&inac=0&index_postcard=0&label_click=undef&no_rooms=1&postcard=0&raw_dest_type=city&room1=A%2CA&sb_price_type=total&shw_aparth=1&slp_r_match=0&src=searchresults&src_elem=sb&srpvid=ac425fa12997003b&ss=Paris&ss_all=0&ssb=empty&sshis=0&ssne=Paris&ssne_untouched=Paris&top_ufis=1&rows=25&offset=175',\n",
    "                 'https://www.booking.com/searchresults.en-gb.html?aid=304142&label=gen173nr-1DCAEoggI46AdIM1gEaEaIAQGYAQm4AQfIAQzYAQPoAQGIAgGoAgO4AuXGyP4FwAIB0gIkZDdhYTQ0MzMtMWM0My00NGY5LWI3NmEtYjFkMGYzYzg4ZTFh2AIE4AIB&sid=de6e37cacfee4d33e1f9b1c7b24a599a&tmpl=searchresults&checkin_month=3&checkin_monthday=30&checkin_year=2021&checkout_month=3&checkout_monthday=31&checkout_year=2021&city=-1456928&class_interval=1&dest_id=-1456928&dest_type=city&from_sf=1&group_adults=2&group_children=0&label_click=undef&no_rooms=1&raw_dest_type=city&room1=A%2CA&sb_price_type=total&shw_aparth=1&slp_r_match=0&src=searchresults&src_elem=sb&srpvid=a6c15fac57e8007d&ss=Paris&ssb=empty&ssne=Paris&ssne_untouched=Paris&top_ufis=1&rows=25&offset=200',\n",
    "                 'https://www.booking.com/searchresults.en-gb.html?aid=304142&label=gen173nr-1DCAEoggI46AdIM1gEaEaIAQGYAQm4AQfIAQzYAQPoAQGIAgGoAgO4AuXGyP4FwAIB0gIkZDdhYTQ0MzMtMWM0My00NGY5LWI3NmEtYjFkMGYzYzg4ZTFh2AIE4AIB&sid=de6e37cacfee4d33e1f9b1c7b24a599a&tmpl=searchresults&checkin_month=3&checkin_monthday=30&checkin_year=2021&checkout_month=3&checkout_monthday=31&checkout_year=2021&city=-1456928&class_interval=1&dest_id=-1456928&dest_type=city&dtdisc=0&from_sf=1&group_adults=2&group_children=0&inac=0&index_postcard=0&label_click=undef&no_rooms=1&postcard=0&raw_dest_type=city&room1=A%2CA&sb_price_type=total&shw_aparth=1&slp_r_match=0&src=searchresults&src_elem=sb&srpvid=b78a5fb5770d01a6&ss=Paris&ss_all=0&ssb=empty&sshis=0&ssne=Paris&ssne_untouched=Paris&top_ufis=1&rows=25&offset=225',\n",
    "                 'https://www.booking.com/searchresults.en-gb.html?aid=304142&label=gen173nr-1DCAEoggI46AdIM1gEaEaIAQGYAQm4AQfIAQzYAQPoAQGIAgGoAgO4AuXGyP4FwAIB0gIkZDdhYTQ0MzMtMWM0My00NGY5LWI3NmEtYjFkMGYzYzg4ZTFh2AIE4AIB&sid=de6e37cacfee4d33e1f9b1c7b24a599a&tmpl=searchresults&checkin_month=3&checkin_monthday=30&checkin_year=2021&checkout_month=3&checkout_monthday=31&checkout_year=2021&city=-1456928&class_interval=1&dest_id=-1456928&dest_type=city&from_sf=1&group_adults=2&group_children=0&label_click=undef&no_rooms=1&raw_dest_type=city&room1=A%2CA&sb_price_type=total&shw_aparth=1&slp_r_match=0&src=searchresults&src_elem=sb&srpvid=7ae55fc2d90601f2&ss=Paris&ssb=empty&ssne=Paris&ssne_untouched=Paris&top_ufis=1&rows=25&offset=250',\n",
    "                 'https://www.booking.com/searchresults.en-gb.html?aid=304142&label=gen173nr-1DCAEoggI46AdIM1gEaEaIAQGYAQm4AQfIAQzYAQPoAQGIAgGoAgO4AuXGyP4FwAIB0gIkZDdhYTQ0MzMtMWM0My00NGY5LWI3NmEtYjFkMGYzYzg4ZTFh2AIE4AIB&sid=de6e37cacfee4d33e1f9b1c7b24a599a&tmpl=searchresults&checkin_month=3&checkin_monthday=30&checkin_year=2021&checkout_month=3&checkout_monthday=31&checkout_year=2021&city=-1456928&class_interval=1&dest_id=-1456928&dest_type=city&dtdisc=0&from_sf=1&group_adults=2&group_children=0&inac=0&index_postcard=0&label_click=undef&no_rooms=1&postcard=0&raw_dest_type=city&room1=A%2CA&sb_price_type=total&shw_aparth=1&slp_r_match=0&src=searchresults&src_elem=sb&srpvid=e19c5fcd050d0062&ss=Paris&ss_all=0&ssb=empty&sshis=0&ssne=Paris&ssne_untouched=Paris&top_ufis=1&rows=25&offset=275',\n",
    "                 'https://www.booking.com/searchresults.en-gb.html?aid=304142&label=gen173nr-1DCAEoggI46AdIM1gEaEaIAQGYAQm4AQfIAQzYAQPoAQGIAgGoAgO4AuXGyP4FwAIB0gIkZDdhYTQ0MzMtMWM0My00NGY5LWI3NmEtYjFkMGYzYzg4ZTFh2AIE4AIB&sid=de6e37cacfee4d33e1f9b1c7b24a599a&tmpl=searchresults&checkin_month=3&checkin_monthday=30&checkin_year=2021&checkout_month=3&checkout_monthday=31&checkout_year=2021&city=-1456928&class_interval=1&dest_id=-1456928&dest_type=city&from_sf=1&group_adults=2&group_children=0&label_click=undef&no_rooms=1&raw_dest_type=city&room1=A%2CA&sb_price_type=total&shw_aparth=1&slp_r_match=0&src=searchresults&src_elem=sb&srpvid=f07e5fdec68b00d5&ss=Paris&ssb=empty&ssne=Paris&ssne_untouched=Paris&top_ufis=1&rows=25&offset=300',\n",
    "                 'https://www.booking.com/searchresults.en-gb.html?aid=304142&label=gen173nr-1DCAEoggI46AdIM1gEaEaIAQGYAQm4AQfIAQzYAQPoAQGIAgGoAgO4AuXGyP4FwAIB0gIkZDdhYTQ0MzMtMWM0My00NGY5LWI3NmEtYjFkMGYzYzg4ZTFh2AIE4AIB&sid=de6e37cacfee4d33e1f9b1c7b24a599a&tmpl=searchresults&checkin_month=3&checkin_monthday=30&checkin_year=2021&checkout_month=3&checkout_monthday=31&checkout_year=2021&city=-1456928&class_interval=1&dest_id=-1456928&dest_type=city&dtdisc=0&from_sf=1&group_adults=2&group_children=0&inac=0&index_postcard=0&label_click=undef&no_rooms=1&postcard=0&raw_dest_type=city&room1=A%2CA&sb_price_type=total&shw_aparth=1&slp_r_match=0&src=searchresults&src_elem=sb&srpvid=a3f65fe8447500a7&ss=Paris&ss_all=0&ssb=empty&sshis=0&ssne=Paris&ssne_untouched=Paris&top_ufis=1&rows=25&offset=325',\n",
    "                 'https://www.booking.com/searchresults.en-gb.html?aid=304142&label=gen173nr-1DCAEoggI46AdIM1gEaEaIAQGYAQm4AQfIAQzYAQPoAQGIAgGoAgO4AuXGyP4FwAIB0gIkZDdhYTQ0MzMtMWM0My00NGY5LWI3NmEtYjFkMGYzYzg4ZTFh2AIE4AIB&sid=de6e37cacfee4d33e1f9b1c7b24a599a&tmpl=searchresults&checkin_month=3&checkin_monthday=30&checkin_year=2021&checkout_month=3&checkout_monthday=31&checkout_year=2021&city=-1456928&class_interval=1&dest_id=-1456928&dest_type=city&from_sf=1&group_adults=2&group_children=0&label_click=undef&no_rooms=1&raw_dest_type=city&room1=A%2CA&sb_price_type=total&shw_aparth=1&slp_r_match=0&src=searchresults&src_elem=sb&srpvid=17d65ff4bfeb00ab&ss=Paris&ssb=empty&ssne=Paris&ssne_untouched=Paris&top_ufis=1&rows=25&offset=350',\n",
    "                 'https://www.booking.com/searchresults.en-gb.html?aid=304142&label=gen173nr-1DCAEoggI46AdIM1gEaEaIAQGYAQm4AQfIAQzYAQPoAQGIAgGoAgO4AuXGyP4FwAIB0gIkZDdhYTQ0MzMtMWM0My00NGY5LWI3NmEtYjFkMGYzYzg4ZTFh2AIE4AIB&sid=de6e37cacfee4d33e1f9b1c7b24a599a&tmpl=searchresults&checkin_month=3&checkin_monthday=30&checkin_year=2021&checkout_month=3&checkout_monthday=31&checkout_year=2021&city=-1456928&class_interval=1&dest_id=-1456928&dest_type=city&dtdisc=0&from_sf=1&group_adults=2&group_children=0&inac=0&index_postcard=0&label_click=undef&no_rooms=1&postcard=0&raw_dest_type=city&room1=A%2CA&sb_price_type=total&shw_aparth=1&slp_r_match=0&src=searchresults&src_elem=sb&srpvid=a6c1600065e5005b&ss=Paris&ss_all=0&ssb=empty&sshis=0&ssne=Paris&ssne_untouched=Paris&top_ufis=1&rows=25&offset=375',\n",
    "                 'https://www.booking.com/searchresults.en-gb.html?aid=304142&label=gen173nr-1DCAEoggI46AdIM1gEaEaIAQGYAQm4AQfIAQzYAQPoAQGIAgGoAgO4AuXGyP4FwAIB0gIkZDdhYTQ0MzMtMWM0My00NGY5LWI3NmEtYjFkMGYzYzg4ZTFh2AIE4AIB&sid=de6e37cacfee4d33e1f9b1c7b24a599a&tmpl=searchresults&checkin_month=3&checkin_monthday=30&checkin_year=2021&checkout_month=3&checkout_monthday=31&checkout_year=2021&city=-1456928&class_interval=1&dest_id=-1456928&dest_type=city&from_sf=1&group_adults=2&group_children=0&label_click=undef&no_rooms=1&raw_dest_type=city&room1=A%2CA&sb_price_type=total&shw_aparth=1&slp_r_match=0&src=searchresults&src_elem=sb&srpvid=d670600e2d540139&ss=Paris&ssb=empty&ssne=Paris&ssne_untouched=Paris&top_ufis=1&rows=25&offset=400',\n",
    "                 'https://www.booking.com/searchresults.en-gb.html?aid=304142&label=gen173nr-1DCAEoggI46AdIM1gEaEaIAQGYAQm4AQfIAQzYAQPoAQGIAgGoAgO4AuXGyP4FwAIB0gIkZDdhYTQ0MzMtMWM0My00NGY5LWI3NmEtYjFkMGYzYzg4ZTFh2AIE4AIB&sid=de6e37cacfee4d33e1f9b1c7b24a599a&tmpl=searchresults&checkin_month=3&checkin_monthday=30&checkin_year=2021&checkout_month=3&checkout_monthday=31&checkout_year=2021&city=-1456928&class_interval=1&dest_id=-1456928&dest_type=city&dtdisc=0&from_sf=1&group_adults=2&group_children=0&inac=0&index_postcard=0&label_click=undef&no_rooms=1&postcard=0&raw_dest_type=city&room1=A%2CA&sb_price_type=total&shw_aparth=1&slp_r_match=0&src=searchresults&src_elem=sb&srpvid=75cf601cb7c5004c&ss=Paris&ss_all=0&ssb=empty&sshis=0&ssne=Paris&ssne_untouched=Paris&top_ufis=1&rows=25&offset=425',\n",
    "                 'https://www.booking.com/searchresults.en-gb.html?aid=304142&label=gen173nr-1DCAEoggI46AdIM1gEaEaIAQGYAQm4AQfIAQzYAQPoAQGIAgGoAgO4AuXGyP4FwAIB0gIkZDdhYTQ0MzMtMWM0My00NGY5LWI3NmEtYjFkMGYzYzg4ZTFh2AIE4AIB&sid=de6e37cacfee4d33e1f9b1c7b24a599a&tmpl=searchresults&checkin_month=3&checkin_monthday=30&checkin_year=2021&checkout_month=3&checkout_monthday=31&checkout_year=2021&city=-1456928&class_interval=1&dest_id=-1456928&dest_type=city&from_sf=1&group_adults=2&group_children=0&label_click=undef&no_rooms=1&raw_dest_type=city&room1=A%2CA&sb_price_type=total&shw_aparth=1&slp_r_match=0&src=searchresults&src_elem=sb&srpvid=3c9260256db6013d&ss=Paris&ssb=empty&ssne=Paris&ssne_untouched=Paris&top_ufis=1&rows=25&offset=450',\n",
    "                 'https://www.booking.com/searchresults.en-gb.html?aid=304142&label=gen173nr-1DCAEoggI46AdIM1gEaEaIAQGYAQm4AQfIAQzYAQPoAQGIAgGoAgO4AuXGyP4FwAIB0gIkZDdhYTQ0MzMtMWM0My00NGY5LWI3NmEtYjFkMGYzYzg4ZTFh2AIE4AIB&sid=de6e37cacfee4d33e1f9b1c7b24a599a&tmpl=searchresults&checkin_month=3&checkin_monthday=30&checkin_year=2021&checkout_month=3&checkout_monthday=31&checkout_year=2021&city=-1456928&class_interval=1&dest_id=-1456928&dest_type=city&dtdisc=0&from_sf=1&group_adults=2&group_children=0&inac=0&index_postcard=0&label_click=undef&no_rooms=1&postcard=0&raw_dest_type=city&room1=A%2CA&sb_price_type=total&shw_aparth=1&slp_r_match=0&src=searchresults&src_elem=sb&srpvid=a964602efa05014e&ss=Paris&ss_all=0&ssb=empty&sshis=0&ssne=Paris&ssne_untouched=Paris&top_ufis=1&rows=25&offset=475']"
   ]
  },
  {
   "cell_type": "code",
   "execution_count": 3,
   "metadata": {},
   "outputs": [],
   "source": [
    "names_paris=[]\n",
    "hotel_links_paris=[]\n",
    "score_paris=[]\n",
    "prices_paris=[]\n",
    "\n",
    "for link in search_links_paris:\n",
    "    headers = {'User-Agent':'Mozilla/5.0 (Macintosh; Intel Mac OS X 10_11_2) AppleWebKit/601.3.9 (KHTML, like Gecko) Version/9.0.2 Safari/601.3.9'}\n",
    "    url = link\n",
    "    response=requests.get(url,headers=headers)\n",
    "    soup=BeautifulSoup(response.content,'lxml')\n",
    "\n",
    "    for item in soup.select('.sr_property_block'):\n",
    "        try:\n",
    "            names_paris.append(item.select('.sr-hotel__name')[0].get_text().strip())\n",
    "            hotel_links_paris.append(item.select('.hotel_name_link')[0]['href'])\n",
    "            score_paris.append(item.select('.bui-review-score__badge')[0].get_text().strip())\n",
    "            prices_paris.append(item.select('.bui-price-display__value')[0].get_text().strip())\n",
    "        except Exception as e:\n",
    "            score_paris.append(-1)\n",
    "            prices_paris.append('€\\xa0666666')\n",
    "        #raise e\n",
    "            print('no info')"
   ]
  },
  {
   "cell_type": "code",
   "execution_count": 5,
   "metadata": {},
   "outputs": [],
   "source": [
    "# looking for links to check pets features\n",
    "pets_links_paris=[] #runs about 5 min\n",
    "\n",
    "for link in search_links_paris:\n",
    "    response=requests.get(link)\n",
    "    soup=BeautifulSoup(response.content, \"html.parser\")\n",
    "    for i in range (0,25):\n",
    "        pets_links_paris.append(soup.findAll(\"a\", {\"class\": \"js-sr-hotel-link hotel_name_link url\"})[i]['href']) "
   ]
  },
  {
   "cell_type": "code",
   "execution_count": 6,
   "metadata": {},
   "outputs": [],
   "source": [
    "# cleaning links to check pets features\n",
    "symbol = '\\n'\n",
    "pets_links_clean_paris=[item.translate(symbol).strip() for item in pets_links_paris]\n",
    "\n",
    "pets_good_links_paris = [f'https://www.booking.com{n}' for n in pets_links_clean_paris]"
   ]
  },
  {
   "cell_type": "code",
   "execution_count": 7,
   "metadata": {},
   "outputs": [],
   "source": [
    "pets_paris=[] #it runs about 25 min\n",
    "for link in pets_good_links_paris:\n",
    "    try:\n",
    "        response=requests.get(link)\n",
    "        soup=BeautifulSoup(response.content, \"html.parser\")\n",
    "        pets_paris.append(soup.select(\"ul > li > p\")[14].get_text())\n",
    "    except Exception as e:\n",
    "        pets_paris.append(0)\n",
    "        #raise e\n",
    "        print('no info')"
   ]
  },
  {
   "cell_type": "code",
   "execution_count": 12,
   "metadata": {},
   "outputs": [],
   "source": [
    "pets_paris\n",
    "df_pets_paris = pd.DataFrame(pets_paris)\n",
    "df_pets_paris.to_csv('pets_paris_data.csv')"
   ]
  },
  {
   "cell_type": "markdown",
   "metadata": {},
   "source": [
    "# Rome"
   ]
  },
  {
   "cell_type": "code",
   "execution_count": 7,
   "metadata": {},
   "outputs": [],
   "source": [
    "search_links_rome=['https://www.booking.com/searchresults.en-gb.html?aid=304142&label=gen173nr-1FCAEoggI46AdIM1gEaEaIAQGYAQm4AQfIAQzYAQHoAQH4ARCIAgGoAgO4AvmYzv4FwAIB0gIkYjBmNWE1YTMtMWM3Ny00ZDlhLWI5MjEtODEyNTcyNjQwYWI22AIG4AIB&sid=de6e37cacfee4d33e1f9b1c7b24a599a&tmpl=searchresults&ac_click_type=b&ac_position=0&checkin_month=3&checkin_monthday=30&checkin_year=2021&checkout_month=3&checkout_monthday=31&checkout_year=2021&city=-1995499&class_interval=1&dest_id=2282&dest_type=district&from_sf=1&group_adults=2&group_children=0&label_click=undef&no_rooms=1&raw_dest_type=district&room1=A%2CA&sb_price_type=total&search_selected=1&shw_aparth=1&slp_r_match=0&src=searchresults&src_elem=sb&srpvid=d6ea6c951f2800c2&ss=Centro%20di%20Roma%2C%20Roma%2C%20Lazio%2C%20Italia&ss_raw=Roma&ssb=empty&ssne=Vienna&ssne_untouched=Vienna&top_ufis=1&rows=25',\n",
    "                  'https://www.booking.com/searchresults.en-gb.html?label=gen173nr-1FCAEoggI46AdIM1gEaEaIAQGYAQm4AQfIAQzYAQHoAQH4ARCIAgGoAgO4AvmYzv4FwAIB0gIkYjBmNWE1YTMtMWM3Ny00ZDlhLWI5MjEtODEyNTcyNjQwYWI22AIG4AIB&sid=de6e37cacfee4d33e1f9b1c7b24a599a&tmpl=searchresults&ac_click_type=b&ac_position=0&checkin_month=3&checkin_monthday=30&checkin_year=2021&checkout_month=3&checkout_monthday=31&checkout_year=2021&city=-1995499&class_interval=1&dest_id=2282&dest_type=district&dtdisc=0&from_sf=1&group_adults=2&group_children=0&inac=0&index_postcard=0&label_click=undef&no_rooms=1&postcard=0&raw_dest_type=district&room1=A%2CA&sb_price_type=total&search_selected=1&shw_aparth=1&slp_r_match=0&src=searchresults&src_elem=sb&srpvid=59ff6b6b8fde0082&ss=Centro%20di%20Roma%2C%20Roma%2C%20Lazio%2C%20Italia&ss_all=0&ss_raw=Roma&ssb=empty&sshis=0&ssne=Vienna&ssne_untouched=Vienna&top_ufis=1&rows=25&offset=25',\n",
    "                  'https://www.booking.com/searchresults.en-gb.html?aid=304142&label=gen173nr-1FCAEoggI46AdIM1gEaEaIAQGYAQm4AQfIAQzYAQHoAQH4ARCIAgGoAgO4AvmYzv4FwAIB0gIkYjBmNWE1YTMtMWM3Ny00ZDlhLWI5MjEtODEyNTcyNjQwYWI22AIG4AIB&sid=de6e37cacfee4d33e1f9b1c7b24a599a&tmpl=searchresults&ac_click_type=b&ac_position=0&checkin_month=3&checkin_monthday=30&checkin_year=2021&checkout_month=3&checkout_monthday=31&checkout_year=2021&city=-1995499&class_interval=1&dest_id=2282&dest_type=district&from_sf=1&group_adults=2&group_children=0&label_click=undef&no_rooms=1&raw_dest_type=district&room1=A%2CA&sb_price_type=total&search_selected=1&shw_aparth=1&slp_r_match=0&src=searchresults&src_elem=sb&srpvid=8a256bd24606007f&ss=Centro%20di%20Roma%2C%20Roma%2C%20Lazio%2C%20Italia&ss_raw=Roma&ssb=empty&ssne=Vienna&ssne_untouched=Vienna&top_ufis=1&rows=25&offset=50',\n",
    "                  'https://www.booking.com/searchresults.en-gb.html?aid=304142&label=gen173nr-1FCAEoggI46AdIM1gEaEaIAQGYAQm4AQfIAQzYAQHoAQH4ARCIAgGoAgO4AvmYzv4FwAIB0gIkYjBmNWE1YTMtMWM3Ny00ZDlhLWI5MjEtODEyNTcyNjQwYWI22AIG4AIB&sid=de6e37cacfee4d33e1f9b1c7b24a599a&tmpl=searchresults&ac_click_type=b&ac_position=0&checkin_month=3&checkin_monthday=30&checkin_year=2021&checkout_month=3&checkout_monthday=31&checkout_year=2021&city=-1995499&class_interval=1&dest_id=2282&dest_type=district&dtdisc=0&from_sf=1&group_adults=2&group_children=0&inac=0&index_postcard=0&label_click=undef&no_rooms=1&postcard=0&raw_dest_type=district&room1=A%2CA&sb_price_type=total&search_selected=1&shw_aparth=1&slp_r_match=0&src=searchresults&src_elem=sb&srpvid=591b6bded6690071&ss=Centro%20di%20Roma%2C%20Roma%2C%20Lazio%2C%20Italia&ss_all=0&ss_raw=Roma&ssb=empty&sshis=0&ssne=Vienna&ssne_untouched=Vienna&top_ufis=1&rows=25&offset=75',\n",
    "                  'https://www.booking.com/searchresults.en-gb.html?aid=304142&label=gen173nr-1FCAEoggI46AdIM1gEaEaIAQGYAQm4AQfIAQzYAQHoAQH4ARCIAgGoAgO4AvmYzv4FwAIB0gIkYjBmNWE1YTMtMWM3Ny00ZDlhLWI5MjEtODEyNTcyNjQwYWI22AIG4AIB&sid=de6e37cacfee4d33e1f9b1c7b24a599a&tmpl=searchresults&ac_click_type=b&ac_position=0&checkin_month=3&checkin_monthday=30&checkin_year=2021&checkout_month=3&checkout_monthday=31&checkout_year=2021&city=-1995499&class_interval=1&dest_id=2282&dest_type=district&from_sf=1&group_adults=2&group_children=0&label_click=undef&no_rooms=1&raw_dest_type=district&room1=A%2CA&sb_price_type=total&search_selected=1&shw_aparth=1&slp_r_match=0&src=searchresults&src_elem=sb&srpvid=03ce6bf311c20028&ss=Centro%20di%20Roma%2C%20Roma%2C%20Lazio%2C%20Italia&ss_raw=Roma&ssb=empty&ssne=Vienna&ssne_untouched=Vienna&top_ufis=1&rows=25&offset=100',\n",
    "                  'https://www.booking.com/searchresults.en-gb.html?aid=304142&label=gen173nr-1FCAEoggI46AdIM1gEaEaIAQGYAQm4AQfIAQzYAQHoAQH4ARCIAgGoAgO4AvmYzv4FwAIB0gIkYjBmNWE1YTMtMWM3Ny00ZDlhLWI5MjEtODEyNTcyNjQwYWI22AIG4AIB&sid=de6e37cacfee4d33e1f9b1c7b24a599a&tmpl=searchresults&ac_click_type=b&ac_position=0&checkin_month=3&checkin_monthday=30&checkin_year=2021&checkout_month=3&checkout_monthday=31&checkout_year=2021&city=-1995499&class_interval=1&dest_id=2282&dest_type=district&dtdisc=0&from_sf=1&group_adults=2&group_children=0&inac=0&index_postcard=0&label_click=undef&no_rooms=1&postcard=0&raw_dest_type=district&room1=A%2CA&sb_price_type=total&search_selected=1&shw_aparth=1&slp_r_match=0&src=searchresults&src_elem=sb&srpvid=df1f6bfb7770011d&ss=Centro%20di%20Roma%2C%20Roma%2C%20Lazio%2C%20Italia&ss_all=0&ss_raw=Roma&ssb=empty&sshis=0&ssne=Vienna&ssne_untouched=Vienna&top_ufis=1&rows=25&offset=125',\n",
    "                  'https://www.booking.com/searchresults.en-gb.html?aid=304142&label=gen173nr-1FCAEoggI46AdIM1gEaEaIAQGYAQm4AQfIAQzYAQHoAQH4ARCIAgGoAgO4AvmYzv4FwAIB0gIkYjBmNWE1YTMtMWM3Ny00ZDlhLWI5MjEtODEyNTcyNjQwYWI22AIG4AIB&sid=de6e37cacfee4d33e1f9b1c7b24a599a&tmpl=searchresults&ac_click_type=b&ac_position=0&checkin_month=3&checkin_monthday=30&checkin_year=2021&checkout_month=3&checkout_monthday=31&checkout_year=2021&city=-1995499&class_interval=1&dest_id=2282&dest_type=district&from_sf=1&group_adults=2&group_children=0&label_click=undef&no_rooms=1&raw_dest_type=district&room1=A%2CA&sb_price_type=total&search_selected=1&shw_aparth=1&slp_r_match=0&src=searchresults&src_elem=sb&srpvid=77b26c0b47800137&ss=Centro%20di%20Roma%2C%20Roma%2C%20Lazio%2C%20Italia&ss_raw=Roma&ssb=empty&ssne=Vienna&ssne_untouched=Vienna&top_ufis=1&rows=25&offset=150',\n",
    "                  'https://www.booking.com/searchresults.en-gb.html?aid=304142&label=gen173nr-1FCAEoggI46AdIM1gEaEaIAQGYAQm4AQfIAQzYAQHoAQH4ARCIAgGoAgO4AvmYzv4FwAIB0gIkYjBmNWE1YTMtMWM3Ny00ZDlhLWI5MjEtODEyNTcyNjQwYWI22AIG4AIB&sid=de6e37cacfee4d33e1f9b1c7b24a599a&tmpl=searchresults&ac_click_type=b&ac_position=0&checkin_month=3&checkin_monthday=30&checkin_year=2021&checkout_month=3&checkout_monthday=31&checkout_year=2021&city=-1995499&class_interval=1&dest_id=2282&dest_type=district&dtdisc=0&from_sf=1&group_adults=2&group_children=0&inac=0&index_postcard=0&label_click=undef&no_rooms=1&postcard=0&raw_dest_type=district&room1=A%2CA&sb_price_type=total&search_selected=1&shw_aparth=1&slp_r_match=0&src=searchresults&src_elem=sb&srpvid=6d1e6c159e1900bd&ss=Centro%20di%20Roma%2C%20Roma%2C%20Lazio%2C%20Italia&ss_all=0&ss_raw=Roma&ssb=empty&sshis=0&ssne=Vienna&ssne_untouched=Vienna&top_ufis=1&rows=25&offset=175',\n",
    "                  'https://www.booking.com/searchresults.en-gb.html?aid=304142&label=gen173nr-1FCAEoggI46AdIM1gEaEaIAQGYAQm4AQfIAQzYAQHoAQH4ARCIAgGoAgO4AvmYzv4FwAIB0gIkYjBmNWE1YTMtMWM3Ny00ZDlhLWI5MjEtODEyNTcyNjQwYWI22AIG4AIB&sid=de6e37cacfee4d33e1f9b1c7b24a599a&tmpl=searchresults&ac_click_type=b&ac_position=0&checkin_month=3&checkin_monthday=30&checkin_year=2021&checkout_month=3&checkout_monthday=31&checkout_year=2021&city=-1995499&class_interval=1&dest_id=2282&dest_type=district&from_sf=1&group_adults=2&group_children=0&label_click=undef&no_rooms=1&raw_dest_type=district&room1=A%2CA&sb_price_type=total&search_selected=1&shw_aparth=1&slp_r_match=0&src=searchresults&src_elem=sb&srpvid=77b26c1f819a0031&ss=Centro%20di%20Roma%2C%20Roma%2C%20Lazio%2C%20Italia&ss_raw=Roma&ssb=empty&ssne=Vienna&ssne_untouched=Vienna&top_ufis=1&rows=25&offset=200',\n",
    "                  'https://www.booking.com/searchresults.en-gb.html?aid=304142&label=gen173nr-1FCAEoggI46AdIM1gEaEaIAQGYAQm4AQfIAQzYAQHoAQH4ARCIAgGoAgO4AvmYzv4FwAIB0gIkYjBmNWE1YTMtMWM3Ny00ZDlhLWI5MjEtODEyNTcyNjQwYWI22AIG4AIB&sid=de6e37cacfee4d33e1f9b1c7b24a599a&tmpl=searchresults&ac_click_type=b&ac_position=0&checkin_month=3&checkin_monthday=30&checkin_year=2021&checkout_month=3&checkout_monthday=31&checkout_year=2021&city=-1995499&class_interval=1&dest_id=2282&dest_type=district&dtdisc=0&from_sf=1&group_adults=2&group_children=0&inac=0&index_postcard=0&label_click=undef&no_rooms=1&postcard=0&raw_dest_type=district&room1=A%2CA&sb_price_type=total&search_selected=1&shw_aparth=1&slp_r_match=0&src=searchresults&src_elem=sb&srpvid=dc276c2b5b0a0136&ss=Centro%20di%20Roma%2C%20Roma%2C%20Lazio%2C%20Italia&ss_all=0&ss_raw=Roma&ssb=empty&sshis=0&ssne=Vienna&ssne_untouched=Vienna&top_ufis=1&rows=25&offset=225',\n",
    "                  'https://www.booking.com/searchresults.en-gb.html?aid=304142&label=gen173nr-1FCAEoggI46AdIM1gEaEaIAQGYAQm4AQfIAQzYAQHoAQH4ARCIAgGoAgO4AvmYzv4FwAIB0gIkYjBmNWE1YTMtMWM3Ny00ZDlhLWI5MjEtODEyNTcyNjQwYWI22AIG4AIB&sid=de6e37cacfee4d33e1f9b1c7b24a599a&tmpl=searchresults&ac_click_type=b&ac_position=0&checkin_month=3&checkin_monthday=30&checkin_year=2021&checkout_month=3&checkout_monthday=31&checkout_year=2021&city=-1995499&class_interval=1&dest_id=2282&dest_type=district&from_sf=1&group_adults=2&group_children=0&label_click=undef&no_rooms=1&raw_dest_type=district&room1=A%2CA&sb_price_type=total&search_selected=1&shw_aparth=1&slp_r_match=0&src=searchresults&src_elem=sb&srpvid=98296c34076d0057&ss=Centro%20di%20Roma%2C%20Roma%2C%20Lazio%2C%20Italia&ss_raw=Roma&ssb=empty&ssne=Vienna&ssne_untouched=Vienna&top_ufis=1&rows=25&offset=250',\n",
    "                  'https://www.booking.com/searchresults.en-gb.html?aid=304142&label=gen173nr-1FCAEoggI46AdIM1gEaEaIAQGYAQm4AQfIAQzYAQHoAQH4ARCIAgGoAgO4AvmYzv4FwAIB0gIkYjBmNWE1YTMtMWM3Ny00ZDlhLWI5MjEtODEyNTcyNjQwYWI22AIG4AIB&sid=de6e37cacfee4d33e1f9b1c7b24a599a&tmpl=searchresults&ac_click_type=b&ac_position=0&checkin_month=3&checkin_monthday=30&checkin_year=2021&checkout_month=3&checkout_monthday=31&checkout_year=2021&city=-1995499&class_interval=1&dest_id=2282&dest_type=district&dtdisc=0&from_sf=1&group_adults=2&group_children=0&inac=0&index_postcard=0&label_click=undef&no_rooms=1&postcard=0&raw_dest_type=district&room1=A%2CA&sb_price_type=total&search_selected=1&shw_aparth=1&slp_r_match=0&src=searchresults&src_elem=sb&srpvid=1fa76c3f6b3901ba&ss=Centro%20di%20Roma%2C%20Roma%2C%20Lazio%2C%20Italia&ss_all=0&ss_raw=Roma&ssb=empty&sshis=0&ssne=Vienna&ssne_untouched=Vienna&top_ufis=1&rows=25&offset=275',\n",
    "                  'https://www.booking.com/searchresults.en-gb.html?aid=304142&label=gen173nr-1FCAEoggI46AdIM1gEaEaIAQGYAQm4AQfIAQzYAQHoAQH4ARCIAgGoAgO4AvmYzv4FwAIB0gIkYjBmNWE1YTMtMWM3Ny00ZDlhLWI5MjEtODEyNTcyNjQwYWI22AIG4AIB&sid=de6e37cacfee4d33e1f9b1c7b24a599a&tmpl=searchresults&ac_click_type=b&ac_position=0&checkin_month=3&checkin_monthday=30&checkin_year=2021&checkout_month=3&checkout_monthday=31&checkout_year=2021&city=-1995499&class_interval=1&dest_id=2282&dest_type=district&from_sf=1&group_adults=2&group_children=0&label_click=undef&no_rooms=1&raw_dest_type=district&room1=A%2CA&sb_price_type=total&search_selected=1&shw_aparth=1&slp_r_match=0&src=searchresults&src_elem=sb&srpvid=1d9f6c493a2700cc&ss=Centro%20di%20Roma%2C%20Roma%2C%20Lazio%2C%20Italia&ss_raw=Roma&ssb=empty&ssne=Vienna&ssne_untouched=Vienna&top_ufis=1&rows=25&offset=300',\n",
    "                  'https://www.booking.com/searchresults.en-gb.html?aid=304142&label=gen173nr-1FCAEoggI46AdIM1gEaEaIAQGYAQm4AQfIAQzYAQHoAQH4ARCIAgGoAgO4AvmYzv4FwAIB0gIkYjBmNWE1YTMtMWM3Ny00ZDlhLWI5MjEtODEyNTcyNjQwYWI22AIG4AIB&sid=de6e37cacfee4d33e1f9b1c7b24a599a&tmpl=searchresults&ac_click_type=b&ac_position=0&checkin_month=3&checkin_monthday=30&checkin_year=2021&checkout_month=3&checkout_monthday=31&checkout_year=2021&city=-1995499&class_interval=1&dest_id=2282&dest_type=district&dtdisc=0&from_sf=1&group_adults=2&group_children=0&inac=0&index_postcard=0&label_click=undef&no_rooms=1&postcard=0&raw_dest_type=district&room1=A%2CA&sb_price_type=total&search_selected=1&shw_aparth=1&slp_r_match=0&src=searchresults&src_elem=sb&srpvid=75cf6c5487c7000d&ss=Centro%20di%20Roma%2C%20Roma%2C%20Lazio%2C%20Italia&ss_all=0&ss_raw=Roma&ssb=empty&sshis=0&ssne=Vienna&ssne_untouched=Vienna&top_ufis=1&rows=25&offset=325',\n",
    "                  'https://www.booking.com/searchresults.en-gb.html?aid=304142&label=gen173nr-1FCAEoggI46AdIM1gEaEaIAQGYAQm4AQfIAQzYAQHoAQH4ARCIAgGoAgO4AvmYzv4FwAIB0gIkYjBmNWE1YTMtMWM3Ny00ZDlhLWI5MjEtODEyNTcyNjQwYWI22AIG4AIB&sid=de6e37cacfee4d33e1f9b1c7b24a599a&tmpl=searchresults&ac_click_type=b&ac_position=0&checkin_month=3&checkin_monthday=30&checkin_year=2021&checkout_month=3&checkout_monthday=31&checkout_year=2021&city=-1995499&class_interval=1&dest_id=2282&dest_type=district&from_sf=1&group_adults=2&group_children=0&label_click=undef&no_rooms=1&raw_dest_type=district&room1=A%2CA&sb_price_type=total&search_selected=1&shw_aparth=1&slp_r_match=0&src=searchresults&src_elem=sb&srpvid=f6f26c5efafa0088&ss=Centro%20di%20Roma%2C%20Roma%2C%20Lazio%2C%20Italia&ss_raw=Roma&ssb=empty&ssne=Vienna&ssne_untouched=Vienna&top_ufis=1&rows=25&offset=350',\n",
    "                  'https://www.booking.com/searchresults.en-gb.html?aid=304142&label=gen173nr-1FCAEoggI46AdIM1gEaEaIAQGYAQm4AQfIAQzYAQHoAQH4ARCIAgGoAgO4AvmYzv4FwAIB0gIkYjBmNWE1YTMtMWM3Ny00ZDlhLWI5MjEtODEyNTcyNjQwYWI22AIG4AIB&sid=de6e37cacfee4d33e1f9b1c7b24a599a&tmpl=searchresults&ac_click_type=b&ac_position=0&checkin_month=3&checkin_monthday=30&checkin_year=2021&checkout_month=3&checkout_monthday=31&checkout_year=2021&city=-1995499&class_interval=1&dest_id=2282&dest_type=district&dtdisc=0&from_sf=1&group_adults=2&group_children=0&inac=0&index_postcard=0&label_click=undef&no_rooms=1&postcard=0&raw_dest_type=district&room1=A%2CA&sb_price_type=total&search_selected=1&shw_aparth=1&slp_r_match=0&src=searchresults&src_elem=sb&srpvid=342d6c68a09e0044&ss=Centro%20di%20Roma%2C%20Roma%2C%20Lazio%2C%20Italia&ss_all=0&ss_raw=Roma&ssb=empty&sshis=0&ssne=Vienna&ssne_untouched=Vienna&top_ufis=1&rows=25&offset=375',\n",
    "                  'https://www.booking.com/searchresults.en-gb.html?aid=304142&label=gen173nr-1FCAEoggI46AdIM1gEaEaIAQGYAQm4AQfIAQzYAQHoAQH4ARCIAgGoAgO4AvmYzv4FwAIB0gIkYjBmNWE1YTMtMWM3Ny00ZDlhLWI5MjEtODEyNTcyNjQwYWI22AIG4AIB&sid=de6e37cacfee4d33e1f9b1c7b24a599a&tmpl=searchresults&ac_click_type=b&ac_position=0&checkin_month=3&checkin_monthday=30&checkin_year=2021&checkout_month=3&checkout_monthday=31&checkout_year=2021&city=-1995499&class_interval=1&dest_id=2282&dest_type=district&from_sf=1&group_adults=2&group_children=0&label_click=undef&no_rooms=1&raw_dest_type=district&room1=A%2CA&sb_price_type=total&search_selected=1&shw_aparth=1&slp_r_match=0&src=searchresults&src_elem=sb&srpvid=70cb6c71c76c007e&ss=Centro%20di%20Roma%2C%20Roma%2C%20Lazio%2C%20Italia&ss_raw=Roma&ssb=empty&ssne=Vienna&ssne_untouched=Vienna&top_ufis=1&rows=25&offset=400',\n",
    "                  'https://www.booking.com/searchresults.en-gb.html?aid=304142&label=gen173nr-1FCAEoggI46AdIM1gEaEaIAQGYAQm4AQfIAQzYAQHoAQH4ARCIAgGoAgO4AvmYzv4FwAIB0gIkYjBmNWE1YTMtMWM3Ny00ZDlhLWI5MjEtODEyNTcyNjQwYWI22AIG4AIB&sid=de6e37cacfee4d33e1f9b1c7b24a599a&tmpl=searchresults&ac_click_type=b&ac_position=0&checkin_month=3&checkin_monthday=30&checkin_year=2021&checkout_month=3&checkout_monthday=31&checkout_year=2021&city=-1995499&class_interval=1&dest_id=2282&dest_type=district&dtdisc=0&from_sf=1&group_adults=2&group_children=0&inac=0&index_postcard=0&label_click=undef&no_rooms=1&postcard=0&raw_dest_type=district&room1=A%2CA&sb_price_type=total&search_selected=1&shw_aparth=1&slp_r_match=0&src=searchresults&src_elem=sb&srpvid=9c396c79c4fe0066&ss=Centro%20di%20Roma%2C%20Roma%2C%20Lazio%2C%20Italia&ss_all=0&ss_raw=Roma&ssb=empty&sshis=0&ssne=Vienna&ssne_untouched=Vienna&top_ufis=1&rows=25&offset=425',\n",
    "                  'https://www.booking.com/searchresults.en-gb.html?aid=304142&label=gen173nr-1FCAEoggI46AdIM1gEaEaIAQGYAQm4AQfIAQzYAQHoAQH4ARCIAgGoAgO4AvmYzv4FwAIB0gIkYjBmNWE1YTMtMWM3Ny00ZDlhLWI5MjEtODEyNTcyNjQwYWI22AIG4AIB&sid=de6e37cacfee4d33e1f9b1c7b24a599a&tmpl=searchresults&ac_click_type=b&ac_position=0&checkin_month=3&checkin_monthday=30&checkin_year=2021&checkout_month=3&checkout_monthday=31&checkout_year=2021&city=-1995499&class_interval=1&dest_id=2282&dest_type=district&from_sf=1&group_adults=2&group_children=0&label_click=undef&no_rooms=1&raw_dest_type=district&room1=A%2CA&sb_price_type=total&search_selected=1&shw_aparth=1&slp_r_match=0&src=searchresults&src_elem=sb&srpvid=17c66c8196c90014&ss=Centro%20di%20Roma%2C%20Roma%2C%20Lazio%2C%20Italia&ss_raw=Roma&ssb=empty&ssne=Vienna&ssne_untouched=Vienna&top_ufis=1&rows=25&offset=450',\n",
    "                  'https://www.booking.com/searchresults.en-gb.html?aid=304142&label=gen173nr-1FCAEoggI46AdIM1gEaEaIAQGYAQm4AQfIAQzYAQHoAQH4ARCIAgGoAgO4AvmYzv4FwAIB0gIkYjBmNWE1YTMtMWM3Ny00ZDlhLWI5MjEtODEyNTcyNjQwYWI22AIG4AIB&sid=de6e37cacfee4d33e1f9b1c7b24a599a&tmpl=searchresults&ac_click_type=b&ac_position=0&checkin_month=3&checkin_monthday=30&checkin_year=2021&checkout_month=3&checkout_monthday=31&checkout_year=2021&city=-1995499&class_interval=1&dest_id=2282&dest_type=district&dtdisc=0&from_sf=1&group_adults=2&group_children=0&inac=0&index_postcard=0&label_click=undef&no_rooms=1&postcard=0&raw_dest_type=district&room1=A%2CA&sb_price_type=total&search_selected=1&shw_aparth=1&slp_r_match=0&src=searchresults&src_elem=sb&srpvid=18f96c8bba850074&ss=Centro%20di%20Roma%2C%20Roma%2C%20Lazio%2C%20Italia&ss_all=0&ss_raw=Roma&ssb=empty&sshis=0&ssne=Vienna&ssne_untouched=Vienna&top_ufis=1&rows=25&offset=475']"
   ]
  },
  {
   "cell_type": "code",
   "execution_count": 8,
   "metadata": {},
   "outputs": [
    {
     "name": "stdout",
     "output_type": "stream",
     "text": [
      "no info\n",
      "no info\n",
      "no info\n",
      "no info\n"
     ]
    }
   ],
   "source": [
    "names_rome=[]\n",
    "hotel_links_rome=[]\n",
    "score_rome=[]\n",
    "prices_rome=[]\n",
    "\n",
    "for link in search_links_rome:\n",
    "    headers = {'User-Agent':'Mozilla/5.0 (Macintosh; Intel Mac OS X 10_11_2) AppleWebKit/601.3.9 (KHTML, like Gecko) Version/9.0.2 Safari/601.3.9'}\n",
    "    url = link\n",
    "    response=requests.get(url,headers=headers)\n",
    "    soup=BeautifulSoup(response.content,'lxml')\n",
    "\n",
    "    for item in soup.select('.sr_property_block'):\n",
    "        try:\n",
    "            names_rome.append(item.select('.sr-hotel__name')[0].get_text().strip())\n",
    "            hotel_links_rome.append(item.select('.hotel_name_link')[0]['href'])\n",
    "            score_rome.append(item.select('.bui-review-score__badge')[0].get_text().strip())\n",
    "            prices_rome.append(item.select('.bui-price-display__value')[0].get_text().strip())\n",
    "        except Exception as e:\n",
    "            score_rome.append(-1)\n",
    "            prices_rome.append('€\\xa0666666')\n",
    "        #raise e\n",
    "            print('no info')"
   ]
  },
  {
   "cell_type": "code",
   "execution_count": 11,
   "metadata": {},
   "outputs": [],
   "source": [
    "# looking for links to check pets features\n",
    "pets_links_rome=[] #runs about 5 min\n",
    "\n",
    "for link in search_links_rome:\n",
    "    response=requests.get(link)\n",
    "    soup=BeautifulSoup(response.content, \"html.parser\")\n",
    "    for i in range (0,25):\n",
    "        try:\n",
    "            pets_links_rome.append(soup.findAll(\"a\", {\"class\": \"js-sr-hotel-link hotel_name_link url\"})[i]['href'])\n",
    "        except Exception as e:\n",
    "            pets_links_rome.append(0)\n",
    "        #raise e\n",
    "            print('no info')"
   ]
  },
  {
   "cell_type": "code",
   "execution_count": 13,
   "metadata": {},
   "outputs": [],
   "source": [
    "# cleaning links to check pets features\n",
    "symbol = '\\n'\n",
    "pets_links_clean_rome=[item.translate(symbol).strip() for item in pets_links_rome]\n",
    "\n",
    "pets_good_links_rome = [f'https://www.booking.com{n}' for n in pets_links_clean_rome]"
   ]
  },
  {
   "cell_type": "code",
   "execution_count": 14,
   "metadata": {},
   "outputs": [],
   "source": [
    "pets_rome=[] #it runs about 25 min\n",
    "for link in pets_good_links_rome:\n",
    "    try:\n",
    "        response=requests.get(link)\n",
    "        soup=BeautifulSoup(response.content, \"html.parser\")\n",
    "        pets_rome.append(soup.select(\"ul > li > p\")[14].get_text())\n",
    "    except Exception as e:\n",
    "        pets_rome.append(0)\n",
    "        #raise e\n",
    "        print('no info')"
   ]
  },
  {
   "cell_type": "code",
   "execution_count": 16,
   "metadata": {},
   "outputs": [],
   "source": [
    "df_pets_rome = pd.DataFrame(pets_rome)\n",
    "df_pets_rome.to_csv('pets_rome_data.csv')"
   ]
  },
  {
   "cell_type": "markdown",
   "metadata": {},
   "source": [
    "# Creating and saving data"
   ]
  },
  {
   "cell_type": "code",
   "execution_count": 193,
   "metadata": {},
   "outputs": [],
   "source": [
    "barcelona = pd.DataFrame(list(zip(names,score,prices,pets_bcn,pets_good_links)), \n",
    "               columns =['Name','Score','Price','Pets','Link'])"
   ]
  },
  {
   "cell_type": "code",
   "execution_count": 201,
   "metadata": {},
   "outputs": [],
   "source": [
    "barcelona.to_csv('barcelona_data.csv')"
   ]
  },
  {
   "cell_type": "code",
   "execution_count": 195,
   "metadata": {},
   "outputs": [],
   "source": [
    "amsterdam = pd.DataFrame(list(zip(names_amsterdam,score_amsterdam,prices_amsterdam,pets_amsterdam,pets_good_links_amsterdam)), \n",
    "               columns =['Name','Score','Price','Pets','Link'])"
   ]
  },
  {
   "cell_type": "code",
   "execution_count": 202,
   "metadata": {},
   "outputs": [],
   "source": [
    "amsterdam.to_csv('amsterdam_data.csv')"
   ]
  },
  {
   "cell_type": "code",
   "execution_count": 205,
   "metadata": {},
   "outputs": [],
   "source": [
    "lisabon = pd.DataFrame(list(zip(names_lisabon,score_lisabon,prices_lisabon,pets_lisabon,pets_good_links_lisabon)), \n",
    "               columns =['Name','Score','Price','Pets','Link'])"
   ]
  },
  {
   "cell_type": "code",
   "execution_count": 206,
   "metadata": {},
   "outputs": [],
   "source": [
    "lisabon.to_csv('lisabon_data.csv')"
   ]
  },
  {
   "cell_type": "code",
   "execution_count": 10,
   "metadata": {},
   "outputs": [],
   "source": [
    "paris = pd.DataFrame(list(zip(names_paris,score_paris,prices_paris,pets_paris,pets_good_links_paris)), \n",
    "               columns =['Name','Score','Price','Pets','Link'])"
   ]
  },
  {
   "cell_type": "code",
   "execution_count": 14,
   "metadata": {},
   "outputs": [],
   "source": [
    "paris.to_csv('new_paris_data.csv')"
   ]
  },
  {
   "cell_type": "code",
   "execution_count": 22,
   "metadata": {},
   "outputs": [],
   "source": [
    "rome = pd.DataFrame(list(zip(names_rome,score_rome,prices_rome,pets_rome,pets_good_links_rome)), \n",
    "               columns =['Name','Score','Price','Pets','Link'])"
   ]
  },
  {
   "cell_type": "code",
   "execution_count": 24,
   "metadata": {},
   "outputs": [],
   "source": [
    "rome.to_csv('rome_data.csv')"
   ]
  }
 ],
 "metadata": {
  "kernelspec": {
   "display_name": "Python 3",
   "language": "python",
   "name": "python3"
  },
  "language_info": {
   "codemirror_mode": {
    "name": "ipython",
    "version": 3
   },
   "file_extension": ".py",
   "mimetype": "text/x-python",
   "name": "python",
   "nbconvert_exporter": "python",
   "pygments_lexer": "ipython3",
   "version": "3.8.6"
  }
 },
 "nbformat": 4,
 "nbformat_minor": 4
}
