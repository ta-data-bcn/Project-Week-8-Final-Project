{
 "cells": [
  {
   "cell_type": "markdown",
   "metadata": {},
   "source": [
    "There are available pictures with backgrounds that are not leaves... dunno if it would be interesting to make a model that identifies leaves and not leaves first...."
   ]
  },
  {
   "cell_type": "code",
   "execution_count": 1,
   "metadata": {},
   "outputs": [],
   "source": [
    "crops = ['Apple','Cherry','Corn','Grape','Peach','Pepper','Potato','Strawberry','Tomato']"
   ]
  },
  {
   "cell_type": "markdown",
   "metadata": {},
   "source": [
    "Could make a model that identifies the crops that we have sick data from and then that could be complemented with google pictures? or is it better to have a model only with the VillagePlant data? or should I do it for just one plant plus the google data and try to do the webpage display? or separate models by species?"
   ]
  },
  {
   "cell_type": "markdown",
   "metadata": {},
   "source": [
    "# Creating folders and moving files (functions)"
   ]
  },
  {
   "cell_type": "markdown",
   "metadata": {},
   "source": [
    "## To create folders"
   ]
  },
  {
   "cell_type": "code",
   "execution_count": 1,
   "metadata": {},
   "outputs": [],
   "source": [
    "import os"
   ]
  },
  {
   "cell_type": "code",
   "execution_count": 2,
   "metadata": {},
   "outputs": [],
   "source": [
    "#name of the folders i want to create inside train, valid and test\n",
    "\n",
    "def List_paths (folders_create):\n",
    "    train = ['train/'+i for i in folders_create]\n",
    "    valid = ['valid/'+i for i in folders_create]\n",
    "    test =  ['test/'+i for i in folders_create]\n",
    "\n",
    "    List_paths = train+valid+test\n",
    "    return List_paths\n"
   ]
  },
  {
   "cell_type": "code",
   "execution_count": 3,
   "metadata": {},
   "outputs": [],
   "source": [
    "#Dir = where to (the path of the directory)\n",
    "#List_paths = list of paths to create the folders\n",
    "\n",
    "def folders (Dir,List_paths ):\n",
    "    import os\n",
    "    os.chdir(Dir) # to redirect to the directory that we want\n",
    "    if os.path.isdir(List_paths[0]) is False: # checking if it exists, if not apply:\n",
    "        for i in List_paths:\n",
    "            os.makedirs(i)"
   ]
  },
  {
   "cell_type": "code",
   "execution_count": 8,
   "metadata": {},
   "outputs": [],
   "source": [
    "#Dir='../TRIAL'\n",
    "#folders_create = ['apple','banana'] \n",
    "\n",
    "#applying the function to create the folders\n",
    "\n",
    "folders_create = sorted(os.listdir('../PlantVillageAUG'))\n",
    "\n",
    "Dir = '../../../project_8/Project-Week-8-Final-Project/PlantVillageAUG'\n",
    "\n",
    "folders(Dir,List_paths(folders_create))"
   ]
  },
  {
   "cell_type": "code",
   "execution_count": 25,
   "metadata": {
    "collapsed": true
   },
   "outputs": [
    {
     "data": {
      "text/plain": [
       "['.DS_Store',\n",
       " 'Apple_Apple_scab',\n",
       " 'Apple_Black_rot',\n",
       " 'Apple_Cedar_apple_rust',\n",
       " 'Apple_healthy',\n",
       " 'Cherry_Powdery_mildew',\n",
       " 'Cherry_healthy',\n",
       " 'Corn_Blight',\n",
       " 'Corn_Cercospora',\n",
       " 'Corn_Common_rust',\n",
       " 'Corn_healthy',\n",
       " 'Grape_Black_Measles',\n",
       " 'Grape_Black_rot',\n",
       " 'Grape_blight',\n",
       " 'Grape_healthy',\n",
       " 'Peach_Bacterial_spot',\n",
       " 'Peach_healthy',\n",
       " 'Pepper_bell_Bacterial_spot',\n",
       " 'Pepper_bell_healthy',\n",
       " 'Potato_Early_blight',\n",
       " 'Potato_Late_blight',\n",
       " 'Potato_healthy',\n",
       " 'Strawberry_Leaf_scorch',\n",
       " 'Strawberry_healthy',\n",
       " 'Tomato_Bacterial_spot',\n",
       " 'Tomato_Early_blight',\n",
       " 'Tomato_Late_blight',\n",
       " 'Tomato_Leaf_Mold',\n",
       " 'Tomato_Septoria',\n",
       " 'Tomato_Spider_mites',\n",
       " 'Tomato_Target_Spot',\n",
       " 'Tomato_Tomato_Yellow_Leaf_Curl_Virus',\n",
       " 'Tomato_Tomato_mosaic_virus',\n",
       " 'Tomato_healthy']"
      ]
     },
     "execution_count": 25,
     "metadata": {},
     "output_type": "execute_result"
    }
   ],
   "source": [
    "Folders_create"
   ]
  },
  {
   "cell_type": "markdown",
   "metadata": {},
   "source": [
    "## Function to move to train, valid, test"
   ]
  },
  {
   "cell_type": "code",
   "execution_count": 15,
   "metadata": {},
   "outputs": [],
   "source": [
    "#List_source = paths to get the files from\n",
    "#List_dest = paths to put the files to\n",
    "#List_num_files = number of files per train, valid and test (integers)\n",
    "\n",
    "def move_files (Dir,List_source,num):\n",
    "\n",
    "    import glob\n",
    "    import random\n",
    "    import shutil\n",
    "    import os\n",
    "    os.chdir(Dir)\n",
    "    n=0\n",
    "    for item in List_source:\n",
    "        path_files = os.listdir(Dir+'/'+item)\n",
    "        files = [(str(Dir+'/'+item)+'/'+str(i)) for i in path_files]\n",
    "        #train\n",
    "        for i in random.sample(files, num[0]):\n",
    "            shutil.move(i, Dir+'/'+'train/'+item)\n",
    "\n",
    "        #valid\n",
    "        path_files = os.listdir(Dir+'/'+item)\n",
    "        files = [(str(Dir+'/'+item)+'/'+str(i)) for i in path_files]\n",
    "        for i in random.sample(files, num[1]):\n",
    "            shutil.move(i, Dir+'/'+'valid/'+item)\n",
    "\n",
    "        #test\n",
    "        path_files = os.listdir(Dir+'/'+item)\n",
    "        files = [(str(Dir+'/'+item)+'/'+str(i)) for i in path_files]\n",
    "        for i in random.sample(files, num[2]):\n",
    "            shutil.move(i, Dir+'/'+'test/'+item)\n",
    "        n+=1\n",
    "    os.chdir('../../')"
   ]
  },
  {
   "cell_type": "code",
   "execution_count": 7,
   "metadata": {},
   "outputs": [],
   "source": [
    "#List_source=['Apple/*','Banana/*']\n",
    "\n",
    "#num=[1,1,1]\n",
    "\n",
    "#applying the function to move the files to the folders\n",
    "\n",
    "#move_files(List_source,folders_create,num )"
   ]
  },
  {
   "cell_type": "code",
   "execution_count": 13,
   "metadata": {},
   "outputs": [],
   "source": [
    "Dir = '../../../project_8/Project-Week-8-Final-Project/PlantVillageAUG'\n",
    "\n",
    "List_source = sorted(os.listdir('../PlantVillageAUG'))[1:-3]\n",
    "\n",
    "\n",
    "num = [770,150,80]\n",
    "\n",
    "# to create the files\n",
    "\n",
    "#folders(Dir,List_paths(folders_create))"
   ]
  },
  {
   "cell_type": "code",
   "execution_count": null,
   "metadata": {},
   "outputs": [],
   "source": []
  },
  {
   "cell_type": "code",
   "execution_count": 16,
   "metadata": {
    "scrolled": true
   },
   "outputs": [],
   "source": [
    "# to move the files\n",
    "\n",
    "move_files(Dir,List_source,num)"
   ]
  },
  {
   "cell_type": "markdown",
   "metadata": {},
   "source": [
    "## Function to rename"
   ]
  },
  {
   "cell_type": "code",
   "execution_count": 45,
   "metadata": {},
   "outputs": [],
   "source": [
    "root = '../project_8/Project-Week-8-Final-Project/PlantVillageAUG'\n",
    "folders = sorted(os.listdir(root))[1:]"
   ]
  },
  {
   "cell_type": "code",
   "execution_count": 46,
   "metadata": {},
   "outputs": [],
   "source": [
    "import os\n",
    "# Function to rename multiple files \n",
    "root = '../project_8/Project-Week-8-Final-Project/PlantVillageAUG'\n",
    "folders = sorted(os.listdir(root))[1:]\n",
    "\n",
    "def main(root,folders):\n",
    "    import os\n",
    "    for i in range(len(folders)):\n",
    "        for count, filename in enumerate(os.listdir(root+'/'+folders[i])): \n",
    "            src = root + '/' + folders[i] + '/'+ filename \n",
    "            dst =root + '/' + folders[i] +'/'+ folders[i] + str(count) + \".jpg\"\n",
    "          \n",
    "            # rename() function will \n",
    "            # rename all the files \n",
    "            os.rename(src, dst) \n"
   ]
  },
  {
   "cell_type": "code",
   "execution_count": 4,
   "metadata": {},
   "outputs": [
    {
     "data": {
      "text/plain": [
       "['asdfawrfv', 'asdfsdf', 'hjfsdhljdsfhkjl']"
      ]
     },
     "execution_count": 4,
     "metadata": {},
     "output_type": "execute_result"
    }
   ],
   "source": [
    "folders"
   ]
  },
  {
   "cell_type": "code",
   "execution_count": 47,
   "metadata": {},
   "outputs": [],
   "source": [
    "# Driver Code \n",
    "if __name__ == '__main__':\n",
    "    \n",
    "#calling the function\n",
    "    main(root,folders)"
   ]
  },
  {
   "cell_type": "code",
   "execution_count": 57,
   "metadata": {
    "collapsed": true
   },
   "outputs": [
    {
     "data": {
      "text/plain": [
       "['Apple_Black_rot',\n",
       " 'Apple_healthy',\n",
       " 'Apple_rust',\n",
       " 'Apple_scab',\n",
       " 'Cherry_Powdery_mildew',\n",
       " 'Cherry_healthy',\n",
       " 'Corn_Cercospora_leaf_spot',\n",
       " 'Corn_Common_rust',\n",
       " 'Corn_Northern_Leaf_Blight',\n",
       " 'Corn_healthy',\n",
       " 'Grape_Black_Measles',\n",
       " 'Grape_Black_rot',\n",
       " 'Grape_Blight',\n",
       " 'Grape_healthy',\n",
       " 'Peach_Bacterial_spot',\n",
       " 'Peach_healthy',\n",
       " 'Pepper_bell_Bacterial_spot',\n",
       " 'Pepper_bell_healthy',\n",
       " 'Potato_Early_blight',\n",
       " 'Potato_Late_blight',\n",
       " 'Potato_healthy',\n",
       " 'Squash_Powdery_mildew',\n",
       " 'Strawberry_Leaf_scorch',\n",
       " 'Strawberry_healthy',\n",
       " 'Tomato_Bacterial_spot',\n",
       " 'Tomato_Early_blight',\n",
       " 'Tomato_Late_blight',\n",
       " 'Tomato_Mold',\n",
       " 'Tomato_Septoria',\n",
       " 'Tomato_Spider_mites',\n",
       " 'Tomato_Target_Spot',\n",
       " 'Tomato_Tomato_Yellow_Leaf_Curl_Virus',\n",
       " 'Tomato_Tomato_mosaic_virus',\n",
       " 'Tomato_healthy']"
      ]
     },
     "execution_count": 57,
     "metadata": {},
     "output_type": "execute_result"
    }
   ],
   "source": [
    "sorted(os.listdir('Project-Week-8-Final-Project/PlantVillageAUG'))[1:]\n",
    "    "
   ]
  },
  {
   "cell_type": "code",
   "execution_count": null,
   "metadata": {},
   "outputs": [],
   "source": []
  }
 ],
 "metadata": {
  "kernelspec": {
   "display_name": "Python 3",
   "language": "python",
   "name": "python3"
  },
  "language_info": {
   "codemirror_mode": {
    "name": "ipython",
    "version": 3
   },
   "file_extension": ".py",
   "mimetype": "text/x-python",
   "name": "python",
   "nbconvert_exporter": "python",
   "pygments_lexer": "ipython3",
   "version": "3.6.10"
  },
  "toc": {
   "base_numbering": 1,
   "nav_menu": {},
   "number_sections": true,
   "sideBar": true,
   "skip_h1_title": false,
   "title_cell": "Table of Contents",
   "title_sidebar": "Contents",
   "toc_cell": false,
   "toc_position": {},
   "toc_section_display": true,
   "toc_window_display": true
  }
 },
 "nbformat": 4,
 "nbformat_minor": 4
}
