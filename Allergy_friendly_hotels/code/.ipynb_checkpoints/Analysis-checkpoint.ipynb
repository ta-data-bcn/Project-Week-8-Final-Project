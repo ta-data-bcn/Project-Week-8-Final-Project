{
 "cells": [
  {
   "cell_type": "code",
   "execution_count": 1,
   "metadata": {},
   "outputs": [],
   "source": [
    "import pandas as pd\n",
    "import numpy as np\n",
    "import matplotlib.pyplot as plt\n",
    "import seaborn as sns\n",
    "import scipy.stats as stats"
   ]
  },
  {
   "cell_type": "code",
   "execution_count": 2,
   "metadata": {},
   "outputs": [],
   "source": [
    "data=pd.read_csv('../data/booking_pets_data_with_rome.csv')"
   ]
  },
  {
   "cell_type": "code",
   "execution_count": 3,
   "metadata": {},
   "outputs": [
    {
     "data": {
      "text/html": [
       "<div>\n",
       "<style scoped>\n",
       "    .dataframe tbody tr th:only-of-type {\n",
       "        vertical-align: middle;\n",
       "    }\n",
       "\n",
       "    .dataframe tbody tr th {\n",
       "        vertical-align: top;\n",
       "    }\n",
       "\n",
       "    .dataframe thead th {\n",
       "        text-align: right;\n",
       "    }\n",
       "</style>\n",
       "<table border=\"1\" class=\"dataframe\">\n",
       "  <thead>\n",
       "    <tr style=\"text-align: right;\">\n",
       "      <th></th>\n",
       "      <th>Unnamed: 0</th>\n",
       "      <th>City</th>\n",
       "      <th>Name</th>\n",
       "      <th>Score</th>\n",
       "      <th>Price</th>\n",
       "      <th>Pets</th>\n",
       "      <th>Link</th>\n",
       "    </tr>\n",
       "  </thead>\n",
       "  <tbody>\n",
       "    <tr>\n",
       "      <th>0</th>\n",
       "      <td>0</td>\n",
       "      <td>Barcelona</td>\n",
       "      <td>El Avenida Palace</td>\n",
       "      <td>8.8</td>\n",
       "      <td>111</td>\n",
       "      <td>Pets are allowed. Charges may be applicable.</td>\n",
       "      <td>https://www.booking.com/hotel/es/w-barcelona.e...</td>\n",
       "    </tr>\n",
       "    <tr>\n",
       "      <th>1</th>\n",
       "      <td>1</td>\n",
       "      <td>Barcelona</td>\n",
       "      <td>W Barcelona</td>\n",
       "      <td>8.5</td>\n",
       "      <td>256</td>\n",
       "      <td>Pets are not allowed.</td>\n",
       "      <td>https://www.booking.com/hotel/es/negresco-prin...</td>\n",
       "    </tr>\n",
       "    <tr>\n",
       "      <th>2</th>\n",
       "      <td>2</td>\n",
       "      <td>Barcelona</td>\n",
       "      <td>Negresco Princess 4* Sup</td>\n",
       "      <td>8.3</td>\n",
       "      <td>77</td>\n",
       "      <td>Pets are not allowed.</td>\n",
       "      <td>https://www.booking.com/hotel/es/h10-cubik.en-...</td>\n",
       "    </tr>\n",
       "    <tr>\n",
       "      <th>3</th>\n",
       "      <td>3</td>\n",
       "      <td>Barcelona</td>\n",
       "      <td>Novotel Barcelona City</td>\n",
       "      <td>8.3</td>\n",
       "      <td>69</td>\n",
       "      <td>Free!\\nPets are allowed on request. No extra c...</td>\n",
       "      <td>https://www.booking.com/hotel/es/avenidapalace...</td>\n",
       "    </tr>\n",
       "    <tr>\n",
       "      <th>4</th>\n",
       "      <td>4</td>\n",
       "      <td>Barcelona</td>\n",
       "      <td>Ayre Hotel Rosellón</td>\n",
       "      <td>8.8</td>\n",
       "      <td>74</td>\n",
       "      <td>Pets are allowed on request. Charges may be ap...</td>\n",
       "      <td>https://www.booking.com/hotel/es/diagonal-zero...</td>\n",
       "    </tr>\n",
       "  </tbody>\n",
       "</table>\n",
       "</div>"
      ],
      "text/plain": [
       "   Unnamed: 0       City                      Name  Score  Price  \\\n",
       "0           0  Barcelona         El Avenida Palace    8.8    111   \n",
       "1           1  Barcelona               W Barcelona    8.5    256   \n",
       "2           2  Barcelona  Negresco Princess 4* Sup    8.3     77   \n",
       "3           3  Barcelona    Novotel Barcelona City    8.3     69   \n",
       "4           4  Barcelona       Ayre Hotel Rosellón    8.8     74   \n",
       "\n",
       "                                                Pets  \\\n",
       "0       Pets are allowed. Charges may be applicable.   \n",
       "1                              Pets are not allowed.   \n",
       "2                              Pets are not allowed.   \n",
       "3  Free!\\nPets are allowed on request. No extra c...   \n",
       "4  Pets are allowed on request. Charges may be ap...   \n",
       "\n",
       "                                                Link  \n",
       "0  https://www.booking.com/hotel/es/w-barcelona.e...  \n",
       "1  https://www.booking.com/hotel/es/negresco-prin...  \n",
       "2  https://www.booking.com/hotel/es/h10-cubik.en-...  \n",
       "3  https://www.booking.com/hotel/es/avenidapalace...  \n",
       "4  https://www.booking.com/hotel/es/diagonal-zero...  "
      ]
     },
     "execution_count": 3,
     "metadata": {},
     "output_type": "execute_result"
    }
   ],
   "source": [
    "data.head()"
   ]
  },
  {
   "cell_type": "code",
   "execution_count": 4,
   "metadata": {},
   "outputs": [
    {
     "data": {
      "text/plain": [
       "2375"
      ]
     },
     "execution_count": 4,
     "metadata": {},
     "output_type": "execute_result"
    }
   ],
   "source": [
    "len(data)"
   ]
  },
  {
   "cell_type": "code",
   "execution_count": 5,
   "metadata": {},
   "outputs": [],
   "source": [
    "data.drop(['Unnamed: 0'],axis=1, inplace=True)"
   ]
  },
  {
   "cell_type": "code",
   "execution_count": 6,
   "metadata": {},
   "outputs": [
    {
     "data": {
      "text/html": [
       "<div>\n",
       "<style scoped>\n",
       "    .dataframe tbody tr th:only-of-type {\n",
       "        vertical-align: middle;\n",
       "    }\n",
       "\n",
       "    .dataframe tbody tr th {\n",
       "        vertical-align: top;\n",
       "    }\n",
       "\n",
       "    .dataframe thead th {\n",
       "        text-align: right;\n",
       "    }\n",
       "</style>\n",
       "<table border=\"1\" class=\"dataframe\">\n",
       "  <thead>\n",
       "    <tr style=\"text-align: right;\">\n",
       "      <th></th>\n",
       "      <th>City</th>\n",
       "      <th>Name</th>\n",
       "      <th>Score</th>\n",
       "      <th>Price</th>\n",
       "      <th>Pets</th>\n",
       "      <th>Link</th>\n",
       "    </tr>\n",
       "  </thead>\n",
       "  <tbody>\n",
       "    <tr>\n",
       "      <th>0</th>\n",
       "      <td>Barcelona</td>\n",
       "      <td>El Avenida Palace</td>\n",
       "      <td>8.8</td>\n",
       "      <td>111</td>\n",
       "      <td>Pets are allowed. Charges may be applicable.</td>\n",
       "      <td>https://www.booking.com/hotel/es/w-barcelona.e...</td>\n",
       "    </tr>\n",
       "    <tr>\n",
       "      <th>1</th>\n",
       "      <td>Barcelona</td>\n",
       "      <td>W Barcelona</td>\n",
       "      <td>8.5</td>\n",
       "      <td>256</td>\n",
       "      <td>Pets are not allowed.</td>\n",
       "      <td>https://www.booking.com/hotel/es/negresco-prin...</td>\n",
       "    </tr>\n",
       "    <tr>\n",
       "      <th>2</th>\n",
       "      <td>Barcelona</td>\n",
       "      <td>Negresco Princess 4* Sup</td>\n",
       "      <td>8.3</td>\n",
       "      <td>77</td>\n",
       "      <td>Pets are not allowed.</td>\n",
       "      <td>https://www.booking.com/hotel/es/h10-cubik.en-...</td>\n",
       "    </tr>\n",
       "    <tr>\n",
       "      <th>3</th>\n",
       "      <td>Barcelona</td>\n",
       "      <td>Novotel Barcelona City</td>\n",
       "      <td>8.3</td>\n",
       "      <td>69</td>\n",
       "      <td>Free!\\nPets are allowed on request. No extra c...</td>\n",
       "      <td>https://www.booking.com/hotel/es/avenidapalace...</td>\n",
       "    </tr>\n",
       "    <tr>\n",
       "      <th>4</th>\n",
       "      <td>Barcelona</td>\n",
       "      <td>Ayre Hotel Rosellón</td>\n",
       "      <td>8.8</td>\n",
       "      <td>74</td>\n",
       "      <td>Pets are allowed on request. Charges may be ap...</td>\n",
       "      <td>https://www.booking.com/hotel/es/diagonal-zero...</td>\n",
       "    </tr>\n",
       "  </tbody>\n",
       "</table>\n",
       "</div>"
      ],
      "text/plain": [
       "        City                      Name  Score  Price  \\\n",
       "0  Barcelona         El Avenida Palace    8.8    111   \n",
       "1  Barcelona               W Barcelona    8.5    256   \n",
       "2  Barcelona  Negresco Princess 4* Sup    8.3     77   \n",
       "3  Barcelona    Novotel Barcelona City    8.3     69   \n",
       "4  Barcelona       Ayre Hotel Rosellón    8.8     74   \n",
       "\n",
       "                                                Pets  \\\n",
       "0       Pets are allowed. Charges may be applicable.   \n",
       "1                              Pets are not allowed.   \n",
       "2                              Pets are not allowed.   \n",
       "3  Free!\\nPets are allowed on request. No extra c...   \n",
       "4  Pets are allowed on request. Charges may be ap...   \n",
       "\n",
       "                                                Link  \n",
       "0  https://www.booking.com/hotel/es/w-barcelona.e...  \n",
       "1  https://www.booking.com/hotel/es/negresco-prin...  \n",
       "2  https://www.booking.com/hotel/es/h10-cubik.en-...  \n",
       "3  https://www.booking.com/hotel/es/avenidapalace...  \n",
       "4  https://www.booking.com/hotel/es/diagonal-zero...  "
      ]
     },
     "execution_count": 6,
     "metadata": {},
     "output_type": "execute_result"
    }
   ],
   "source": [
    "data.head()"
   ]
  },
  {
   "cell_type": "code",
   "execution_count": 10,
   "metadata": {},
   "outputs": [
    {
     "data": {
      "text/plain": [
       "array([111, 256,  77,  69,  74, 137,  92,  90,  82, 132, 134,  62, 302,\n",
       "       139,  63,  79,  93, 181, 234, 100, 145,  66,  87, 220, 143,  56,\n",
       "        94, 119,  67, 140,  73, 102, 122, 160, 354,  55,  76,  85,  80,\n",
       "       106,  61, 121,  96, 136, 101,  91, 214,  97,  83,  65,  78,  70,\n",
       "        75, 109, 172, 264, 114,  98, 414, 178,  60, 200, 159,  71, 151,\n",
       "        81, 340, 107,  46,  58, 150, 125, 325, 225, 103, 110,  88,  99,\n",
       "       126,  51, 142, 116,  53, 265, 123,  52, 105, 117, 161,  95,  84,\n",
       "        57,  86,  49,  31, 112, 194,  37, 173, 113, 310, 379,  43,  72,\n",
       "        48,  50, 115,  68, 230, 147, 282,  54, 187, 806, 118,  30, 239,\n",
       "       166, 128, 576, 184, 133, 182, 320, 255, 170, 275, 144, 131, 486,\n",
       "       335, 179, 245, 186, 155, 209,   1,  45, 278, 124,  44, 191, 193,\n",
       "       120, 270, 535, 154, 227, 440, 162, 241,  41, 180, 285, 149, 183,\n",
       "       130, 696,  89, 235, 210,  36, 104, 211, 175, 199, 207, 165, 158,\n",
       "       306, 148,  59, 127, 204, 146, 206, 371, 444, 192, 156, 261, 169,\n",
       "       419, 675, 314, 108, 280, 164, 208, 512, 141, 263, 196, 538, 356,\n",
       "       751, 218, 405, 201, 250, 176, 188, 203, 304, 324, 571, 185, 177,\n",
       "       288, 773, 262, 219, 195, 299, 205, 330, 138, 157, 351, 135, 291,\n",
       "       224, 222, 984, 226, 240, 228, 274, 293, 328, 364, 705, 153, 152,\n",
       "        64,  24, 594, 129,  39, 289, 454,  34, 319,  42, 290,  40,  33,\n",
       "       247,  26,  20, 244, 213,  19,  35,  47,  18, 398,  27, 229, 259,\n",
       "        38,  28, 268,  21, 409,  29,  32, 202, 215,  25, 660, 266, 945,\n",
       "       348, 396, 568, 368, 428, 251, 558, 323, 316, 438, 311, 408, 960,\n",
       "       267, 322, 980, 369, 197, 741, 431, 167, 483, 458, 411, 383, 258,\n",
       "       338, 413, 424, 307, 688, 163, 171, 286, 269, 238, 492, 253, 367,\n",
       "       683, 243, 276, 236, 252, 317, 422, 174, 231, 460, 760, 168, 189,\n",
       "       246, 418, 273, 606, 448, 216, 233, 358, 303, 421, 217, 378, 271,\n",
       "       249, 254, 321, 518, 248, 292, 402, 313, 514, 392, 410, 629, 407,\n",
       "       315, 327, 223, 602, 480, 294, 337, 394, 237, 657, 406, 277])"
      ]
     },
     "execution_count": 10,
     "metadata": {},
     "output_type": "execute_result"
    }
   ],
   "source": [
    "# Looking for unreal values. Room rate can not be equal to 1.\n",
    "data['Price'].unique()"
   ]
  },
  {
   "cell_type": "code",
   "execution_count": 11,
   "metadata": {},
   "outputs": [],
   "source": [
    "#droping rows = 1\n",
    "data =data[data['Price'] !=1]"
   ]
  },
  {
   "cell_type": "code",
   "execution_count": 16,
   "metadata": {},
   "outputs": [
    {
     "data": {
      "text/plain": [
       "Text(0, 0.5, 'Ammount')"
      ]
     },
     "execution_count": 16,
     "metadata": {},
     "output_type": "execute_result"
    },
    {
     "data": {
      "image/png": "[encoded data removed]",
      "text/plain": [
       "<Figure size 576x576 with 1 Axes>"
      ]
     },
     "metadata": {
      "needs_background": "light"
     },
     "output_type": "display_data"
    }
   ],
   "source": [
    "# After cleaning data contains 2367 hotels. Rome 496, Paris 495, Lisabon 472, Barcelona 467, Amsterdam 437\n",
    "\n",
    "fig, ax = plt.subplots(figsize=(8,8))\n",
    "sns.countplot(ax=ax, x='City', data=data, palette=\"crest\")\n",
    "plt.title(\"Cities\")\n",
    "plt.xlabel(\"City\")\n",
    "plt.ylabel('Ammount')\n"
   ]
  },
  {
   "cell_type": "code",
   "execution_count": 17,
   "metadata": {},
   "outputs": [],
   "source": [
    "# function to create Pets categories ( Allowed or Not allowed)\n",
    "def pets_category (row):\n",
    "    if row['Pets'] == 'Pets are not allowed.' :\n",
    "        return 'Not allowed'\n",
    "    elif row['Pets'] == 'Free!\\n\\n\\nAll pools are free of charge':\n",
    "        return 'No info'\n",
    "    else:\n",
    "        return 'Allowed'\n",
    "    \n",
    "pets_groups=data.apply (lambda row: pets_category(row), axis=1)\n",
    "data['Pets TF'] = pets_groups"
   ]
  },
  {
   "cell_type": "code",
   "execution_count": 18,
   "metadata": {},
   "outputs": [
    {
     "data": {
      "text/html": [
       "<div>\n",
       "<style scoped>\n",
       "    .dataframe tbody tr th:only-of-type {\n",
       "        vertical-align: middle;\n",
       "    }\n",
       "\n",
       "    .dataframe tbody tr th {\n",
       "        vertical-align: top;\n",
       "    }\n",
       "\n",
       "    .dataframe thead th {\n",
       "        text-align: right;\n",
       "    }\n",
       "</style>\n",
       "<table border=\"1\" class=\"dataframe\">\n",
       "  <thead>\n",
       "    <tr style=\"text-align: right;\">\n",
       "      <th></th>\n",
       "      <th>City</th>\n",
       "      <th>Name</th>\n",
       "      <th>Score</th>\n",
       "      <th>Price</th>\n",
       "      <th>Pets</th>\n",
       "      <th>Link</th>\n",
       "      <th>Pets TF</th>\n",
       "    </tr>\n",
       "  </thead>\n",
       "  <tbody>\n",
       "    <tr>\n",
       "      <th>0</th>\n",
       "      <td>Barcelona</td>\n",
       "      <td>El Avenida Palace</td>\n",
       "      <td>8.8</td>\n",
       "      <td>111</td>\n",
       "      <td>Pets are allowed. Charges may be applicable.</td>\n",
       "      <td>https://www.booking.com/hotel/es/w-barcelona.e...</td>\n",
       "      <td>Allowed</td>\n",
       "    </tr>\n",
       "    <tr>\n",
       "      <th>1</th>\n",
       "      <td>Barcelona</td>\n",
       "      <td>W Barcelona</td>\n",
       "      <td>8.5</td>\n",
       "      <td>256</td>\n",
       "      <td>Pets are not allowed.</td>\n",
       "      <td>https://www.booking.com/hotel/es/negresco-prin...</td>\n",
       "      <td>Not allowed</td>\n",
       "    </tr>\n",
       "    <tr>\n",
       "      <th>2</th>\n",
       "      <td>Barcelona</td>\n",
       "      <td>Negresco Princess 4* Sup</td>\n",
       "      <td>8.3</td>\n",
       "      <td>77</td>\n",
       "      <td>Pets are not allowed.</td>\n",
       "      <td>https://www.booking.com/hotel/es/h10-cubik.en-...</td>\n",
       "      <td>Not allowed</td>\n",
       "    </tr>\n",
       "    <tr>\n",
       "      <th>3</th>\n",
       "      <td>Barcelona</td>\n",
       "      <td>Novotel Barcelona City</td>\n",
       "      <td>8.3</td>\n",
       "      <td>69</td>\n",
       "      <td>Free!\\nPets are allowed on request. No extra c...</td>\n",
       "      <td>https://www.booking.com/hotel/es/avenidapalace...</td>\n",
       "      <td>Allowed</td>\n",
       "    </tr>\n",
       "    <tr>\n",
       "      <th>4</th>\n",
       "      <td>Barcelona</td>\n",
       "      <td>Ayre Hotel Rosellón</td>\n",
       "      <td>8.8</td>\n",
       "      <td>74</td>\n",
       "      <td>Pets are allowed on request. Charges may be ap...</td>\n",
       "      <td>https://www.booking.com/hotel/es/diagonal-zero...</td>\n",
       "      <td>Allowed</td>\n",
       "    </tr>\n",
       "  </tbody>\n",
       "</table>\n",
       "</div>"
      ],
      "text/plain": [
       "        City                      Name  Score  Price  \\\n",
       "0  Barcelona         El Avenida Palace    8.8    111   \n",
       "1  Barcelona               W Barcelona    8.5    256   \n",
       "2  Barcelona  Negresco Princess 4* Sup    8.3     77   \n",
       "3  Barcelona    Novotel Barcelona City    8.3     69   \n",
       "4  Barcelona       Ayre Hotel Rosellón    8.8     74   \n",
       "\n",
       "                                                Pets  \\\n",
       "0       Pets are allowed. Charges may be applicable.   \n",
       "1                              Pets are not allowed.   \n",
       "2                              Pets are not allowed.   \n",
       "3  Free!\\nPets are allowed on request. No extra c...   \n",
       "4  Pets are allowed on request. Charges may be ap...   \n",
       "\n",
       "                                                Link      Pets TF  \n",
       "0  https://www.booking.com/hotel/es/w-barcelona.e...      Allowed  \n",
       "1  https://www.booking.com/hotel/es/negresco-prin...  Not allowed  \n",
       "2  https://www.booking.com/hotel/es/h10-cubik.en-...  Not allowed  \n",
       "3  https://www.booking.com/hotel/es/avenidapalace...      Allowed  \n",
       "4  https://www.booking.com/hotel/es/diagonal-zero...      Allowed  "
      ]
     },
     "execution_count": 18,
     "metadata": {},
     "output_type": "execute_result"
    }
   ],
   "source": [
    "data.head()"
   ]
  },
  {
   "cell_type": "code",
   "execution_count": 19,
   "metadata": {},
   "outputs": [],
   "source": [
    "#cleaning data after creating pets categories\n",
    "data.drop(['Pets'],axis=1, inplace=True)\n",
    "data.rename(columns={'Pets TF':'Pets'},inplace = True)\n",
    "data = data[['City','Name', 'Score', 'Price', 'Pets', 'Link']]"
   ]
  },
  {
   "cell_type": "code",
   "execution_count": 20,
   "metadata": {},
   "outputs": [
    {
     "data": {
      "text/html": [
       "<div>\n",
       "<style scoped>\n",
       "    .dataframe tbody tr th:only-of-type {\n",
       "        vertical-align: middle;\n",
       "    }\n",
       "\n",
       "    .dataframe tbody tr th {\n",
       "        vertical-align: top;\n",
       "    }\n",
       "\n",
       "    .dataframe thead th {\n",
       "        text-align: right;\n",
       "    }\n",
       "</style>\n",
       "<table border=\"1\" class=\"dataframe\">\n",
       "  <thead>\n",
       "    <tr style=\"text-align: right;\">\n",
       "      <th></th>\n",
       "      <th>City</th>\n",
       "      <th>Name</th>\n",
       "      <th>Score</th>\n",
       "      <th>Price</th>\n",
       "      <th>Pets</th>\n",
       "      <th>Link</th>\n",
       "    </tr>\n",
       "  </thead>\n",
       "  <tbody>\n",
       "    <tr>\n",
       "      <th>0</th>\n",
       "      <td>Barcelona</td>\n",
       "      <td>El Avenida Palace</td>\n",
       "      <td>8.8</td>\n",
       "      <td>111</td>\n",
       "      <td>Allowed</td>\n",
       "      <td>https://www.booking.com/hotel/es/w-barcelona.e...</td>\n",
       "    </tr>\n",
       "    <tr>\n",
       "      <th>1</th>\n",
       "      <td>Barcelona</td>\n",
       "      <td>W Barcelona</td>\n",
       "      <td>8.5</td>\n",
       "      <td>256</td>\n",
       "      <td>Not allowed</td>\n",
       "      <td>https://www.booking.com/hotel/es/negresco-prin...</td>\n",
       "    </tr>\n",
       "    <tr>\n",
       "      <th>2</th>\n",
       "      <td>Barcelona</td>\n",
       "      <td>Negresco Princess 4* Sup</td>\n",
       "      <td>8.3</td>\n",
       "      <td>77</td>\n",
       "      <td>Not allowed</td>\n",
       "      <td>https://www.booking.com/hotel/es/h10-cubik.en-...</td>\n",
       "    </tr>\n",
       "    <tr>\n",
       "      <th>3</th>\n",
       "      <td>Barcelona</td>\n",
       "      <td>Novotel Barcelona City</td>\n",
       "      <td>8.3</td>\n",
       "      <td>69</td>\n",
       "      <td>Allowed</td>\n",
       "      <td>https://www.booking.com/hotel/es/avenidapalace...</td>\n",
       "    </tr>\n",
       "    <tr>\n",
       "      <th>4</th>\n",
       "      <td>Barcelona</td>\n",
       "      <td>Ayre Hotel Rosellón</td>\n",
       "      <td>8.8</td>\n",
       "      <td>74</td>\n",
       "      <td>Allowed</td>\n",
       "      <td>https://www.booking.com/hotel/es/diagonal-zero...</td>\n",
       "    </tr>\n",
       "  </tbody>\n",
       "</table>\n",
       "</div>"
      ],
      "text/plain": [
       "        City                      Name  Score  Price         Pets  \\\n",
       "0  Barcelona         El Avenida Palace    8.8    111      Allowed   \n",
       "1  Barcelona               W Barcelona    8.5    256  Not allowed   \n",
       "2  Barcelona  Negresco Princess 4* Sup    8.3     77  Not allowed   \n",
       "3  Barcelona    Novotel Barcelona City    8.3     69      Allowed   \n",
       "4  Barcelona       Ayre Hotel Rosellón    8.8     74      Allowed   \n",
       "\n",
       "                                                Link  \n",
       "0  https://www.booking.com/hotel/es/w-barcelona.e...  \n",
       "1  https://www.booking.com/hotel/es/negresco-prin...  \n",
       "2  https://www.booking.com/hotel/es/h10-cubik.en-...  \n",
       "3  https://www.booking.com/hotel/es/avenidapalace...  \n",
       "4  https://www.booking.com/hotel/es/diagonal-zero...  "
      ]
     },
     "execution_count": 20,
     "metadata": {},
     "output_type": "execute_result"
    }
   ],
   "source": [
    "data.head()"
   ]
  },
  {
   "cell_type": "code",
   "execution_count": 14,
   "metadata": {},
   "outputs": [
    {
     "data": {
      "text/plain": [
       "Text(0, 0.5, 'Ammount')"
      ]
     },
     "execution_count": 14,
     "metadata": {},
     "output_type": "execute_result"
    },
    {
     "data": {
      "image/png": "[encoded data removed]",
      "text/plain": [
       "<Figure size 360x576 with 1 Axes>"
      ]
     },
     "metadata": {
      "needs_background": "light"
     },
     "output_type": "display_data"
    }
   ],
   "source": [
    "# There are 1430 hotels of the category 'Pets not allowed'\n",
    "# 918 \"Allowed\"\n",
    "# 19 there is no info about pets\n",
    "fig, ax = plt.subplots(figsize=(5,8))\n",
    "sns.countplot(ax=ax, x='Pets', data=data, palette=\"crest\")\n",
    "plt.title(\"No pets Hotels\")\n",
    "plt.xlabel(\"Hotels\")\n",
    "plt.ylabel('Ammount')"
   ]
  },
  {
   "cell_type": "code",
   "execution_count": 26,
   "metadata": {},
   "outputs": [],
   "source": [
    "# Choosing palette\n",
    "sns.set_palette(\"crest\")\n",
    "pets_palette = {\"Allowed\": \"C5\", \"No info\":\"C2\", \"Not allowed\":\"C0\"}"
   ]
  },
  {
   "cell_type": "code",
   "execution_count": 42,
   "metadata": {},
   "outputs": [
    {
     "data": {
      "text/plain": [
       "Text(0, 0.5, 'Ammount')"
      ]
     },
     "execution_count": 42,
     "metadata": {},
     "output_type": "execute_result"
    },
    {
     "data": {
      "image/png": "[encoded data removed]",
      "text/plain": [
       "<Figure size 1080x432 with 1 Axes>"
      ]
     },
     "metadata": {
      "needs_background": "light"
     },
     "output_type": "display_data"
    }
   ],
   "source": [
    "\"\"\" Amount of hotels by city that allow and do not allow acomandation with pets\n",
    "Amsterdam: Not allowed - 307, Allowed - 130\n",
    "Barcelona: Not allowed - 293, Allowed - 1\n",
    "Lisabon: Not allowed - 415, Allowed - 57\n",
    "Paris: Not allowed - 178, Allowed - 317\n",
    "Rome: Not allowed - 259, Allowed - 237\n",
    "\"\"\"\n",
    "city_pets=data.groupby(['City', 'Pets'])['Price'].count().reset_index()\n",
    "\n",
    "plt.figure(figsize=(15,6))\n",
    "sns.barplot(x='City', y='Price', hue='Pets', data=city_pets, palette=pets_palette)\n",
    "plt.title(\"No pets Hotels\")\n",
    "plt.xlabel(\"Hotels\")\n",
    "plt.ylabel('Ammount')"
   ]
  },
  {
   "cell_type": "code",
   "execution_count": 43,
   "metadata": {},
   "outputs": [
    {
     "data": {
      "text/plain": [
       "Text(0.5, 1.0, 'No pets Hotels')"
      ]
     },
     "execution_count": 43,
     "metadata": {},
     "output_type": "execute_result"
    },
    {
     "data": {
      "image/png": "[encoded data removed]",
      "text/plain": [
       "<Figure size 1080x432 with 1 Axes>"
      ]
     },
     "metadata": {
      "needs_background": "light"
     },
     "output_type": "display_data"
    }
   ],
   "source": [
    "\"\"\" % of hotels by city that allow and do not allow acomandation with pets\n",
    "Amsterdam: Not allowed - 70% , Allowed - 30%\n",
    "Barcelona: Not allowed - 63%, Allowed - 33%, No info - 4%\n",
    "Lisabon: Not allowed - 88%, Allowed - 12%\n",
    "Paris: Not allowed - 36%, Allowed - 64%\n",
    "Rome: Not allowed - 48%, Allowed - 52%\n",
    "\"\"\"\n",
    "city_pets=data.groupby(['City', 'Pets'])['Price'].count().reset_index()\n",
    "city_total=data['City'].value_counts().reset_index().rename(columns={'index':'City','City':'Total'})\n",
    "ct=city_pets.merge(right=city_total, how=\"left\",left_on=\"City\", right_on=\"City\")\n",
    "\n",
    "ct.rename(columns={'Price':'Amount'},inplace = True)\n",
    "\n",
    "percents_city=round(ct['Amount']*100/ct['Total'])\n",
    "ct['%'] = percents_city\n",
    "fig_city, ax_city=plt.subplots(figsize=(15,6))\n",
    "sns.barplot(ax=ax_city, x='City', y='%', hue='Pets', data=ct ,palette=pets_palette)\n",
    "plt.title(\"No pets Hotels\")\n"
   ]
  },
  {
   "cell_type": "code",
   "execution_count": 45,
   "metadata": {},
   "outputs": [],
   "source": [
    "# Preparing data to create Price categories\n",
    "price=data.groupby(['City', 'Pets'])['Price'].mean()\n",
    "price=data['Price'].tolist()\n",
    "df_price= pd.DataFrame(price)\n",
    "names=data['Name'].tolist()\n",
    "df_price['Names'] = names\n",
    "df_price.rename(columns={0:'Price'},inplace = True)"
   ]
  },
  {
   "cell_type": "code",
   "execution_count": 48,
   "metadata": {},
   "outputs": [
    {
     "name": "stderr",
     "output_type": "stream",
     "text": [
      "<ipython-input-48-2d3da8b7bfc8>:11: SettingWithCopyWarning: \n",
      "A value is trying to be set on a copy of a slice from a DataFrame.\n",
      "Try using .loc[row_indexer,col_indexer] = value instead\n",
      "\n",
      "See the caveats in the documentation: https://pandas.pydata.org/pandas-docs/stable/user_guide/indexing.html#returning-a-view-versus-a-copy\n",
      "  data['Price Groups'] = price_groups\n"
     ]
    }
   ],
   "source": [
    "# function to create Price categories ( Cheap, Normal, Expensive)\n",
    "def price_category (row):\n",
    "    if row['Price'] <= 50:\n",
    "        return 'Cheap'\n",
    "    elif row['Price'] >50 and row['Price']<=150:\n",
    "        return 'Normal'\n",
    "    elif row['Price'] >150:\n",
    "        return 'Expensive'\n",
    "    \n",
    "price_groups=df_price.apply (lambda row: price_category(row), axis=1)\n",
    "data['Price Groups'] = price_groups"
   ]
  },
  {
   "cell_type": "code",
   "execution_count": 50,
   "metadata": {},
   "outputs": [
    {
     "data": {
      "text/html": [
       "<div>\n",
       "<style scoped>\n",
       "    .dataframe tbody tr th:only-of-type {\n",
       "        vertical-align: middle;\n",
       "    }\n",
       "\n",
       "    .dataframe tbody tr th {\n",
       "        vertical-align: top;\n",
       "    }\n",
       "\n",
       "    .dataframe thead th {\n",
       "        text-align: right;\n",
       "    }\n",
       "</style>\n",
       "<table border=\"1\" class=\"dataframe\">\n",
       "  <thead>\n",
       "    <tr style=\"text-align: right;\">\n",
       "      <th></th>\n",
       "      <th>City</th>\n",
       "      <th>Name</th>\n",
       "      <th>Score</th>\n",
       "      <th>Price</th>\n",
       "      <th>Pets</th>\n",
       "      <th>Link</th>\n",
       "      <th>Price Groups</th>\n",
       "    </tr>\n",
       "  </thead>\n",
       "  <tbody>\n",
       "    <tr>\n",
       "      <th>0</th>\n",
       "      <td>Barcelona</td>\n",
       "      <td>El Avenida Palace</td>\n",
       "      <td>8.8</td>\n",
       "      <td>111</td>\n",
       "      <td>Allowed</td>\n",
       "      <td>https://www.booking.com/hotel/es/w-barcelona.e...</td>\n",
       "      <td>Normal</td>\n",
       "    </tr>\n",
       "    <tr>\n",
       "      <th>1</th>\n",
       "      <td>Barcelona</td>\n",
       "      <td>W Barcelona</td>\n",
       "      <td>8.5</td>\n",
       "      <td>256</td>\n",
       "      <td>Not allowed</td>\n",
       "      <td>https://www.booking.com/hotel/es/negresco-prin...</td>\n",
       "      <td>Expensive</td>\n",
       "    </tr>\n",
       "    <tr>\n",
       "      <th>2</th>\n",
       "      <td>Barcelona</td>\n",
       "      <td>Negresco Princess 4* Sup</td>\n",
       "      <td>8.3</td>\n",
       "      <td>77</td>\n",
       "      <td>Not allowed</td>\n",
       "      <td>https://www.booking.com/hotel/es/h10-cubik.en-...</td>\n",
       "      <td>Normal</td>\n",
       "    </tr>\n",
       "    <tr>\n",
       "      <th>3</th>\n",
       "      <td>Barcelona</td>\n",
       "      <td>Novotel Barcelona City</td>\n",
       "      <td>8.3</td>\n",
       "      <td>69</td>\n",
       "      <td>Allowed</td>\n",
       "      <td>https://www.booking.com/hotel/es/avenidapalace...</td>\n",
       "      <td>Normal</td>\n",
       "    </tr>\n",
       "    <tr>\n",
       "      <th>4</th>\n",
       "      <td>Barcelona</td>\n",
       "      <td>Ayre Hotel Rosellón</td>\n",
       "      <td>8.8</td>\n",
       "      <td>74</td>\n",
       "      <td>Allowed</td>\n",
       "      <td>https://www.booking.com/hotel/es/diagonal-zero...</td>\n",
       "      <td>Normal</td>\n",
       "    </tr>\n",
       "  </tbody>\n",
       "</table>\n",
       "</div>"
      ],
      "text/plain": [
       "        City                      Name  Score  Price         Pets  \\\n",
       "0  Barcelona         El Avenida Palace    8.8    111      Allowed   \n",
       "1  Barcelona               W Barcelona    8.5    256  Not allowed   \n",
       "2  Barcelona  Negresco Princess 4* Sup    8.3     77  Not allowed   \n",
       "3  Barcelona    Novotel Barcelona City    8.3     69      Allowed   \n",
       "4  Barcelona       Ayre Hotel Rosellón    8.8     74      Allowed   \n",
       "\n",
       "                                                Link Price Groups  \n",
       "0  https://www.booking.com/hotel/es/w-barcelona.e...       Normal  \n",
       "1  https://www.booking.com/hotel/es/negresco-prin...    Expensive  \n",
       "2  https://www.booking.com/hotel/es/h10-cubik.en-...       Normal  \n",
       "3  https://www.booking.com/hotel/es/avenidapalace...       Normal  \n",
       "4  https://www.booking.com/hotel/es/diagonal-zero...       Normal  "
      ]
     },
     "execution_count": 50,
     "metadata": {},
     "output_type": "execute_result"
    }
   ],
   "source": [
    "data.head()"
   ]
  },
  {
   "cell_type": "code",
   "execution_count": 128,
   "metadata": {},
   "outputs": [],
   "source": [
    "#saving data with created categories for further tableau visialization\n",
    "data.to_csv('tableau_data.csv')"
   ]
  },
  {
   "cell_type": "code",
   "execution_count": 51,
   "metadata": {},
   "outputs": [
    {
     "data": {
      "text/plain": [
       "Text(0.5, 1.0, 'Rome')"
      ]
     },
     "execution_count": 51,
     "metadata": {},
     "output_type": "execute_result"
    },
    {
     "data": {
      "image/png": "[encoded data removed]",
      "text/plain": [
       "<Figure size 1800x288 with 5 Axes>"
      ]
     },
     "metadata": {
      "needs_background": "light"
     },
     "output_type": "display_data"
    }
   ],
   "source": [
    "# creating plot to cheack amount of Cheap Normal and Expensive Hotels in each city\n",
    "# Paris has no Cheap hotels that do not allow pets.\n",
    "barcelona=data[data['City']=='Barcelona']\n",
    "amsterdam=data[data['City']=='Amsterdam']\n",
    "lisabon=data[data['City']=='Lisabon']\n",
    "paris=data[data['City']=='Paris']\n",
    "rome=data[data['City']=='Rome']\n",
    "\n",
    "fig1_1, ax1_1 =plt.subplots(1,5,figsize=(25,4))\n",
    "sns.barplot(data=barcelona, x='Price Groups',y='Score', hue='Pets', ax=ax1_1[0],palette=pets_palette)\n",
    "ax1_1[0].set_title(\"Barcelona\")\n",
    "sns.barplot(data=amsterdam, x='Price Groups',y='Score', hue='Pets', ax=ax1_1[1],palette=pets_palette)\n",
    "ax1_1[1].set_title(\"Amsterdam\")\n",
    "sns.barplot(data=lisabon, x='Price Groups',y='Score', hue='Pets', ax=ax1_1[2],palette=pets_palette)\n",
    "ax1_1[2].set_title(\"Lisabon\")\n",
    "sns.barplot(data=paris, x='Price Groups',y='Score', hue='Pets', ax=ax1_1[3],palette=pets_palette)\n",
    "ax1_1[3].set_title(\"Paris\")\n",
    "sns.barplot(data=rome, x='Price Groups',y='Score', hue='Pets', ax=ax1_1[4],palette=pets_palette)\n",
    "ax1_1[4].set_title(\"Rome\")"
   ]
  },
  {
   "cell_type": "code",
   "execution_count": 52,
   "metadata": {},
   "outputs": [
    {
     "data": {
      "text/plain": [
       "281"
      ]
     },
     "execution_count": 52,
     "metadata": {},
     "output_type": "execute_result"
    }
   ],
   "source": [
    "# Creating list of hotels with conditions: no pets, normal price categories, score higher or equal 9\n",
    "me=data[data['Pets']=='Not allowed']\n",
    "me_price=me[me['Price Groups']==\"Normal\"] \n",
    "me_score=me_price[me_price['Score']>=9]\n",
    "len(me_score)"
   ]
  },
  {
   "cell_type": "code",
   "execution_count": 66,
   "metadata": {},
   "outputs": [
    {
     "data": {
      "text/html": [
       "<div>\n",
       "<style scoped>\n",
       "    .dataframe tbody tr th:only-of-type {\n",
       "        vertical-align: middle;\n",
       "    }\n",
       "\n",
       "    .dataframe tbody tr th {\n",
       "        vertical-align: top;\n",
       "    }\n",
       "\n",
       "    .dataframe thead th {\n",
       "        text-align: right;\n",
       "    }\n",
       "</style>\n",
       "<table border=\"1\" class=\"dataframe\">\n",
       "  <thead>\n",
       "    <tr style=\"text-align: right;\">\n",
       "      <th></th>\n",
       "      <th>City</th>\n",
       "      <th>Name</th>\n",
       "      <th>Score</th>\n",
       "      <th>Price</th>\n",
       "      <th>Pets</th>\n",
       "      <th>Link</th>\n",
       "      <th>Price Groups</th>\n",
       "    </tr>\n",
       "  </thead>\n",
       "  <tbody>\n",
       "    <tr>\n",
       "      <th>5</th>\n",
       "      <td>Barcelona</td>\n",
       "      <td>H10 Cubik 4* Sup</td>\n",
       "      <td>9.2</td>\n",
       "      <td>137</td>\n",
       "      <td>Not allowed</td>\n",
       "      <td>https://www.booking.com/hotel/es/ciutat-de-bar...</td>\n",
       "      <td>Normal</td>\n",
       "    </tr>\n",
       "    <tr>\n",
       "      <th>10</th>\n",
       "      <td>Barcelona</td>\n",
       "      <td>H10 Casa Mimosa 4* Sup</td>\n",
       "      <td>9.4</td>\n",
       "      <td>134</td>\n",
       "      <td>Not allowed</td>\n",
       "      <td>https://www.booking.com/hotel/es/h10-casa-mimo...</td>\n",
       "      <td>Normal</td>\n",
       "    </tr>\n",
       "    <tr>\n",
       "      <th>28</th>\n",
       "      <td>Barcelona</td>\n",
       "      <td>Yurbban Passage Hotel &amp; Spa</td>\n",
       "      <td>9.3</td>\n",
       "      <td>143</td>\n",
       "      <td>Not allowed</td>\n",
       "      <td>https://www.booking.com/hotel/es/ciutat-de-bar...</td>\n",
       "      <td>Normal</td>\n",
       "    </tr>\n",
       "    <tr>\n",
       "      <th>32</th>\n",
       "      <td>Barcelona</td>\n",
       "      <td>Midtown Apartments</td>\n",
       "      <td>9.5</td>\n",
       "      <td>119</td>\n",
       "      <td>Not allowed</td>\n",
       "      <td>https://www.booking.com/hotel/es/ohla.en-gb.html</td>\n",
       "      <td>Normal</td>\n",
       "    </tr>\n",
       "    <tr>\n",
       "      <th>37</th>\n",
       "      <td>Barcelona</td>\n",
       "      <td>Hotel Casa Luz</td>\n",
       "      <td>9.4</td>\n",
       "      <td>73</td>\n",
       "      <td>Not allowed</td>\n",
       "      <td>https://www.booking.com/hotel/es/wilson.en-gb....</td>\n",
       "      <td>Normal</td>\n",
       "    </tr>\n",
       "    <tr>\n",
       "      <th>...</th>\n",
       "      <td>...</td>\n",
       "      <td>...</td>\n",
       "      <td>...</td>\n",
       "      <td>...</td>\n",
       "      <td>...</td>\n",
       "      <td>...</td>\n",
       "      <td>...</td>\n",
       "    </tr>\n",
       "    <tr>\n",
       "      <th>2347</th>\n",
       "      <td>Rome</td>\n",
       "      <td>Latte &amp; Biscotti</td>\n",
       "      <td>9.3</td>\n",
       "      <td>158</td>\n",
       "      <td>Not allowed</td>\n",
       "      <td>https://www.booking.com/hotel/it/residenza-pao...</td>\n",
       "      <td>Normal</td>\n",
       "    </tr>\n",
       "    <tr>\n",
       "      <th>2350</th>\n",
       "      <td>Rome</td>\n",
       "      <td>Vinci House</td>\n",
       "      <td>9.6</td>\n",
       "      <td>150</td>\n",
       "      <td>Not allowed</td>\n",
       "      <td>https://www.booking.com/hotel/it/mia-suites.en...</td>\n",
       "      <td>Normal</td>\n",
       "    </tr>\n",
       "    <tr>\n",
       "      <th>2353</th>\n",
       "      <td>Rome</td>\n",
       "      <td>Residenza Alexander Guest House</td>\n",
       "      <td>9.6</td>\n",
       "      <td>84</td>\n",
       "      <td>Not allowed</td>\n",
       "      <td>https://www.booking.com/hotel/it/condotti.en-g...</td>\n",
       "      <td>Normal</td>\n",
       "    </tr>\n",
       "    <tr>\n",
       "      <th>2356</th>\n",
       "      <td>Rome</td>\n",
       "      <td>Felikshouse</td>\n",
       "      <td>9.4</td>\n",
       "      <td>85</td>\n",
       "      <td>Not allowed</td>\n",
       "      <td>https://www.booking.com/hotel/it/borgo-pio-200...</td>\n",
       "      <td>Normal</td>\n",
       "    </tr>\n",
       "    <tr>\n",
       "      <th>2363</th>\n",
       "      <td>Rome</td>\n",
       "      <td>Aurora Luxury Suites</td>\n",
       "      <td>9.0</td>\n",
       "      <td>277</td>\n",
       "      <td>Not allowed</td>\n",
       "      <td>https://www.booking.com/hotel/it/genova-roma.e...</td>\n",
       "      <td>Normal</td>\n",
       "    </tr>\n",
       "  </tbody>\n",
       "</table>\n",
       "<p>281 rows × 7 columns</p>\n",
       "</div>"
      ],
      "text/plain": [
       "           City                             Name  Score  Price         Pets  \\\n",
       "5     Barcelona                 H10 Cubik 4* Sup    9.2    137  Not allowed   \n",
       "10    Barcelona           H10 Casa Mimosa 4* Sup    9.4    134  Not allowed   \n",
       "28    Barcelona      Yurbban Passage Hotel & Spa    9.3    143  Not allowed   \n",
       "32    Barcelona               Midtown Apartments    9.5    119  Not allowed   \n",
       "37    Barcelona                   Hotel Casa Luz    9.4     73  Not allowed   \n",
       "...         ...                              ...    ...    ...          ...   \n",
       "2347       Rome                 Latte & Biscotti    9.3    158  Not allowed   \n",
       "2350       Rome                      Vinci House    9.6    150  Not allowed   \n",
       "2353       Rome  Residenza Alexander Guest House    9.6     84  Not allowed   \n",
       "2356       Rome                      Felikshouse    9.4     85  Not allowed   \n",
       "2363       Rome             Aurora Luxury Suites    9.0    277  Not allowed   \n",
       "\n",
       "                                                   Link Price Groups  \n",
       "5     https://www.booking.com/hotel/es/ciutat-de-bar...       Normal  \n",
       "10    https://www.booking.com/hotel/es/h10-casa-mimo...       Normal  \n",
       "28    https://www.booking.com/hotel/es/ciutat-de-bar...       Normal  \n",
       "32     https://www.booking.com/hotel/es/ohla.en-gb.html       Normal  \n",
       "37    https://www.booking.com/hotel/es/wilson.en-gb....       Normal  \n",
       "...                                                 ...          ...  \n",
       "2347  https://www.booking.com/hotel/it/residenza-pao...       Normal  \n",
       "2350  https://www.booking.com/hotel/it/mia-suites.en...       Normal  \n",
       "2353  https://www.booking.com/hotel/it/condotti.en-g...       Normal  \n",
       "2356  https://www.booking.com/hotel/it/borgo-pio-200...       Normal  \n",
       "2363  https://www.booking.com/hotel/it/genova-roma.e...       Normal  \n",
       "\n",
       "[281 rows x 7 columns]"
      ]
     },
     "execution_count": 66,
     "metadata": {},
     "output_type": "execute_result"
    }
   ],
   "source": [
    "me_score"
   ]
  },
  {
   "cell_type": "code",
   "execution_count": 133,
   "metadata": {},
   "outputs": [
    {
     "data": {
      "text/plain": [
       "Text(0, 0.5, 'Ammount')"
      ]
     },
     "execution_count": 133,
     "metadata": {},
     "output_type": "execute_result"
    },
    {
     "data": {
      "image/png": "[encoded data removed]",
      "text/plain": [
       "<Figure size 1080x432 with 1 Axes>"
      ]
     },
     "metadata": {
      "needs_background": "light"
     },
     "output_type": "display_data"
    }
   ],
   "source": [
    "# There are 281 properties that match all the conditions menshioned above\n",
    "# 98 properties in Lisabon, 94 - Rome, 42 - Amsterdam, 35 - Barcelona and only 12 in Paris\n",
    "plt.figure(figsize=(15,6))\n",
    "sns.barplot(x='City', y='Price', hue='Pets', data=me_score, palette=pets_palette)\n",
    "plt.title(\"Hotels where I can go\")\n",
    "plt.xlabel(\"Hotels\")\n",
    "plt.ylabel('Ammount')"
   ]
  },
  {
   "cell_type": "markdown",
   "metadata": {},
   "source": [
    "# Statistical analysis"
   ]
  },
  {
   "cell_type": "raw",
   "metadata": {},
   "source": [
    "Null hypotesis. Price of \"No pets\" hotels is equal to \"Pets\" hotels"
   ]
  },
  {
   "cell_type": "code",
   "execution_count": 72,
   "metadata": {},
   "outputs": [],
   "source": [
    "stat_data=data.drop(data[data['Pets']=='No info'].index, inplace=False)"
   ]
  },
  {
   "cell_type": "code",
   "execution_count": 84,
   "metadata": {},
   "outputs": [],
   "source": [
    "allowed=stat_data[stat_data['Pets']==\"Allowed\"]"
   ]
  },
  {
   "cell_type": "code",
   "execution_count": 85,
   "metadata": {},
   "outputs": [],
   "source": [
    "not_allowed=stat_data[stat_data['Pets']==\"Not allowed\"]"
   ]
  },
  {
   "cell_type": "code",
   "execution_count": 82,
   "metadata": {},
   "outputs": [],
   "source": [
    "allowed_price=allowed['Price'].tolist()"
   ]
  },
  {
   "cell_type": "code",
   "execution_count": 81,
   "metadata": {},
   "outputs": [],
   "source": [
    "not_allowed_price=not_allowed['Price'].tolist()"
   ]
  },
  {
   "cell_type": "code",
   "execution_count": 80,
   "metadata": {},
   "outputs": [
    {
     "data": {
      "text/plain": [
       "Ttest_indResult(statistic=3.861751337948566, pvalue=0.00011614515979463996)"
      ]
     },
     "execution_count": 80,
     "metadata": {},
     "output_type": "execute_result"
    }
   ],
   "source": [
    "stats.ttest_ind(allowed_price,not_allowed_price,equal_var=False)"
   ]
  },
  {
   "cell_type": "code",
   "execution_count": 94,
   "metadata": {},
   "outputs": [],
   "source": [
    "price_pets=stat_data.groupby(['Pets'])['Price'].count().reset_index()"
   ]
  },
  {
   "cell_type": "code",
   "execution_count": 98,
   "metadata": {},
   "outputs": [
    {
     "data": {
      "text/plain": [
       "Text(0, 0.5, 'Price')"
      ]
     },
     "execution_count": 98,
     "metadata": {},
     "output_type": "execute_result"
    },
    {
     "data": {
      "image/png": "[encoded data removed]",
      "text/plain": [
       "<Figure size 360x576 with 1 Axes>"
      ]
     },
     "metadata": {
      "needs_background": "light"
     },
     "output_type": "display_data"
    }
   ],
   "source": [
    "fig_stat_price, ax_stat_price = plt.subplots(figsize=(5,8))\n",
    "sns.countplot(ax=ax_stat_price, x='Pets', data=stat_data, palette=\"crest\")\n",
    "plt.title(\"Price samples\")\n",
    "plt.xlabel(\"Hotels\")\n",
    "plt.ylabel('Price')"
   ]
  },
  {
   "cell_type": "raw",
   "metadata": {},
   "source": [
    "This two samples differ statisticly significant. Null hypotesis can be rejected."
   ]
  },
  {
   "cell_type": "raw",
   "metadata": {},
   "source": [
    "Null hypotesis number 2. Score of \"No pets\" hotels is equal to \"Pets\" hotels"
   ]
  },
  {
   "cell_type": "code",
   "execution_count": 86,
   "metadata": {},
   "outputs": [],
   "source": [
    "allowed_score=allowed['Score'].tolist()"
   ]
  },
  {
   "cell_type": "code",
   "execution_count": 88,
   "metadata": {},
   "outputs": [],
   "source": [
    "not_allowed_score=not_allowed['Score'].tolist()"
   ]
  },
  {
   "cell_type": "code",
   "execution_count": 89,
   "metadata": {},
   "outputs": [
    {
     "data": {
      "text/plain": [
       "Ttest_indResult(statistic=2.352520811697907, pvalue=0.018736259300029288)"
      ]
     },
     "execution_count": 89,
     "metadata": {},
     "output_type": "execute_result"
    }
   ],
   "source": [
    "stats.ttest_ind(allowed_score,not_allowed_score,equal_var=False)"
   ]
  },
  {
   "cell_type": "code",
   "execution_count": 99,
   "metadata": {},
   "outputs": [],
   "source": [
    "score_pets=stat_data.groupby(['Pets'])['Score'].count().reset_index()"
   ]
  },
  {
   "cell_type": "code",
   "execution_count": 100,
   "metadata": {},
   "outputs": [
    {
     "data": {
      "text/plain": [
       "Text(0, 0.5, 'Score')"
      ]
     },
     "execution_count": 100,
     "metadata": {},
     "output_type": "execute_result"
    },
    {
     "data": {
      "image/png": "[encoded data removed]",
      "text/plain": [
       "<Figure size 360x576 with 1 Axes>"
      ]
     },
     "metadata": {
      "needs_background": "light"
     },
     "output_type": "display_data"
    }
   ],
   "source": [
    "fig_stat_score, ax_stat_score = plt.subplots(figsize=(5,8))\n",
    "sns.countplot(ax=ax_stat_score, x='Pets', data=stat_data, palette=\"crest\")\n",
    "plt.title(\"Scorw samples\")\n",
    "plt.xlabel(\"Hotels\")\n",
    "plt.ylabel('Score')"
   ]
  },
  {
   "cell_type": "raw",
   "metadata": {},
   "source": [
    "This two samples differ statisticly significant. Null hipotesis number 2 can be rejected."
   ]
  }
 ],
 "metadata": {
  "kernelspec": {
   "display_name": "Python 3",
   "language": "python",
   "name": "python3"
  },
  "language_info": {
   "codemirror_mode": {
    "name": "ipython",
    "version": 3
   },
   "file_extension": ".py",
   "mimetype": "text/x-python",
   "name": "python",
   "nbconvert_exporter": "python",
   "pygments_lexer": "ipython3",
   "version": "3.8.6"
  }
 },
 "nbformat": 4,
 "nbformat_minor": 4
}
