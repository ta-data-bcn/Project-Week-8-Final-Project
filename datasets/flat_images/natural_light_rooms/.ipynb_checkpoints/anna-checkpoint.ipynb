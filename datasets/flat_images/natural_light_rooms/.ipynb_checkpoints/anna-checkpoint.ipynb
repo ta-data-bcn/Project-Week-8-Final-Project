{
 "cells": [
  {
   "cell_type": "code",
   "execution_count": 1,
   "metadata": {},
   "outputs": [],
   "source": [
    "def bright_or_not(img_name):\n",
    "    # returns the fraction of bright pixels\n",
    "    import cv2\n",
    "    import numpy as np\n",
    "    nr_pixels_white = 0\n",
    "    \n",
    "    img = cv2.imread(img_name)\n",
    "    gray = cv2.cvtColor(img,cv2.COLOR_BGR2GRAY)\n",
    "    retval, threshold1 = cv2.threshold(gray, 170, 255, cv2.THRESH_BINARY)\n",
    "    cv2.imshow('title',threshold1)\n",
    "\n",
    "    # set 255 to 1\n",
    "    threshold1[threshold1==255] = 1\n",
    "    nr_pixels_white = threshold1.sum()\n",
    "    nr_pixels    = threshold1.shape[0]*threshold1.shape[1]\n",
    "\n",
    "    brightness = nr_pixels_white / nr_pixels\n",
    "\n",
    "    print(img_name+' Brightness = ' + str(brightness))\n",
    "    \n",
    "    cv2.waitKey()\n",
    "    return brightness\n"
   ]
  },
  {
   "cell_type": "code",
   "execution_count": 2,
   "metadata": {},
   "outputs": [
    {
     "name": "stdout",
     "output_type": "stream",
     "text": [
      "anna.ipynb                 natural_light_room_5.jpeg\r\n",
      "brightness_score.ipynb     natural_light_room_6.jpeg\r\n",
      "natural_light_room_1.jpeg  natural_light_room_7.jpeg\r\n",
      "natural_light_room_10.jpeg natural_light_room_8.jpeg\r\n",
      "natural_light_room_2.jpeg  natural_light_room_9.jpeg\r\n",
      "natural_light_room_4.jpeg\r\n"
     ]
    }
   ],
   "source": [
    "!ls\n"
   ]
  },
  {
   "cell_type": "code",
   "execution_count": null,
   "metadata": {},
   "outputs": [
    {
     "name": "stdout",
     "output_type": "stream",
     "text": [
      "natural_light_room_1.jpeg Brightness = 0.7367847091932458\n"
     ]
    }
   ],
   "source": [
    "files = ['natural_light_room_1.jpeg', 'natural_light_room_2.jpeg', 'natural_light_room_3.jpeg', 'natural_light_room_4.jpeg', 'natural_light_room_5.jpeg', 'natural_light_room_6.jpeg','natural_light_room_7.jpeg', 'natural_light_room_8.jpeg', 'natural_light_room_9.jpeg','natural_light_room_10.jpeg']\n",
    "for file in files:\n",
    "    bright_or_not(file)\n",
    "    input('next?')\n",
    "    \n",
    "\n"
   ]
  },
  {
   "cell_type": "code",
   "execution_count": null,
   "metadata": {},
   "outputs": [],
   "source": [
    "#bright_or_not('img.jpg')\n"
   ]
  },
  {
   "cell_type": "code",
   "execution_count": null,
   "metadata": {},
   "outputs": [],
   "source": []
  }
 ],
 "metadata": {
  "kernelspec": {
   "display_name": "Python 3",
   "language": "python",
   "name": "python3"
  },
  "language_info": {
   "codemirror_mode": {
    "name": "ipython",
    "version": 3
   },
   "file_extension": ".py",
   "mimetype": "text/x-python",
   "name": "python",
   "nbconvert_exporter": "python",
   "pygments_lexer": "ipython3",
   "version": "3.8.1"
  }
 },
 "nbformat": 4,
 "nbformat_minor": 2
}
