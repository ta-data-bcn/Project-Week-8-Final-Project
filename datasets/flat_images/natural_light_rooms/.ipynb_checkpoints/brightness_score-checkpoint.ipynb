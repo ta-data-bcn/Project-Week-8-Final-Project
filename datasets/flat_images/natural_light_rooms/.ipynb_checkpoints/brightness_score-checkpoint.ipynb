{
 "cells": [
  {
   "cell_type": "code",
   "execution_count": 8,
   "metadata": {},
   "outputs": [],
   "source": [
    "\n",
    "def bright_or_not(img_name):\n",
    "    # returns the fraction of bright pixels\n",
    "    import cv2\n",
    "    import numpy as np\n",
    "    import pandas as pd\n",
    "    nr_pixels_white = 0\n",
    "    \n",
    "    img = cv2.imread(img_name)\n",
    "    gray = cv2.cvtColor(img,cv2.COLOR_BGR2GRAY)\n",
    "    retval, threshold1 = cv2.threshold(gray, 170, 255, cv2.THRESH_BINARY)\n",
    "    cv2.imshow('title',threshold1)\n",
    "\n",
    "    # set 255 to 1\n",
    "    threshold1[threshold1==255] = 1\n",
    "    nr_pixels_white = threshold1.sum()\n",
    "    nr_pixels    = threshold1.shape[0]*threshold1.shape[1]\n",
    "\n",
    "    brightness = nr_pixels_white / nr_pixels\n",
    "\n",
    "    print(img_name+' Brightness = ' + str(brightness))\n",
    "    \n",
    "    # Establish a dataframe with the values\n",
    "    \n",
    "    df = pd.DataFrame(columns=['file_name', 'brightness_score'])\n",
    "    df = df.append({'file_name':img_name, 'brightness_score':brightness},ignore_index = True)\n",
    "    \n",
    "    cv2.waitKey()\n",
    "    return brightness,df\n"
   ]
  },
  {
   "cell_type": "code",
   "execution_count": null,
   "metadata": {},
   "outputs": [],
   "source": [
    "bright_or_not('natural_light_room_2.jpeg')"
   ]
  },
  {
   "cell_type": "code",
   "execution_count": 7,
   "metadata": {},
   "outputs": [
    {
     "data": {
      "text/html": [
       "<div>\n",
       "<style scoped>\n",
       "    .dataframe tbody tr th:only-of-type {\n",
       "        vertical-align: middle;\n",
       "    }\n",
       "\n",
       "    .dataframe tbody tr th {\n",
       "        vertical-align: top;\n",
       "    }\n",
       "\n",
       "    .dataframe thead th {\n",
       "        text-align: right;\n",
       "    }\n",
       "</style>\n",
       "<table border=\"1\" class=\"dataframe\">\n",
       "  <thead>\n",
       "    <tr style=\"text-align: right;\">\n",
       "      <th></th>\n",
       "      <th>asdf</th>\n",
       "      <th>sdf</th>\n",
       "    </tr>\n",
       "  </thead>\n",
       "  <tbody>\n",
       "    <tr>\n",
       "      <th>0</th>\n",
       "      <td>1.0</td>\n",
       "      <td>2.0</td>\n",
       "    </tr>\n",
       "  </tbody>\n",
       "</table>\n",
       "</div>"
      ],
      "text/plain": [
       "   asdf  sdf\n",
       "0   1.0  2.0"
      ]
     },
     "execution_count": 7,
     "metadata": {},
     "output_type": "execute_result"
    }
   ],
   "source": [
    "import pandas as pd\n",
    "\n",
    "def test(df):\n",
    "    df = df.append({'asdf':1, 'sdf':2}, ignore_index=True)\n",
    "    return(df)\n",
    "\n",
    "dff = pd.DataFrame()\n",
    "test(dff)"
   ]
  },
  {
   "cell_type": "code",
   "execution_count": 10,
   "metadata": {},
   "outputs": [],
   "source": [
    "def bright_or_not2(img_name):\n",
    "    # returns the fraction of bright pixels\n",
    "    import cv2\n",
    "    import numpy as np\n",
    "    import pandas as pd\n",
    "    nr_pixels_white = 0\n",
    "    \n",
    "    img = cv2.imread(img_name)\n",
    "    gray = cv2.cvtColor(img,cv2.COLOR_BGR2GRAY)\n",
    "    retval, threshold1 = cv2.threshold(gray, 170, 255, cv2.THRESH_BINARY)\n",
    "    cv2.imshow('title',threshold1)\n",
    "\n",
    "    # set 255 to 1\n",
    "    threshold1[threshold1==255] = 1\n",
    "    nr_pixels_white = threshold1.sum()\n",
    "    nr_pixels    = threshold1.shape[0]*threshold1.shape[1]\n",
    "\n",
    "    brightness = nr_pixels_white / nr_pixels\n",
    "\n",
    "    print(img_name+' Brightness = ' + str(brightness))\n",
    "    \n",
    "    #put it in a dataframe\n",
    "    df1 = df.append({'file_name':img_name, 'brightness_score': brightness}, ignore_index = True)\n",
    "    \n",
    "    cv2.waitKey()\n",
    "    return (df)\n"
   ]
  },
  {
   "cell_type": "code",
   "execution_count": 11,
   "metadata": {},
   "outputs": [
    {
     "name": "stdout",
     "output_type": "stream",
     "text": [
      "natural_light_room_1.jpeg Brightness = 0.7367847091932458\n"
     ]
    },
    {
     "ename": "NameError",
     "evalue": "name 'df' is not defined",
     "output_type": "error",
     "traceback": [
      "\u001b[0;31m---------------------------------------------------------------------------\u001b[0m",
      "\u001b[0;31mNameError\u001b[0m                                 Traceback (most recent call last)",
      "\u001b[0;32m<ipython-input-11-22168ce5ee2e>\u001b[0m in \u001b[0;36m<module>\u001b[0;34m\u001b[0m\n\u001b[0;32m----> 1\u001b[0;31m \u001b[0mbright_or_not2\u001b[0m\u001b[0;34m(\u001b[0m\u001b[0;34m'natural_light_room_1.jpeg'\u001b[0m\u001b[0;34m)\u001b[0m\u001b[0;34m\u001b[0m\u001b[0;34m\u001b[0m\u001b[0m\n\u001b[0m",
      "\u001b[0;32m<ipython-input-10-bfcd46b88e78>\u001b[0m in \u001b[0;36mbright_or_not2\u001b[0;34m(img_name)\u001b[0m\n\u001b[1;32m     21\u001b[0m \u001b[0;34m\u001b[0m\u001b[0m\n\u001b[1;32m     22\u001b[0m     \u001b[0;31m#put it in a dataframe\u001b[0m\u001b[0;34m\u001b[0m\u001b[0;34m\u001b[0m\u001b[0;34m\u001b[0m\u001b[0m\n\u001b[0;32m---> 23\u001b[0;31m     \u001b[0mdf1\u001b[0m \u001b[0;34m=\u001b[0m \u001b[0mdf\u001b[0m\u001b[0;34m.\u001b[0m\u001b[0mappend\u001b[0m\u001b[0;34m(\u001b[0m\u001b[0;34m{\u001b[0m\u001b[0;34m'file_name'\u001b[0m\u001b[0;34m:\u001b[0m\u001b[0mimg_name\u001b[0m\u001b[0;34m,\u001b[0m \u001b[0;34m'brightness_score'\u001b[0m\u001b[0;34m:\u001b[0m \u001b[0mbrightness\u001b[0m\u001b[0;34m}\u001b[0m\u001b[0;34m,\u001b[0m \u001b[0mignore_index\u001b[0m \u001b[0;34m=\u001b[0m \u001b[0;32mTrue\u001b[0m\u001b[0;34m)\u001b[0m\u001b[0;34m\u001b[0m\u001b[0;34m\u001b[0m\u001b[0m\n\u001b[0m\u001b[1;32m     24\u001b[0m \u001b[0;34m\u001b[0m\u001b[0m\n\u001b[1;32m     25\u001b[0m     \u001b[0mcv2\u001b[0m\u001b[0;34m.\u001b[0m\u001b[0mwaitKey\u001b[0m\u001b[0;34m(\u001b[0m\u001b[0;34m)\u001b[0m\u001b[0;34m\u001b[0m\u001b[0;34m\u001b[0m\u001b[0m\n",
      "\u001b[0;31mNameError\u001b[0m: name 'df' is not defined"
     ]
    }
   ],
   "source": [
    "bright_or_not2('natural_light_room_1.jpeg')"
   ]
  },
  {
   "cell_type": "code",
   "execution_count": null,
   "metadata": {},
   "outputs": [],
   "source": [
    "df_brightness"
   ]
  },
  {
   "cell_type": "code",
   "execution_count": null,
   "metadata": {},
   "outputs": [],
   "source": []
  }
 ],
 "metadata": {
  "kernelspec": {
   "display_name": "Python 3",
   "language": "python",
   "name": "python3"
  },
  "language_info": {
   "codemirror_mode": {
    "name": "ipython",
    "version": 3
   },
   "file_extension": ".py",
   "mimetype": "text/x-python",
   "name": "python",
   "nbconvert_exporter": "python",
   "pygments_lexer": "ipython3",
   "version": "3.8.1"
  }
 },
 "nbformat": 4,
 "nbformat_minor": 2
}
