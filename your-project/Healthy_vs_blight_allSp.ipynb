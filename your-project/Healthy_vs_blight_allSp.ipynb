{
 "cells": [
  {
   "cell_type": "markdown",
   "metadata": {},
   "source": [
    "We have seen that the model identifying sick pepper leaves works all right as it does the one that identify various apple leaves sickness, but could the model identify the same disease in different species without caring for the species itself?"
   ]
  },
  {
   "cell_type": "markdown",
   "metadata": {},
   "source": [
    "# Import libraries"
   ]
  },
  {
   "cell_type": "code",
   "execution_count": 1,
   "metadata": {},
   "outputs": [],
   "source": [
    "import numpy as np\n",
    "import tensorflow as tf\n",
    "from tensorflow import keras\n",
    "from tensorflow.keras.models import Sequential, save_model, load_model\n",
    "from tensorflow.keras.layers import Activation, Dense, Flatten, BatchNormalization, Conv2D, MaxPool2D\n",
    "from tensorflow.keras.optimizers import Adam\n",
    "from tensorflow.keras.metrics import categorical_crossentropy\n",
    "from tensorflow.keras.preprocessing.image import ImageDataGenerator\n",
    "from sklearn.metrics import confusion_matrix\n",
    "import itertools\n",
    "import os\n",
    "import shutil\n",
    "import random\n",
    "import glob\n",
    "import matplotlib.pyplot as plt\n",
    "import warnings\n",
    "warnings.simplefilter(action = 'ignore', category = FutureWarning)\n",
    "%matplotlib inline"
   ]
  },
  {
   "cell_type": "markdown",
   "metadata": {},
   "source": [
    "# Train, valid, test\n",
    "\n",
    "We need to put together all the photos of the leaves with a bacterial spot and in another folder all the healthy leaves of the species (should we put healthy leaves of species that do not even have that sickness?) "
   ]
  },
  {
   "cell_type": "code",
   "execution_count": 23,
   "metadata": {},
   "outputs": [],
   "source": [
    "Powdery_mildew = ['Cherry', 'Squash']\n",
    "Cercospora = ['Corn']\n",
    "rust =['Corn', 'Apple']\n",
    "blight = ['Corn', 'Grape','Potato','Tomato']\n",
    "\n",
    "healthy = ['Grape', 'Peach', 'Potato', 'Raspberry', 'Soybean', 'Strawberry', 'Tomato','Corn','Cherry','Blueberry']\n",
    "bacterial_spot = ['Peach','Pepper','Tomato']"
   ]
  },
  {
   "cell_type": "raw",
   "metadata": {},
   "source": [
    "# We need to rename all the files so they are properly labeled\n",
    "  \n",
    "# Function to rename multiple files\n",
    "\n",
    "def main():\n",
    "    root = '../Plant_leave_diseases_dataset_with_augmentation/Tomato_Bacterial_spot'\n",
    "    for count, filename in enumerate(os.listdir(root)): \n",
    "        src = root +'/'+ filename \n",
    "        dst =root + \"/Bacterial_spot\" + str(count) + \".jpg\"\n",
    "          \n",
    "        # rename() function will \n",
    "        # rename all the files \n",
    "        os.rename(src, dst) \n",
    "\n",
    "# Driver Code \n",
    "if __name__ == '__main__':\n",
    "    \n",
    "#calling the function\n",
    "    main()"
   ]
  },
  {
   "cell_type": "code",
   "execution_count": 20,
   "metadata": {},
   "outputs": [
    {
     "name": "stdout",
     "output_type": "stream",
     "text": [
      "train:  4178.79\n",
      "valid:  814.05\n",
      "test:  434.16\n"
     ]
    }
   ],
   "source": [
    "# Bacterial spot sum (peach, pepper, tomato) for each bacteria/healthy\n",
    "\n",
    "print('train: ',5427*0.77) #train\n",
    "print('valid: ',5427*0.15) #valid\n",
    "print('test: ',5427*0.08) #test"
   ]
  },
  {
   "cell_type": "code",
   "execution_count": 24,
   "metadata": {},
   "outputs": [
    {
     "data": {
      "text/plain": [
       "10"
      ]
     },
     "execution_count": 24,
     "metadata": {},
     "output_type": "execute_result"
    }
   ],
   "source": [
    "len(healthy)\n",
    "0.4"
   ]
  },
  {
   "cell_type": "code",
   "execution_count": null,
   "metadata": {},
   "outputs": [],
   "source": [
    "#first we need to put all the unhealthy (bacterial_spot) together \n",
    "#and then select from the healthy the same number from each folder so the sum equals\n",
    "#the sum of the unhealthy\n",
    "\n",
    "\n",
    "\n",
    "for i in random.sample(glob.glob('Test3/'))"
   ]
  },
  {
   "cell_type": "code",
   "execution_count": null,
   "metadata": {},
   "outputs": [],
   "source": [
    "# put the data in the appropiate folders (77% train, 15% valid, 8% test)\n",
    "\n",
    "os.chdir('../Test3')\n",
    "if os.path.isdir('train/healthy') is False:\n",
    "    os.makedirs('train/healthy')\n",
    "    os.makedirs('train/Bacterial_spot')\n",
    "    os.makedirs('valid/healthy')\n",
    "    os.makedirs('valid/Bacterial_spot')\n",
    "    os.makedirs('test/healthy')\n",
    "    os.makedirs('test/Bacterial_spot')\n",
    "\n",
    "    for i in random.sample(glob.glob('Test3/healthy*'), 4178):\n",
    "        shutil.move(i, 'train/healthy')      \n",
    "    for i in random.sample(glob.glob('Test3/Bacterial_spot*'), 4178):\n",
    "        shutil.move(i, 'train/unhealthy')\n",
    "    for i in random.sample(glob.glob('Test3/healthy*'), 814):\n",
    "        shutil.move(i, 'valid/healthy')        \n",
    "    for i in random.sample(glob.glob('Test3/Bacterial_spot*'), 814):\n",
    "        shutil.move(i, 'valid/unhealthy')\n",
    "    for i in random.sample(glob.glob('Test3/healthy*'), 434):\n",
    "        shutil.move(i, 'test/healthy')      \n",
    "    for i in random.sample(glob.glob('Test3/Bacterial_spot*'), 434):\n",
    "        shutil.move(i, 'test/unhealthy')\n",
    "\n",
    "os.chdir('../../')\n",
    "\n",
    "# when indicating the number that you want to substract since it is going to move the\n",
    "# files, the number (sum of train, valid and test) needs to be at least the total"
   ]
  },
  {
   "cell_type": "markdown",
   "metadata": {},
   "source": [
    "# Visualise data"
   ]
  },
  {
   "cell_type": "code",
   "execution_count": null,
   "metadata": {},
   "outputs": [],
   "source": []
  },
  {
   "cell_type": "markdown",
   "metadata": {},
   "source": [
    "# Model"
   ]
  },
  {
   "cell_type": "code",
   "execution_count": null,
   "metadata": {},
   "outputs": [],
   "source": []
  },
  {
   "cell_type": "markdown",
   "metadata": {},
   "source": [
    "# Fiting the Model"
   ]
  },
  {
   "cell_type": "code",
   "execution_count": null,
   "metadata": {},
   "outputs": [],
   "source": []
  },
  {
   "cell_type": "markdown",
   "metadata": {},
   "source": [
    "# Predictions + confusion matrix"
   ]
  },
  {
   "cell_type": "code",
   "execution_count": null,
   "metadata": {},
   "outputs": [],
   "source": []
  },
  {
   "cell_type": "markdown",
   "metadata": {},
   "source": [
    "# Saving the model"
   ]
  },
  {
   "cell_type": "code",
   "execution_count": null,
   "metadata": {},
   "outputs": [],
   "source": []
  }
 ],
 "metadata": {
  "kernelspec": {
   "display_name": "Python 3",
   "language": "python",
   "name": "python3"
  },
  "language_info": {
   "codemirror_mode": {
    "name": "ipython",
    "version": 3
   },
   "file_extension": ".py",
   "mimetype": "text/x-python",
   "name": "python",
   "nbconvert_exporter": "python",
   "pygments_lexer": "ipython3",
   "version": "3.6.10"
  },
  "toc": {
   "base_numbering": 1,
   "nav_menu": {},
   "number_sections": true,
   "sideBar": true,
   "skip_h1_title": false,
   "title_cell": "Table of Contents",
   "title_sidebar": "Contents",
   "toc_cell": false,
   "toc_position": {},
   "toc_section_display": true,
   "toc_window_display": true
  }
 },
 "nbformat": 4,
 "nbformat_minor": 4
}
